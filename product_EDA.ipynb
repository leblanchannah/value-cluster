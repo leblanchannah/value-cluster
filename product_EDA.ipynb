{
 "cells": [
  {
   "cell_type": "code",
   "execution_count": 138,
   "id": "9af69552-4bf2-4cc0-a273-b3aaab17cec3",
   "metadata": {},
   "outputs": [],
   "source": [
    "import requests\n",
    "import time\n",
    "import re\n",
    "import pandas as pd\n",
    "from bs4 import BeautifulSoup\n",
    "\n",
    "from typing import List, Tuple, Dict\n",
    "\n",
    "from selenium import webdriver\n",
    "from selenium.webdriver.common.by import By\n",
    "from selenium.webdriver.common.keys import Keys\n",
    "from selenium.webdriver.chrome.service import Service\n",
    "from selenium.webdriver.chrome.options import Options\n"
   ]
  },
  {
   "cell_type": "code",
   "execution_count": 148,
   "id": "896355ca-9e77-4402-8f77-328ee1db1ebe",
   "metadata": {},
   "outputs": [],
   "source": [
    "base_url = 'https://www.sephora.com'\n",
    "crawl_delay=6\n",
    "DRIVER_PATH = '../../chromedriver_mac64/chromedriver'\n",
    "data_dir = \"data/\""
   ]
  },
  {
   "cell_type": "code",
   "execution_count": 140,
   "id": "0e44aff2-2dde-4d3e-bdff-3b28d9bd3278",
   "metadata": {},
   "outputs": [],
   "source": [
    "def get_sku(soup) -> str:\n",
    "    \"\"\"\n",
    "    Returns sku code from product page in format 'Item #######'\n",
    "    \"\"\"\n",
    "    return soup.find('p', attrs={'data-at':'item-sku'}).text    \n",
    "\n",
    "\n",
    "def get_breadcrumb_categories(soup) -> List:\n",
    "    \"\"\"\n",
    "    Returns list of categorical values used to describe product in header of product page\n",
    "        for ex. ['Skincare','Moisturizer']\n",
    "    \"\"\"\n",
    "    return [x.text for x in soup.find('nav', attrs={'data-comp':\"ProductBreadCrumbs BreadCrumbs BreadCrumbs \"}).findAll('li')]\n",
    "\n",
    "\n",
    "def get_brand_name(soup) -> str:\n",
    "    \"\"\"\n",
    "    Returns product brand name from product page\n",
    "    \"\"\"\n",
    "    return soup.find(\"a\", attrs={'data-at':\"brand_name\"}).text\n",
    "\n",
    "\n",
    "def get_product_name(soup) -> str:\n",
    "    \"\"\"\n",
    "    Returns product name as written on product page\n",
    "    \"\"\"\n",
    "    return soup.find(\"span\", attrs={'data-at':\"product_name\"}).text\n",
    "\n",
    "\n",
    "def get_num_loves(soup) -> str:\n",
    "    \"\"\"\n",
    "    Returns number of 'love' votes for product\n",
    "        loves seem to be used to track product frequently repurchased\n",
    "    \"\"\"\n",
    "    return soup.find(\"div\", attrs={\"data-comp\": \"LovesCount \"}).span.text\n",
    "\n",
    "\n",
    "def get_ingredients(soup) -> str:\n",
    "    \"\"\"\n",
    "    Returns full ingredient list as blob of text\n",
    "    \"\"\"\n",
    "    return soup.find_all(\"div\", {\"id\": \"ingredients\"})[0].text\n",
    "\n",
    "\n",
    "def get_rating_data(soup) -> Tuple[str, str]:\n",
    "    \"\"\"\n",
    "        Sephora product page displays a 1-5 bar histogram of votes but it is difficult to retrieve the histogram data\n",
    "        ******might be able to figure this out later\n",
    "        Returns star rating and number of reviews as tuple\n",
    "    \"\"\"\n",
    "    rr_container = soup.find(\"a\", {\"href\": \"#ratings-reviews-container\"})\n",
    "    star_rating = rr_container.find(\"span\", {\"data-comp\":\"StarRating \"})['aria-label']\n",
    "    num_reviews = rr_container.text\n",
    "    return star_rating, num_reviews\n",
    "    \n",
    "    \n",
    "def get_product_buttons(soup) -> Dict:\n",
    "    \"\"\"\n",
    "    Products with mutliple size options will have different volume - price options\n",
    "    Returns all product options with class value included\n",
    "        Class is used to click buttons with selenium to fetch price for each option\n",
    "    \"\"\"\n",
    "    size_options = []\n",
    "    for prod_option in soup.find_all(\"div\", attrs={\"data-comp\":\"SwatchGroup \"}):\n",
    "        selected = {}\n",
    "        selected[\"name\"] = prod_option.find(\"p\").text\n",
    "        selected[\"size\"] = prod_option.button()[0].text\n",
    "        selected[\"class\"] = prod_option.find(\"button\")['class'][0]\n",
    "        size_options.append(selected)\n",
    "    return size_options\n",
    "\n",
    "\n",
    "def get_all_brands(soup):\n",
    "    \"\"\"\n",
    "    \"\"\"\n",
    "    # collecting brand names and links from brand list page \n",
    "    brand_data = []\n",
    "    for brand_link in soup.findAll('a', attrs={\"data-at\": \"brand_link\"}):\n",
    "        brand = {}\n",
    "        brand['name'] = brand_link.span.text\n",
    "        brand['link'] = brand_link.get('href') \n",
    "        brand_data.append(brand)\n",
    "    return brand_data\n",
    "\n",
    "\n",
    "def get_brand_products():\n",
    "    \"\"\"\n",
    "    \"\"\"\n",
    "    return None"
   ]
  },
  {
   "cell_type": "code",
   "execution_count": 142,
   "id": "5755e0eb-4a14-4351-b051-07e38723759c",
   "metadata": {},
   "outputs": [],
   "source": [
    "options = Options()\n",
    "options.headless = True\n",
    "options.add_argument(\"--window-size=1920,1200\")\n",
    "options.add_argument('--disable-gpu')\n",
    "options.add_argument('--no-sandbox')\n",
    "options.add_experimental_option(\"excludeSwitches\", [\"enable-automation\"])\n",
    "options.add_experimental_option('useAutomationExtension', False)\n",
    "user_agent = 'Mozilla/5.0 (X11; Linux x86_64) AppleWebKit/537.36 (KHTML, like Gecko) Chrome/60.0.3112.50 Safari/537.36'\n",
    "options.add_argument('user-agent={0}'.format(user_agent))\n",
    "\n",
    "\n",
    "# collecting brand names and links from brand list page \n",
    "driver = webdriver.Chrome(options=options, executable_path=DRIVER_PATH)\n",
    "url = \"https://www.sephora.com/ca/en/brands-list\"\n",
    "driver.get(url)\n",
    "soup = BeautifulSoup(driver.page_source, 'html.parser')\n",
    "driver.quit()\n",
    "brand_data = get_all_brands(soup)\n",
    "# save brands \n",
    "pd.DataFrame(brand_data).to_csv(data_dir+'brand_list.csv', index=False)\n",
    "\n",
    "\n",
    "\n",
    "test_counter = 0\n",
    "# # for each brand, grab products on brand page, save products as list of links \n",
    "# # need to fix lazy loading issue with selenium\n",
    "# for brand in brand_data:\n",
    "#     url = base_url+brand['link']\n",
    "#     driver = webdriver.Chrome(options=options, executable_path=DRIVER_PATH)\n",
    "#     driver.get(url)\n",
    "#     soup = BeautifulSoup(driver.page_source, 'html.parser')\n",
    "#     driver.quit()\n",
    "#     product_tiles = soup.find_all(attrs={\"data-comp\":\"ProductTile \"})\n",
    "#     brand['products'] = [product.get(\"href\").split(\" \")[0] for product in product_tiles]\n",
    "#     time.sleep(crawl_delay)\n",
    "#     test_counter +=1\n",
    "#     if test_counter > 3:\n",
    "#         break\n"
   ]
  },
  {
   "cell_type": "code",
   "execution_count": 171,
   "id": "20a0ef8a-2a67-421e-b8d1-d8e4b87367f1",
   "metadata": {},
   "outputs": [
    {
     "name": "stdout",
     "output_type": "stream",
     "text": [
      "last height 7778\n",
      "new height 11459\n",
      "new height 11513\n",
      "new height 11513\n"
     ]
    }
   ],
   "source": [
    "# test to see if all products are captured\n",
    "url = 'https://www.sephora.com/ca/en/brand/charlotte-tilbury'\n",
    "driver = webdriver.Chrome(options=options, executable_path=DRIVER_PATH)\n",
    "driver.get(url)\n",
    "\n",
    "#https://stackoverflow.com/questions/20986631/how-can-i-scroll-a-web-page-using-selenium-webdriver-in-python\n",
    "SCROLL_PAUSE_TIME = 0.5\n",
    "driver.find_element(By.XPATH, \"//button[@class='css-bk5oor eanm77i0']\").click()\n",
    "# Get scroll height\n",
    "last_height = driver.execute_script(\"return document.body.scrollHeight\")\n",
    "print(\"last height\", last_height)\n",
    "while True:\n",
    "    # Scroll down to bottom\n",
    "    driver.execute_script(\"window.scrollTo(0, document.body.scrollHeight);\")\n",
    "\n",
    "    # Wait to load page\n",
    "    time.sleep(SCROLL_PAUSE_TIME)\n",
    "\n",
    "    # Calculate new scroll height and compare with last scroll height\n",
    "    new_height = driver.execute_script(\"return document.body.scrollHeight\")\n",
    "    print(\"new height\", new_height)\n",
    "    \n",
    "    if new_height == last_height:\n",
    "        break\n",
    "    last_height = new_height\n",
    "\n",
    "# Show More Products\n",
    "soup = BeautifulSoup(driver.page_source, 'html.parser')\n",
    "# need to scroll to bottom and click see more products if it exists\n",
    "driver.quit()\n",
    "product_tiles = soup.find_all(attrs={\"data-comp\":\"ProductTile \"})\n",
    "lazy_product_tiles = soup.find_all(attrs={\"data-comp\":\"LazyLoad ProductTile \"})\n",
    "\n",
    "product_links = [product.get(\"href\").split(\" \")[0] for product in lazy_product_tiles]\n",
    "product_links.extend([product.get(\"href\").split(\" \")[0] for product in product_tiles])"
   ]
  },
  {
   "cell_type": "code",
   "execution_count": 172,
   "id": "465fc332-7802-4965-81d5-a4299fc85c0b",
   "metadata": {},
   "outputs": [
    {
     "data": {
      "text/plain": [
       "['https://www.sephora.com/ca/en/product/superstar-lips-lipstick-P446610?skuId=2369080&icid2=products',\n",
       " 'https://www.sephora.com/ca/en/product/charlotte-tilbury-beautiful-skin-medium-coverage-liquid-foundation-with-hyaluronic-acid-P480286?skuId=2551398&icid2=products',\n",
       " 'https://www.sephora.com/ca/en/product/charlotte-tilbury-jewel-lip-gloss-P462843?skuId=2368520&icid2=products',\n",
       " 'https://www.sephora.com/ca/en/product/luxury-eyeshadow-palette-P433523?skuId=2102572&icid2=products',\n",
       " 'https://www.sephora.com/ca/en/product/charlotte-tilbury-iconic-nude-easy-eye-palette-P461433?skuId=2382885&icid2=products',\n",
       " 'https://www.sephora.com/ca/en/product/hot-lips-lipstick-2-0-P446609?skuId=2244564&icid2=products',\n",
       " 'https://www.sephora.com/ca/en/product/charlotte-tilbury-airbrush-flawless-setting-spray-P461147?skuId=2368439&icid2=products',\n",
       " 'https://www.sephora.com/ca/en/product/charlotte-tilbury-magic-serum-secrets-P477970?skuId=2490498&icid2=products',\n",
       " 'https://www.sephora.com/ca/en/product/charlotte-tilbury-mini-pillow-talk-push-up-lashes-mascara-P462842?skuId=2368504&icid2=products',\n",
       " 'https://www.sephora.com/ca/en/product/collagen-superfusion-firming-plumping-facial-oil-P500248?skuId=2551950&icid2=products',\n",
       " 'https://www.sephora.com/ca/en/product/charlotte-tilbury-airbrush-lip-blur-P506239?skuId=2670115&icid2=products',\n",
       " 'https://www.sephora.com/ca/en/product/charlotte-tilbury-eye-color-magic-matte-metallic-double-pencil-liner-P456368?skuId=2404069&icid2=products',\n",
       " 'https://www.sephora.com/ca/en/product/charlotte-tilbury-darling-eyeshadow-palette-P454046?skuId=2307825&icid2=products',\n",
       " 'https://www.sephora.com/ca/en/product/wonderglow-face-primer-P434004?skuId=2117133&icid2=products',\n",
       " 'https://www.sephora.com/ca/en/product/unisex-healthy-glow-P433525?skuId=2117190&icid2=products',\n",
       " 'https://www.sephora.com/ca/en/product/daily-glow-toner-with-niacinamide-P500753?skuId=2569390&icid2=products',\n",
       " 'https://www.sephora.com/ca/en/product/charlotte-tilbury-tinted-love-lip-cheek-stain-look-love-collection-P472457?skuId=2350791&icid2=products',\n",
       " 'https://www.sephora.com/ca/en/product/the-classic-eye-powder-pencil-P434010?skuId=2360816&icid2=products',\n",
       " 'https://www.sephora.com/ca/en/product/pencil-sharpener-P434528?skuId=2117265&icid2=products',\n",
       " 'https://www.sephora.com/ca/en/product/take-it-all-off-bi-phase-longwear-makeup-remover-for-eyes-lashes-lips-P502248?skuId=2596542&icid2=products',\n",
       " 'https://www.sephora.com/ca/en/product/magic-eye-rescue-cream-P433521?skuId=2486223&icid2=products',\n",
       " 'https://www.sephora.com/ca/en/product/charlotte-tilbury-eyeliner-pillow-talk-collection-P454505?skuId=2309433&icid2=products',\n",
       " 'https://www.sephora.com/ca/en/product/mini-take-it-all-off-bi-phase-longwear-makeup-remover-for-eyes-lashes-lips-P502261?skuId=2596559&icid2=products',\n",
       " 'https://www.sephora.com/ca/en/product/charlotte-tilbury-beautiful-skin-bronzing-brush-P502603?skuId=2583425&icid2=products',\n",
       " 'https://www.sephora.com/ca/en/product/charlotte-tilbury-k-i-s-s-i-n-g-lipstick-look-love-collection-P472458?skuId=2432854&icid2=products',\n",
       " 'https://www.sephora.com/ca/en/product/legendary-lashes-volume-2-mascara-P434012?skuId=2138816&icid2=products',\n",
       " 'https://www.sephora.com/ca/en/product/charlotte-tilbury-cryo-recovery-lifting-face-mask-with-acupressure-technology-P476842?skuId=2486322&icid2=products',\n",
       " 'https://www.sephora.com/ca/en/product/charlotte-tilbury-cheek-to-chic-blush-pillow-talk-collection-P454506?skuId=2309425&icid2=products',\n",
       " 'https://www.sephora.com/ca/en/product/full-fat-lashes-mascara-P433529?skuId=2102556&icid2=products',\n",
       " 'https://www.sephora.com/ca/en/product/brow-lift-eyebrow-pencil-P433863?skuId=2432466&icid2=products',\n",
       " 'https://www.sephora.com/ca/en/product/charlotte-tilbury-refillable-jumbo-magic-cream-moisturizer-with-hyaluronic-acid-P477812?skuId=2486298&icid2=products',\n",
       " 'https://www.sephora.com/ca/en/product/filmstar-bronze-glow-contour-duoP433528?skuId=2115939&icid2=products',\n",
       " 'https://www.sephora.com/ca/en/product/charlotte-tilbury-brow-fix-brow-gel-P470208?skuId=2432821&icid2=products',\n",
       " 'https://www.sephora.com/ca/en/product/charlotte-tilbury-matte-revolution-lipstick-look-love-collection-P471749?skuId=2432888&icid2=products',\n",
       " 'https://www.sephora.com/ca/en/product/charlotte-tilbury-charlotte-s-magic-lip-oil-crystal-elixir-P459260?skuId=2368173&icid2=products',\n",
       " 'https://www.sephora.com/ca/en/product/charlotte-tilbury-superstar-lips-lipstick-pillow-talk-collection-P455322?skuId=2244606&icid2=products',\n",
       " 'https://www.sephora.com/ca/en/product/charlotte-tilbury-cryo-recovery-depuffing-eye-serum-P476843?skuId=2486314&icid2=products',\n",
       " 'https://www.sephora.com/ca/en/product/brightening-youth-glow-primer-P434527?skuId=2117141&icid2=products',\n",
       " 'https://www.sephora.com/ca/en/product/charlotte-tilbury-collagen-lip-bath-gloss-walk-no-shame-collection-P462847?skuId=2368561&icid2=products',\n",
       " 'https://www.sephora.com/ca/en/product/charlotte-tilbury-eye-liner-walk-no-shame-collection-P462846?skuId=2368488&icid2=products',\n",
       " 'https://www.sephora.com/ca/en/product/mini-goddess-clay-mask-15ml-travel-size-P451728?skuId=2295491&icid2=products',\n",
       " 'https://www.sephora.com/ca/en/product/charlotte-tilbury-mini-lightweight-magic-cream-moisturizer-P463270?skuId=2356194&icid2=products',\n",
       " 'https://www.sephora.com/ca/en/product/mini-magic-night-15ml-travel-size-P451727?skuId=2295475&icid2=products']"
      ]
     },
     "execution_count": 172,
     "metadata": {},
     "output_type": "execute_result"
    }
   ],
   "source": [
    "product_links"
   ]
  },
  {
   "cell_type": "code",
   "execution_count": 105,
   "id": "c927e6e5-42e0-479d-b769-f1676b070a16",
   "metadata": {},
   "outputs": [
    {
     "name": "stdout",
     "output_type": "stream",
     "text": [
      "{'url': 'https://www.sephora.com/ca/en/product/peonia-nobile-P413669?skuId=2219483&icid2=products'}\n",
      "{'url': 'https://www.sephora.com/ca/en/product/rosa-nobile-P388670?skuId=2044774&icid2=products'}\n",
      "{'url': 'https://www.sephora.com/ca/en/product/acqua-di-parma-sakura-P456549?skuId=2339703&icid2=products'}\n",
      "{'url': 'https://www.sephora.com/ca/en/product/blu-mediterraneo-fico-di-amalfi-P307801?skuId=2223428&icid2=products'}\n",
      "{'url': 'https://www.sephora.com/ca/en/product/acqua-di-parma-yuzu-P456550?skuId=2339687&icid2=products'}\n",
      "{'url': 'https://www.sephora.com/ca/en/product/adwoa-beauty-melon-berry-leave-in-conditioner-P481372?skuId=2538536&icid2=products'}\n",
      "{'url': 'https://www.sephora.com/ca/en/product/adwoa-beauty-melonberry-vitamin-c-frizz-fighting-hair-gel-P505476?skuId=2679439&icid2=products'}\n",
      "{'url': 'https://www.sephora.com/ca/en/product/adwoa-beauty-blue-tansy-leave-in-conditioning-styler-P474808?skuId=2466761&icid2=products'}\n",
      "{'url': 'https://www.sephora.com/ca/en/product/adwoa-beauty-baomint-moisturizing-shampoo-P457234?skuId=2350916&icid2=products'}\n",
      "{'url': 'https://www.sephora.com/ca/en/product/adwoa-beauty-blue-tansy-reparative-conditioner-P474805?skuId=2481554&icid2=products'}\n",
      "{'url': 'https://www.sephora.com/ca/en/product/amber-musk-P388770?skuId=1639228&icid2=products'}\n",
      "{'url': 'https://www.sephora.com/ca/en/product/aerin-perfume-wild-geranium-travel-spray-P454826?skuId=2317907&icid2=products'}\n",
      "{'url': 'https://www.sephora.com/ca/en/product/tangier-vanille-P410846?skuId=1855626&icid2=products'}\n",
      "{'url': 'https://www.sephora.com/ca/en/product/hibiscus-palm-P428454?skuId=2039121&icid2=products'}\n",
      "{'url': 'https://www.sephora.com/ca/en/product/ikat-jasmine-P388762?skuId=1738582&icid2=products'}\n",
      "{'url': 'https://www.sephora.com/ca/en/product/10-day-results-kit-P500716?skuId=2534253&icid2=products'}\n",
      "{'url': 'https://www.sephora.com/ca/en/product/pure-genius-collection-kit-P425424?skuId=1985068&icid2=products'}\n",
      "{'url': 'https://www.sephora.com/ca/en/product/algenist-genius-liquid-skin-resurfacing-toner-P480274?skuId=2527075&icid2=products'}\n",
      "{'url': 'https://www.sephora.com/ca/en/product/genius-liquid-collagen-lip-P432045?skuId=2573491&icid2=products'}\n",
      "{'url': 'https://www.sephora.com/ca/en/product/genius-collagen-nourishing-lip-balm-P501322?skuId=2612299&icid2=products'}\n"
     ]
    },
    {
     "ename": "KeyError",
     "evalue": "'products'",
     "output_type": "error",
     "traceback": [
      "\u001b[0;31m---------------------------------------------------------------------------\u001b[0m",
      "\u001b[0;31mKeyError\u001b[0m                                  Traceback (most recent call last)",
      "Cell \u001b[0;32mIn[105], line 3\u001b[0m\n\u001b[1;32m      1\u001b[0m \u001b[38;5;28;01mfor\u001b[39;00m brand \u001b[38;5;129;01min\u001b[39;00m brand_data: \n\u001b[1;32m      2\u001b[0m     product_data \u001b[38;5;241m=\u001b[39m []    \n\u001b[0;32m----> 3\u001b[0m     \u001b[38;5;28;01mfor\u001b[39;00m url \u001b[38;5;129;01min\u001b[39;00m brand[\u001b[38;5;124m\"\u001b[39m\u001b[38;5;124mproducts\u001b[39m\u001b[38;5;124m\"\u001b[39m]:\n\u001b[1;32m      4\u001b[0m         time\u001b[38;5;241m.\u001b[39msleep(crawl_delay)\n\u001b[1;32m      6\u001b[0m         \u001b[38;5;66;03m# url = 'https://www.sephora.com/ca/en/product/charlotte-tilbury-airbrush-flawless-setting-spray-P461147?skuId=2368439&icid2=products%20grid:p461147:product'\u001b[39;00m\n",
      "\u001b[0;31mKeyError\u001b[0m: 'products'"
     ]
    }
   ],
   "source": [
    "# value kits will need to be separate or excluded...\n",
    "\n",
    "for brand in brand_data: \n",
    "    product_data = []    \n",
    "    for url in brand[\"products\"]:\n",
    "        time.sleep(crawl_delay)\n",
    "\n",
    "        # url = 'https://www.sephora.com/ca/en/product/charlotte-tilbury-airbrush-flawless-setting-spray-P461147?skuId=2368439&icid2=products%20grid:p461147:product'\n",
    "        product = {}\n",
    "        product[\"url\"] = url\n",
    "\n",
    "        # get class names of buttons and grab prices with selenium \n",
    "        driver = webdriver.Chrome(options=options, executable_path=DRIVER_PATH)\n",
    "        driver.get(url)\n",
    "        soup = BeautifulSoup(driver.page_source, 'html.parser')\n",
    "\n",
    "        option_buttons = get_product_buttons(soup)\n",
    "        for button_info in option_buttons:\n",
    "            button_element = driver.find_element(By.XPATH, \"//button[@class='\"+button_info['class']+\"']\")\n",
    "            button_element.click()\n",
    "            button_info['price'] = driver.find_element(By.XPATH, \"//b[@class='css-0']\").text\n",
    "\n",
    "        driver.quit()\n",
    "        print(product)\n",
    "        if soup.find_all('h1') is not None and soup.find('h1').text != 'Sorry, this product is not available.':\n",
    "            product[\"product_name\"] = get_product_name(soup)\n",
    "            product[\"brand_name\"] = get_brand_name(soup)\n",
    "            product[\"options\"] = option_buttons\n",
    "            # product[\"description\"] = get_description(soup)\n",
    "            product[\"rating\"], product[\"n_reviews\"] = get_rating_data(soup)\n",
    "            product[\"ingredients\"] = get_ingredients(soup)\n",
    "            product[\"n_loves\"] = get_num_loves(soup)\n",
    "            product[\"categories\"] = get_breadcrumb_categories(soup)\n",
    "            product_data.append(product)\n",
    "            brand['product_data'] = product_data\n",
    "            brand['sku'] = get_sku(soup)"
   ]
  },
  {
   "cell_type": "code",
   "execution_count": 106,
   "id": "3c43ccd8-7910-45a4-a400-b3077ae94e99",
   "metadata": {},
   "outputs": [
    {
     "data": {
      "text/plain": [
       "{'name': 'ALTERNA Haircare', 'link': '/ca/en/brand/alterna'}"
      ]
     },
     "execution_count": 106,
     "metadata": {},
     "output_type": "execute_result"
    }
   ],
   "source": [
    "brand"
   ]
  },
  {
   "cell_type": "code",
   "execution_count": 126,
   "id": "455b42b8-d94c-43d7-a20d-6c36d9e99acc",
   "metadata": {
    "tags": []
   },
   "outputs": [
    {
     "data": {
      "text/plain": [
       "256"
      ]
     },
     "execution_count": 126,
     "metadata": {},
     "output_type": "execute_result"
    }
   ],
   "source": [
    "len(brand_data)"
   ]
  },
  {
   "cell_type": "code",
   "execution_count": null,
   "id": "e06ac5ab-39ba-4568-afac-ce4dfe35b68f",
   "metadata": {},
   "outputs": [],
   "source": []
  }
 ],
 "metadata": {
  "kernelspec": {
   "display_name": "Python 3 (ipykernel)",
   "language": "python",
   "name": "python3"
  },
  "language_info": {
   "codemirror_mode": {
    "name": "ipython",
    "version": 3
   },
   "file_extension": ".py",
   "mimetype": "text/x-python",
   "name": "python",
   "nbconvert_exporter": "python",
   "pygments_lexer": "ipython3",
   "version": "3.11.3"
  }
 },
 "nbformat": 4,
 "nbformat_minor": 5
}
