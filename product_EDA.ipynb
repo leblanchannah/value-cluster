{
 "cells": [
  {
   "cell_type": "code",
   "execution_count": 12,
   "id": "9af69552-4bf2-4cc0-a273-b3aaab17cec3",
   "metadata": {},
   "outputs": [],
   "source": [
    "import requests\n",
    "\n",
    "from bs4 import BeautifulSoup\n",
    "from selenium import webdriver\n",
    "from selenium.webdriver.common.by import By\n",
    "from selenium.webdriver.common.keys import Keys\n",
    "from selenium.webdriver.chrome.service import Service\n",
    "from selenium.webdriver.chrome.options import Options\n",
    "import pandas as pd\n",
    "\n",
    "import time\n",
    "import re"
   ]
  },
  {
   "cell_type": "code",
   "execution_count": 2,
   "id": "896355ca-9e77-4402-8f77-328ee1db1ebe",
   "metadata": {},
   "outputs": [],
   "source": [
    "base_url = 'https://www.sephora.com'\n",
    "crawl_delay=6\n",
    "\n",
    "\n",
    "DRIVER_PATH = '../../chromedriver_mac64/chromedriver'"
   ]
  },
  {
   "cell_type": "code",
   "execution_count": 83,
   "id": "0e44aff2-2dde-4d3e-bdff-3b28d9bd3278",
   "metadata": {},
   "outputs": [],
   "source": [
    "def get_sku(soup):\n",
    "    # need to add this in\n",
    "    return soup.find('p', attrs={'data-at':'item-sku'}).text    \n",
    "\n",
    "def get_breadcrumb_categories(soup):\n",
    "    \"\"\"\n",
    "    \"\"\"\n",
    "    return [x.text for x in soup.find('nav', attrs={'data-comp':\"ProductBreadCrumbs BreadCrumbs BreadCrumbs \"}).findAll('li')]\n",
    "\n",
    "def get_brand_name(soup):\n",
    "    return soup.find(\"a\", attrs={'data-at':\"brand_name\"}).text\n",
    "\n",
    "def get_product_name(soup):\n",
    "    return soup.find(\"span\", attrs={'data-at':\"product_name\"}).text\n",
    "\n",
    "def get_num_loves(soup):\n",
    "    \"\"\"\n",
    "    \"\"\"\n",
    "    return soup.find(\"div\", attrs={\"data-comp\": \"LovesCount \"}).span.text\n",
    "\n",
    "def get_ingredients(soup):\n",
    "    \"\"\"\n",
    "    \"\"\"\n",
    "    # inside of div in id='ingredients'\n",
    "    return soup.find_all(\"div\", {\"id\": \"ingredients\"})[0].text\n",
    "\n",
    "\n",
    "def get_rating_data(soup):\n",
    "    \"\"\"\n",
    "        difficult to get full histogram data\n",
    "        can get summary stats\n",
    "        \n",
    "    \"\"\"\n",
    "    rr_container = soup.find(\"a\", {\"href\": \"#ratings-reviews-container\"})\n",
    "    star_rating = rr_container.find(\"span\", {\"data-comp\":\"StarRating \"})['aria-label']\n",
    "    num_reviews = rr_container.text\n",
    "    return star_rating, num_reviews\n",
    "    \n",
    "def get_product_buttons(soup):\n",
    "    \"\"\"\n",
    "    \"\"\"\n",
    "    size_options = []\n",
    "    for prod_option in soup.find_all(\"div\", attrs={\"data-comp\":\"SwatchGroup \"}):\n",
    "        selected = {}\n",
    "        selected[\"name\"] = prod_option.find(\"p\").text\n",
    "        selected[\"size\"] = prod_option.button()[0].text\n",
    "        selected[\"class\"] = prod_option.find(\"button\")['class'][0]\n",
    "        size_options.append(selected)\n",
    "    return size_options\n",
    "\n",
    "    \n",
    "# def get_description(soup):\n",
    "#     \"\"\"\n",
    "#     \"\"\"\n",
    "#     return soup.find('div', attrs={'class':'eanm77i0'})\n",
    "        \n",
    "\n",
    "\n"
   ]
  },
  {
   "cell_type": "code",
   "execution_count": 91,
   "id": "5755e0eb-4a14-4351-b051-07e38723759c",
   "metadata": {},
   "outputs": [],
   "source": [
    "options = Options()\n",
    "options.headless = True\n",
    "options.add_argument(\"--window-size=1920,1200\")\n",
    "options.add_argument('--disable-gpu')\n",
    "options.add_argument('--no-sandbox')\n",
    "options.add_experimental_option(\"excludeSwitches\", [\"enable-automation\"])\n",
    "options.add_experimental_option('useAutomationExtension', False)\n",
    "\n",
    "user_agent = 'Mozilla/5.0 (X11; Linux x86_64) AppleWebKit/537.36 (KHTML, like Gecko) Chrome/60.0.3112.50 Safari/537.36'\n",
    "options.add_argument('user-agent={0}'.format(user_agent))\n",
    "driver = webdriver.Chrome(options=options, executable_path=DRIVER_PATH)\n",
    "url = \"https://www.sephora.com/ca/en/brands-list\"\n",
    "driver.get(url)\n",
    "soup = BeautifulSoup(driver.page_source, 'html.parser')\n",
    "driver.quit()\n",
    "\n",
    "# collecting brand names and links from brand list page \n",
    "brand_data = []\n",
    "for brand_link in soup.findAll('a', attrs={\"data-at\": \"brand_link\"}):\n",
    "    brand = {}\n",
    "    brand['name'] = brand_link.span.text\n",
    "    brand['link'] = brand_link.get('href') \n",
    "    brand_data.append(brand)\n",
    "\n",
    "test_counter = 0\n",
    "# for each brand, grab products on brand page, save products as list of links \n",
    "for brand in brand_data:\n",
    "    url = base_url+brand['link']\n",
    "    driver = webdriver.Chrome(options=options, executable_path=DRIVER_PATH)\n",
    "    driver.get(url)\n",
    "    soup = BeautifulSoup(driver.page_source, 'html.parser')\n",
    "    driver.quit()\n",
    "    product_tiles = soup.find_all(attrs={\"data-comp\":\"ProductTile \"})\n",
    "    brand['products'] = [product.get(\"href\").split(\" \")[0] for product in product_tiles]\n",
    "    time.sleep(crawl_delay)\n",
    "    test_counter +=1\n",
    "    if test_counter > 3:\n",
    "        break\n"
   ]
  },
  {
   "cell_type": "code",
   "execution_count": 105,
   "id": "c927e6e5-42e0-479d-b769-f1676b070a16",
   "metadata": {},
   "outputs": [
    {
     "name": "stdout",
     "output_type": "stream",
     "text": [
      "{'url': 'https://www.sephora.com/ca/en/product/peonia-nobile-P413669?skuId=2219483&icid2=products'}\n",
      "{'url': 'https://www.sephora.com/ca/en/product/rosa-nobile-P388670?skuId=2044774&icid2=products'}\n",
      "{'url': 'https://www.sephora.com/ca/en/product/acqua-di-parma-sakura-P456549?skuId=2339703&icid2=products'}\n",
      "{'url': 'https://www.sephora.com/ca/en/product/blu-mediterraneo-fico-di-amalfi-P307801?skuId=2223428&icid2=products'}\n",
      "{'url': 'https://www.sephora.com/ca/en/product/acqua-di-parma-yuzu-P456550?skuId=2339687&icid2=products'}\n",
      "{'url': 'https://www.sephora.com/ca/en/product/adwoa-beauty-melon-berry-leave-in-conditioner-P481372?skuId=2538536&icid2=products'}\n",
      "{'url': 'https://www.sephora.com/ca/en/product/adwoa-beauty-melonberry-vitamin-c-frizz-fighting-hair-gel-P505476?skuId=2679439&icid2=products'}\n",
      "{'url': 'https://www.sephora.com/ca/en/product/adwoa-beauty-blue-tansy-leave-in-conditioning-styler-P474808?skuId=2466761&icid2=products'}\n",
      "{'url': 'https://www.sephora.com/ca/en/product/adwoa-beauty-baomint-moisturizing-shampoo-P457234?skuId=2350916&icid2=products'}\n",
      "{'url': 'https://www.sephora.com/ca/en/product/adwoa-beauty-blue-tansy-reparative-conditioner-P474805?skuId=2481554&icid2=products'}\n",
      "{'url': 'https://www.sephora.com/ca/en/product/amber-musk-P388770?skuId=1639228&icid2=products'}\n",
      "{'url': 'https://www.sephora.com/ca/en/product/aerin-perfume-wild-geranium-travel-spray-P454826?skuId=2317907&icid2=products'}\n",
      "{'url': 'https://www.sephora.com/ca/en/product/tangier-vanille-P410846?skuId=1855626&icid2=products'}\n",
      "{'url': 'https://www.sephora.com/ca/en/product/hibiscus-palm-P428454?skuId=2039121&icid2=products'}\n",
      "{'url': 'https://www.sephora.com/ca/en/product/ikat-jasmine-P388762?skuId=1738582&icid2=products'}\n",
      "{'url': 'https://www.sephora.com/ca/en/product/10-day-results-kit-P500716?skuId=2534253&icid2=products'}\n",
      "{'url': 'https://www.sephora.com/ca/en/product/pure-genius-collection-kit-P425424?skuId=1985068&icid2=products'}\n",
      "{'url': 'https://www.sephora.com/ca/en/product/algenist-genius-liquid-skin-resurfacing-toner-P480274?skuId=2527075&icid2=products'}\n",
      "{'url': 'https://www.sephora.com/ca/en/product/genius-liquid-collagen-lip-P432045?skuId=2573491&icid2=products'}\n",
      "{'url': 'https://www.sephora.com/ca/en/product/genius-collagen-nourishing-lip-balm-P501322?skuId=2612299&icid2=products'}\n"
     ]
    },
    {
     "ename": "KeyError",
     "evalue": "'products'",
     "output_type": "error",
     "traceback": [
      "\u001b[0;31m---------------------------------------------------------------------------\u001b[0m",
      "\u001b[0;31mKeyError\u001b[0m                                  Traceback (most recent call last)",
      "Cell \u001b[0;32mIn[105], line 3\u001b[0m\n\u001b[1;32m      1\u001b[0m \u001b[38;5;28;01mfor\u001b[39;00m brand \u001b[38;5;129;01min\u001b[39;00m brand_data: \n\u001b[1;32m      2\u001b[0m     product_data \u001b[38;5;241m=\u001b[39m []    \n\u001b[0;32m----> 3\u001b[0m     \u001b[38;5;28;01mfor\u001b[39;00m url \u001b[38;5;129;01min\u001b[39;00m brand[\u001b[38;5;124m\"\u001b[39m\u001b[38;5;124mproducts\u001b[39m\u001b[38;5;124m\"\u001b[39m]:\n\u001b[1;32m      4\u001b[0m         time\u001b[38;5;241m.\u001b[39msleep(crawl_delay)\n\u001b[1;32m      6\u001b[0m         \u001b[38;5;66;03m# url = 'https://www.sephora.com/ca/en/product/charlotte-tilbury-airbrush-flawless-setting-spray-P461147?skuId=2368439&icid2=products%20grid:p461147:product'\u001b[39;00m\n",
      "\u001b[0;31mKeyError\u001b[0m: 'products'"
     ]
    }
   ],
   "source": [
    "# value kits will need to be separate or excluded...\n",
    "\n",
    "for brand in brand_data: \n",
    "    product_data = []    \n",
    "    for url in brand[\"products\"]:\n",
    "        time.sleep(crawl_delay)\n",
    "\n",
    "        # url = 'https://www.sephora.com/ca/en/product/charlotte-tilbury-airbrush-flawless-setting-spray-P461147?skuId=2368439&icid2=products%20grid:p461147:product'\n",
    "        product = {}\n",
    "        product[\"url\"] = url\n",
    "\n",
    "        # get class names of buttons and grab prices with selenium \n",
    "        driver = webdriver.Chrome(options=options, executable_path=DRIVER_PATH)\n",
    "        driver.get(url)\n",
    "        soup = BeautifulSoup(driver.page_source, 'html.parser')\n",
    "\n",
    "        option_buttons = get_product_buttons(soup)\n",
    "        for button_info in option_buttons:\n",
    "            button_element = driver.find_element(By.XPATH, \"//button[@class='\"+button_info['class']+\"']\")\n",
    "            button_element.click()\n",
    "            button_info['price'] = driver.find_element(By.XPATH, \"//b[@class='css-0']\").text\n",
    "\n",
    "        driver.quit()\n",
    "        print(product)\n",
    "        if soup.find_all('h1') is not None and soup.find('h1').text != 'Sorry, this product is not available.':\n",
    "            product[\"product_name\"] = get_product_name(soup)\n",
    "            product[\"brand_name\"] = get_brand_name(soup)\n",
    "            product[\"options\"] = option_buttons\n",
    "            # product[\"description\"] = get_description(soup)\n",
    "            product[\"rating\"], product[\"n_reviews\"] = get_rating_data(soup)\n",
    "            product[\"ingredients\"] = get_ingredients(soup)\n",
    "            product[\"n_loves\"] = get_num_loves(soup)\n",
    "            product[\"categories\"] = get_breadcrumb_categories(soup)\n",
    "            product_data.append(product)\n",
    "            brand['product_data'] = product_data\n",
    "            brand['sku'] = get_sku(soup)"
   ]
  },
  {
   "cell_type": "code",
   "execution_count": 106,
   "id": "3c43ccd8-7910-45a4-a400-b3077ae94e99",
   "metadata": {},
   "outputs": [
    {
     "data": {
      "text/plain": [
       "{'name': 'ALTERNA Haircare', 'link': '/ca/en/brand/alterna'}"
      ]
     },
     "execution_count": 106,
     "metadata": {},
     "output_type": "execute_result"
    }
   ],
   "source": [
    "brand"
   ]
  },
  {
   "cell_type": "code",
   "execution_count": 126,
   "id": "455b42b8-d94c-43d7-a20d-6c36d9e99acc",
   "metadata": {
    "tags": []
   },
   "outputs": [
    {
     "data": {
      "text/plain": [
       "256"
      ]
     },
     "execution_count": 126,
     "metadata": {},
     "output_type": "execute_result"
    }
   ],
   "source": [
    "len(brand_data)"
   ]
  },
  {
   "cell_type": "code",
   "execution_count": 125,
   "id": "48bce84c-2a5a-41a7-98eb-371760ed6bd6",
   "metadata": {},
   "outputs": [
    {
     "data": {
      "text/plain": [
       "['Skincare', 'Lip Balms & Treatments']"
      ]
     },
     "execution_count": 125,
     "metadata": {},
     "output_type": "execute_result"
    }
   ],
   "source": [
    "\n",
    "\n",
    "#data-comp="
   ]
  },
  {
   "cell_type": "code",
   "execution_count": 119,
   "id": "f4b3f6e9-d314-41c9-bfe6-2f52abffc281",
   "metadata": {},
   "outputs": [
    {
     "name": "stdout",
     "output_type": "stream",
     "text": [
      "<h1 class=\"css-11zrkxf eanm77i0\" data-comp=\"DisplayName StyledComponent BaseComponent \"><a class=\"css-1gyh3op eanm77i0\" data-at=\"brand_name\" data-comp=\"StyledComponent BaseComponent \" href=\"/ca/en/brand/algenist?icid2=product_link_brand\">Algenist</a><br/><span class=\"css-1pgnl76 eanm77i0\" data-at=\"product_name\" data-comp=\"StyledComponent BaseComponent \">GENIUS Collagen Nourishing Lip Balm</span></h1>\n"
     ]
    }
   ],
   "source": [
    "print(soup.h1)"
   ]
  },
  {
   "cell_type": "code",
   "execution_count": null,
   "id": "e06ac5ab-39ba-4568-afac-ce4dfe35b68f",
   "metadata": {},
   "outputs": [],
   "source": []
  }
 ],
 "metadata": {
  "kernelspec": {
   "display_name": "Python 3 (ipykernel)",
   "language": "python",
   "name": "python3"
  },
  "language_info": {
   "codemirror_mode": {
    "name": "ipython",
    "version": 3
   },
   "file_extension": ".py",
   "mimetype": "text/x-python",
   "name": "python",
   "nbconvert_exporter": "python",
   "pygments_lexer": "ipython3",
   "version": "3.11.3"
  }
 },
 "nbformat": 4,
 "nbformat_minor": 5
}
