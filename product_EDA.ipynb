{
 "cells": [
  {
   "cell_type": "code",
   "execution_count": null,
   "id": "9af69552-4bf2-4cc0-a273-b3aaab17cec3",
   "metadata": {},
   "outputs": [],
   "source": [
    "import requests\n",
    "\n",
    "from bs4 import BeautifulSoup\n",
    "from selenium import webdriver\n",
    "from selenium.webdriver.common.by import By\n",
    "from selenium.webdriver.common.keys import Keys\n",
    "from selenium.webdriver.chrome.service import Service\n",
    "from selenium.webdriver.chrome.options import Options\n",
    "import pandas as pd\n",
    "\n",
    "import time"
   ]
  },
  {
   "cell_type": "code",
   "execution_count": null,
   "id": "896355ca-9e77-4402-8f77-328ee1db1ebe",
   "metadata": {},
   "outputs": [],
   "source": [
    "base_url = 'https://www.sephora.com'\n",
    "crawl_delay=6\n",
    "\n",
    "\n",
    "DRIVER_PATH = '../../chromedriver_mac64/chromedriver'"
   ]
  },
  {
   "cell_type": "code",
   "execution_count": null,
   "id": "ff9af1be-271a-47b1-b1d3-b045cd2139fd",
   "metadata": {
    "tags": []
   },
   "outputs": [],
   "source": [
    "options = Options()\n",
    "options.headless = True\n",
    "options.add_argument(\"--window-size=1920,1200\")\n",
    "options.add_argument('--disable-gpu')\n",
    "options.add_argument('--no-sandbox')\n",
    "options.add_experimental_option(\"excludeSwitches\", [\"enable-automation\"])\n",
    "options.add_experimental_option('useAutomationExtension', False)\n",
    "\n",
    "user_agent = 'Mozilla/5.0 (X11; Linux x86_64) AppleWebKit/537.36 (KHTML, like Gecko) Chrome/60.0.3112.50 Safari/537.36'\n",
    "options.add_argument('user-agent={0}'.format(user_agent))\n",
    "driver = webdriver.Chrome(options=options, executable_path=DRIVER_PATH)\n",
    "url = \"https://www.sephora.com/ca/en/brands-list\"\n",
    "driver.get(url)\n",
    "soup = BeautifulSoup(driver.page_source, 'html.parser')\n",
    "driver.quit()"
   ]
  },
  {
   "cell_type": "code",
   "execution_count": null,
   "id": "f2a0b73b",
   "metadata": {
    "tags": []
   },
   "outputs": [],
   "source": [
    "\n",
    "# collecting brand names and links from brand list page \n",
    "brand_data = []\n",
    "for brand_link in soup.findAll('a', attrs={\"data-at\": \"brand_link\"}):\n",
    "    brand = {}\n",
    "    brand['name'] = brand_link.span.text\n",
    "    brand['link'] = brand_link.get('href') \n",
    "    brand_data.append(brand)\n"
   ]
  },
  {
   "cell_type": "code",
   "execution_count": null,
   "id": "26faa52d-c390-447b-8b23-cd43399d9a15",
   "metadata": {
    "tags": []
   },
   "outputs": [],
   "source": [
    "# for each brand, grab products on brand page, save products as list of links \n",
    "for brand in brand_data:\n",
    "    url = base_url+brand['link']\n",
    "    driver = webdriver.Chrome(options=options, executable_path=DRIVER_PATH)\n",
    "    driver.get(url)\n",
    "    soup = BeautifulSoup(driver.page_source, 'html.parser')\n",
    "    driver.quit()\n",
    "    \n",
    "    product_tiles = soup.find_all(attrs={\"data-comp\":\"ProductTile \"})\n",
    "    brand['products'] = [product.get(\"href\").split(\" \")[0] for product in product_tiles]\n",
    "    time.sleep(crawl_delay)\n",
    "    break\n",
    "\n",
    "# for each product page, determine how manys variations\n",
    "# for example -> product/sol-de-janeiro-rio-radiance-perfume-mist - fullsize and mini\n",
    "# how do you need to interact with the page to get volume etc for each\n",
    "\n"
   ]
  },
  {
   "cell_type": "code",
   "execution_count": null,
   "id": "5755e0eb-4a14-4351-b051-07e38723759c",
   "metadata": {},
   "outputs": [],
   "source": [
    "# single product \n",
    "url = 'https://www.sephora.com/ca/en/product/charlotte-tilbury-airbrush-flawless-setting-spray-P461147?skuId=2368439&icid2=products%20grid:p461147:product'\n",
    "\n",
    "\n",
    "driver = webdriver.Chrome(options=options, executable_path=DRIVER_PATH)\n",
    "driver.get(url)\n",
    "soup = BeautifulSoup(driver.page_source, 'html.parser')\n",
    "driver.quit()"
   ]
  },
  {
   "cell_type": "code",
   "execution_count": null,
   "id": "ee107f92-f1c6-4516-92ff-edd9bdeee174",
   "metadata": {
    "tags": []
   },
   "outputs": [],
   "source": [
    "print(soup.prettify())"
   ]
  },
  {
   "cell_type": "code",
   "execution_count": null,
   "id": "c2aa12d4-c2f1-4ba7-a661-9f6bfbaaf756",
   "metadata": {},
   "outputs": [],
   "source": [
    "soup.find_all('data-comp')"
   ]
  },
  {
   "cell_type": "code",
   "execution_count": null,
   "id": "3d0aadf4-239c-43b8-8ad4-90ab334eb328",
   "metadata": {},
   "outputs": [],
   "source": []
  }
 ],
 "metadata": {
  "kernelspec": {
   "display_name": "Python 3 (ipykernel)",
   "language": "python",
   "name": "python3"
  },
  "language_info": {
   "codemirror_mode": {
    "name": "ipython",
    "version": 3
   },
   "file_extension": ".py",
   "mimetype": "text/x-python",
   "name": "python",
   "nbconvert_exporter": "python",
   "pygments_lexer": "ipython3",
   "version": "3.11.3"
  }
 },
 "nbformat": 4,
 "nbformat_minor": 5
}
