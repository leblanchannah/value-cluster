{
 "cells": [
  {
   "cell_type": "code",
   "execution_count": null,
   "id": "452ea4c9-b317-4f88-8929-366d74ca65b2",
   "metadata": {},
   "outputs": [],
   "source": []
  },
  {
   "cell_type": "code",
   "execution_count": null,
   "id": "0ebf6e22-67f7-440a-a253-ff6676da453b",
   "metadata": {
    "tags": []
   },
   "outputs": [],
   "source": [
    "import glob\n",
    "import json\n",
    "import pandas as pd\n",
    "import matplotlib.pyplot as plt\n",
    "import seaborn as sns\n",
    "import re\n",
    "import plotly.express as px\n",
    "import sys\n",
    "sys.path.append('src/')\n",
    "from pint import UnitRegistry\n"
   ]
  },
  {
   "cell_type": "code",
   "execution_count": null,
   "id": "b4bd56f4-beb3-421a-b616-555b24752f01",
   "metadata": {
    "tags": []
   },
   "outputs": [],
   "source": [
    "olid_products = df_products[(df_products['unit_a']=='oz')]\n",
    "\n",
    "solid_products = solid_products.groupby(['brand_name','product_name','swatch_group'], as_index=False).agg({\n",
    "    'sku':['unique','count'],\n",
    "    'rating':'first',\n",
    "    'product_reviews':'first',\n",
    "    'price':['first','unique','nunique'],\n",
    "    'size':'first',\n",
    "    'name':'nunique',\n",
    "    'amount_a':'first',\n",
    "    'unit_a':'first',\n",
    "    'amount_b':'first',\n",
    "    'unit_b':'first',\n",
    "    'lvl_0_cat':'first',\n",
    "    'lvl_1_cat':'first',\n",
    "    'lvl_2_cat':'first'\n",
    "})\n",
    "solid_products.columns = ['_'.join(x) for x in solid_products.columns]\n"
   ]
  },
  {
   "cell_type": "code",
   "execution_count": null,
   "id": "1205c48f-1ebb-48ec-816f-e9e1a387b808",
   "metadata": {
    "tags": []
   },
   "outputs": [],
   "source": [
    "df_products.groupby(['unit_a','unit_b'])['internal_product_id'].count().head(100)"
   ]
  },
  {
   "cell_type": "code",
   "execution_count": null,
   "id": "7fbd927a-44f4-4523-8536-91707f2499ea",
   "metadata": {
    "tags": []
   },
   "outputs": [],
   "source": [
    "# def conv_solid(row):\n",
    "\n",
    "#     return ureg(str(row['amount_a'])+\" \"+row['unit_a']).to(row['unit_b'])\n",
    "\n",
    "# solid_products['a_conv'] = solid_products.apply(conv_solid, axis=1)\n",
    "# solid_products['a_conv_magnitude'] = solid_products['a_conv'].apply(lambda x : x.magnitude)"
   ]
  },
  {
   "cell_type": "code",
   "execution_count": null,
   "id": "dd4ed4c1-f417-4947-8f49-46a8aa3ae2cc",
   "metadata": {
    "tags": []
   },
   "outputs": [],
   "source": [
    "\n",
    "solid_products.lvl_2_cat_first.value_counts()"
   ]
  },
  {
   "cell_type": "code",
   "execution_count": null,
   "id": "ae35f176-be94-466c-98e1-7f56b4342144",
   "metadata": {
    "tags": []
   },
   "outputs": [],
   "source": [
    "\n",
    "# df_products_tree = df_products.groupby(['lvl_0_cat', 'lvl_1_cat', 'lvl_2_cat','brand_name'], as_index=False)['internal_product_id'].count()\n",
    "# fig = px.treemap(df_products_tree, path=[px.Constant(\"all\"), 'lvl_0_cat', 'lvl_1_cat', 'lvl_2_cat','brand_name'], values='internal_product_id')\n",
    "# fig.update_traces(root_color=\"lightgrey\")\n",
    "# fig.update_layout(margin = dict(t=50, l=25, r=25, b=25))\n",
    "# fig.show()"
   ]
  },
  {
   "cell_type": "code",
   "execution_count": null,
   "id": "4dcf5845-2899-412f-984d-f1a6de505a4b",
   "metadata": {
    "tags": []
   },
   "outputs": [],
   "source": [
    "fig = px.scatter(solid_products[solid_products['lvl_2_cat_first']=='Eyebrow'], x=\"amount_a_first\", y=\"price_first\", color=\"swatch_group_\", hover_data=['brand_name_', 'product_name_'])\n",
    "fig.show()"
   ]
  },
  {
   "cell_type": "code",
   "execution_count": null,
   "id": "b9c69092-eef4-4ea4-9259-ee3db544c63c",
   "metadata": {},
   "outputs": [],
   "source": []
  },
  {
   "cell_type": "code",
   "execution_count": null,
   "id": "3c0b051d-5ef8-414f-8ef2-92090961e1f2",
   "metadata": {
    "tags": []
   },
   "outputs": [],
   "source": [
    "solid_products['unit_price'] = solid_products['amount_a_first']/solid_products['price_first']#.hist()"
   ]
  },
  {
   "cell_type": "code",
   "execution_count": null,
   "id": "9ec1e340-28b2-45b2-b72d-26bc8fbc1302",
   "metadata": {
    "tags": []
   },
   "outputs": [],
   "source": [
    "solid_products['unit_price'].hist()\n",
    "plt.yscale('log')"
   ]
  },
  {
   "cell_type": "code",
   "execution_count": null,
   "id": "0e8bd493-0421-44cf-ac4b-9f0fa56f8953",
   "metadata": {
    "tags": []
   },
   "outputs": [],
   "source": [
    "# solid_products.sort_values(by='unit_price',ascending=False)"
   ]
  },
  {
   "cell_type": "code",
   "execution_count": null,
   "id": "af95c1ef-467b-4f40-a79e-349362e28570",
   "metadata": {
    "tags": []
   },
   "outputs": [],
   "source": [
    "# df_products\n",
    "# EDA - what is the distribution of product reviews\n",
    "# scatter reviews v ratings\n",
    "\n",
    "sns.scatterplot(data=df_products, x=\"product_reviews\", y=\"rating\", alpha=0.5)\n",
    "plt.show()\n",
    "# how many products have no reviews?\n",
    "# interesting outliers - looked at reviews, truly bad\n",
    "display(df_products[(df_products['product_reviews']>4000) & (df_products['rating']<3.2)])\n",
    "\n",
    "\n",
    "# scattr review v loves\n",
    "# the handful of outliers are so interesting\n",
    "# was there a promotion to add these to loves list?\n",
    "sns.scatterplot(data=df_products, x=\"product_reviews\", y=\"n_loves\", alpha=0.5)\n",
    "plt.show()\n",
    "display(df_products[(df_products['n_loves']>1500000)]['product_name'].unique())\n",
    "sns.scatterplot(data=df_products, x=\"product_reviews\", y=\"n_loves\", alpha=0.5)\n",
    "plt.yscale('log')\n",
    "plt.show()\n",
    "# scatter n loves v price \n",
    "sns.scatterplot(data=df_products, x=\"price\", y=\"n_loves\", alpha=0.5)\n",
    "plt.yscale('log')\n",
    "plt.show()\n",
    "\n",
    "\n",
    "sns.scatterplot(data=df_products, x=\"price\", y=\"rating\", alpha=0.5)\n",
    "plt.show()\n",
    "\n",
    "sns.scatterplot(data=df_products, x=\"price\", y=\"product_reviews\", alpha=0.5)\n",
    "plt.show()\n",
    "\n",
    "sns.scatterplot(data=df_products[df_products['unit_a']=='oz'], x=\"unit_price\", y=\"rating\", alpha=0.5)\n",
    "plt.xscale('log')\n",
    "plt.show()\n",
    "\n",
    "sns.scatterplot(data=df_products[df_products['unit_a']=='oz'], x=\"unit_price\", y=\"n_loves\", alpha=0.5)\n",
    "plt.show()"
   ]
  },
  {
   "cell_type": "code",
   "execution_count": null,
   "id": "93359f93-0d43-47ac-9ddf-52b5477c4485",
   "metadata": {},
   "outputs": [],
   "source": [
    "df_products.sort_values(by='unit_price', ascending=False)"
   ]
  },
  {
   "cell_type": "markdown",
   "id": "75c3bbad-3695-48cc-8fe3-a88fa6346b89",
   "metadata": {},
   "source": [
    "## Swatch group comparisons"
   ]
  },
  {
   "cell_type": "code",
   "execution_count": null,
   "id": "2c330aaa-1587-40ca-8686-9b4d6fd361ea",
   "metadata": {
    "tags": []
   },
   "outputs": [],
   "source": [
    "df = df_products[df_products['lvl_2_cat']=='Mascara'].groupby(['brand_name','product_name','swatch_group','unit_a'], as_index=False).agg({\n",
    "    'internal_product_id':'count',\n",
    "    'unit_price':'mean',\n",
    "    'price':'mean',\n",
    "    'amount_a':'mean'\n",
    "})\n"
   ]
  },
  {
   "cell_type": "code",
   "execution_count": null,
   "id": "9fdfed27-1d19-4d37-9240-c877203cfd33",
   "metadata": {
    "tags": []
   },
   "outputs": [],
   "source": [
    "df = df[df.groupby(['brand_name','product_name','unit_a'])['swatch_group'].transform(lambda x : x.nunique()>1)]\n",
    "\n",
    "df['full_product'] = df['brand_name']+' '+ df['product_name']\n",
    "df = df.pivot(index='full_product', columns='swatch_group', values='unit_price') # ['unit_a',]\n",
    "df = df.reset_index()"
   ]
  },
  {
   "cell_type": "code",
   "execution_count": null,
   "id": "387e11a6-578d-44a8-aeec-5f7d686c373a",
   "metadata": {
    "tags": []
   },
   "outputs": [],
   "source": [
    "df = df[['full_product','mini size','standard size']]"
   ]
  },
  {
   "cell_type": "code",
   "execution_count": null,
   "id": "66a1ba97-0e98-4b7a-90df-b3fd8de357fc",
   "metadata": {
    "tags": []
   },
   "outputs": [],
   "source": [
    "df = df.set_index('full_product').stack('swatch_group').reset_index().rename(columns={0:'unit_price'})"
   ]
  },
  {
   "cell_type": "code",
   "execution_count": null,
   "id": "cd518fc9-bd9b-49db-924f-7a7d89dbfd87",
   "metadata": {
    "tags": []
   },
   "outputs": [],
   "source": [
    "\n",
    "# Draw a pointplot to show pulse as a function of three categorical factors\n",
    "g = sns.catplot(\n",
    "    data=df, x=\"swatch_group\", y=\"unit_price\", hue=\"full_product\",\n",
    "    capsize=.2, #palette=\"YlGnBu_d\",\n",
    "    kind=\"point\", height=6, aspect=.75,\n",
    ")\n",
    "g.despine(left=True)"
   ]
  },
  {
   "cell_type": "code",
   "execution_count": null,
   "id": "67cc65c3-2c78-47a5-8489-44d5d296b758",
   "metadata": {},
   "outputs": [],
   "source": [
    "# in bare minerals - mini size == standard"
   ]
  },
  {
   "cell_type": "code",
   "execution_count": null,
   "id": "43f305a5-88de-401f-9723-b24b3a924b0e",
   "metadata": {},
   "outputs": [],
   "source": [
    "issue_brands = ['Tom Ford', 'tarte', 'Moroccanoil', 'Dior', 'Anastasia Beverly Hills']\n",
    "prods = ['clinique']\n",
    "# url = 'https://www.sephora.com/ca/en/product/charlotte-tilbury-airbrush-flawless-setting-spray-P461147?skuId=2368439&icid2=products%20grid:p461147:product'\n",
    "\n",
    "# url = 'https://www.sephora.com/ca/en/product/ambient-lighting-blush-collection-P384963?skuId=1581321&icid2=products%20grid:p384963:product'\n",
    "# lots of options all same size\n",
    "# url = \"https://www.sephora.com/ca/en/product/saie-glowy-super-skin-lightweight-hydrobounce-serum-foundation-P504907?icid2=new_ca_skugrid_ufe:p504907:product\"\n",
    "# ran into issue getting product name\n",
    "# url = \"https://www.sephora.com/ca/en/product/book-personal-travel-spray-P501954?icid2=homepage_productlist_brandnewadditions_ca_rwd_092022\"\n",
    "# value set works\n",
    "# url = 'https://www.sephora.com/ca/en/product/laneige-midnight-to-morning-hydration-set-P504208?skuId=2639557&icid2=products%20grid:p504208:product'\n",
    "# hair brush with no ingredients\n",
    "# url = 'https://www.sephora.com/ca/en/product/sephora-collection-scalp-massager-P472069?skuId=2414555&icid2=products%20grid:p472069:product'\n",
    "# new prod\n",
    "# url = 'https://www.sephora.com/ca/en/product/gxve-by-gwen-stefani-check-my-glow-platinum-glow-highlighter-P505655?icid2=new_ca_skugrid_ufe:p505655:product'\n",
    "# sale prod\n",
    "# url = 'https://www.sephora.com/ca/en/product/green-microalgae-retinol-regenerating-serum-P506077?skuId=2672301&icid2=products%20grid:p506077:product'\n",
    "# no reviews yet or ratings\n",
    "\n",
    "# broken page https://www.sephora.com/ca/en/product/beautyblender-bronze-besties-P505630?skuId=2662559&icid2=products\n",
    "\n",
    "\n",
    "with open(data_dir+'brand_data.json') as file:\n",
    "    brand_data = json.loads(file.read())"
   ]
  }
 ],
 "metadata": {
  "kernelspec": {
   "display_name": "Python 3 (ipykernel)",
   "language": "python",
   "name": "python3"
  },
  "language_info": {
   "codemirror_mode": {
    "name": "ipython",
    "version": 3
   },
   "file_extension": ".py",
   "mimetype": "text/x-python",
   "name": "python",
   "nbconvert_exporter": "python",
   "pygments_lexer": "ipython3",
   "version": "3.11.3"
  }
 },
 "nbformat": 4,
 "nbformat_minor": 5
}
