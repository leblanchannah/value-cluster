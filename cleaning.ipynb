{
 "cells": [
  {
   "cell_type": "code",
   "execution_count": 111,
   "id": "25d944ec-7bca-478e-b3f2-bb8aecb5b1ab",
   "metadata": {
    "tags": []
   },
   "outputs": [],
   "source": [
    "import glob\n",
    "import json\n",
    "import pandas as pd\n",
    "import matplotlib.pyplot as plt\n",
    "pd.set_option('display.max_rows', 500)\n",
    "pd.set_option('display.max_columns', 500)\n",
    "pd.set_option('display.width', 1000)\n",
    "import re\n",
    "import plotly.express as px\n",
    "\n",
    "import sys\n",
    "sys.path.append('src/')\n",
    "from pint import UnitRegistry\n",
    "\n",
    "from webscraper import parse_url_info, drop_duplicate_product_urls"
   ]
  },
  {
   "cell_type": "code",
   "execution_count": 77,
   "id": "62bbe9af-e488-4aed-95f3-f20dc11dc0a3",
   "metadata": {
    "tags": []
   },
   "outputs": [],
   "source": [
    "\n",
    "def parse_volume_string(input_string):\n",
    "    # thank you chatgpt <3\n",
    "    pattern = r'(\\d+(\\.\\d+)?)\\s*(\\w+)\\s+(\\d+(\\.\\d+)?)\\s*(\\w+)\\s*(.*)'\n",
    "    matches = re.search(pattern, input_string)\n",
    "    if matches:\n",
    "        amount1 = matches.group(1)\n",
    "        unit1 = matches.group(3)\n",
    "        amount2 = matches.group(4)\n",
    "        unit2 = matches.group(6)\n",
    "        trailing_text = matches.group(7).strip()\n",
    "        return amount1, unit1, amount2, unit2, trailing_text\n",
    "    return None\n",
    "\n",
    "def parse_single_volume(input_string):\n",
    "    pattern = r'\\s*(\\d+(\\.\\d*)?|\\.\\d+)\\s*(\\w+)\\s*'\n",
    "    matches = re.match(pattern, input_string)\n",
    "    if matches:\n",
    "        amount = matches.group(1)\n",
    "        unit = matches.group(3)\n",
    "        return amount, unit\n",
    "    return None\n",
    "\n",
    "def shorthand_amt_conversion(value):\n",
    "    if value:\n",
    "        return value.replace(\".\",\"\").replace(\"K\",\"00\").replace(\"M\",\"000000\")\n",
    "    return None\n",
    "\n"
   ]
  },
  {
   "cell_type": "code",
   "execution_count": 78,
   "id": "de52be75-a4f4-432e-a539-8c140f776132",
   "metadata": {
    "tags": []
   },
   "outputs": [],
   "source": [
    "product_files = glob.glob(\"data/products/*\")\n",
    "products = []\n",
    "for product_file in product_files:\n",
    "    with open(product_file) as file:\n",
    "        products.append(pd.json_normalize(json.loads(file.read())))\n",
    "        \n",
    "df_products = pd.concat(products, axis=0)\n",
    "df_products = df_products[df_products['product_name'].notnull()]\n",
    "df_products = df_products.reset_index(drop=True).reset_index().rename(columns={'index':'internal_product_id'})"
   ]
  },
  {
   "cell_type": "code",
   "execution_count": 79,
   "id": "758a97b8-26a4-436e-91b0-d1bbed70aa22",
   "metadata": {
    "tags": []
   },
   "outputs": [
    {
     "name": "stderr",
     "output_type": "stream",
     "text": [
      "/var/folders/3_/49qq58ns2r11fnng7d9pbd0w0000gn/T/ipykernel_9422/784564696.py:26: FutureWarning: The default value of regex will change from True to False in a future version. In addition, single character regular expressions will *not* be treated as literal strings when regex=True.\n",
      "  df_products['price'] = df_products['price'].str.replace(\"$\",\"\")\n",
      "/var/folders/3_/49qq58ns2r11fnng7d9pbd0w0000gn/T/ipykernel_9422/784564696.py:74: FutureWarning: Columnar iteration over characters will be deprecated in future releases.\n",
      "  df_products['amount_a'], df_products['unit_a'], df_products['amount_b'], df_products['unit_b'], df_products['misc_info'] = df_products['size'].apply(parse_volume_string).str\n",
      "/var/folders/3_/49qq58ns2r11fnng7d9pbd0w0000gn/T/ipykernel_9422/784564696.py:77: FutureWarning: Columnar iteration over characters will be deprecated in future releases.\n",
      "  df_products['amount_single'], df_products['unit_single'] = df_products[df_products['amount_a'].isna()]['size'].apply(parse_single_volume).str\n",
      "/var/folders/3_/49qq58ns2r11fnng7d9pbd0w0000gn/T/ipykernel_9422/784564696.py:79: FutureWarning: Columnar iteration over characters will be deprecated in future releases.\n",
      "  df_products['url_path'], df_products['url_sku'], df_products['url_params'] =  df_products['url'].apply(parse_url_info).str\n",
      "/var/folders/3_/49qq58ns2r11fnng7d9pbd0w0000gn/T/ipykernel_9422/784564696.py:89: FutureWarning: Columnar iteration over characters will be deprecated in future releases.\n",
      "  df_products['lvl_0_cat'], df_products['lvl_1_cat'], df_products['lvl_2_cat'] = df_products['categories'].str\n"
     ]
    }
   ],
   "source": [
    "# product ratings\n",
    "df_products['rating'] = df_products['rating'].str.replace(\"width:\",\"\")\n",
    "df_products['rating'] = df_products['rating'].str.replace(\"%\",\"\")\n",
    "df_products['rating'] = df_products['rating'].astype(float)\n",
    "df_products['rating'] = df_products['rating']/100 * 5\n",
    "\n",
    "df_products['n_loves'] = df_products['n_loves'].apply(shorthand_amt_conversion)\n",
    "df_products['n_loves'] = df_products['n_loves'].astype(float)\n",
    "\n",
    "df_products['product_reviews'] = df_products['product_reviews'].apply(shorthand_amt_conversion)\n",
    "df_products['product_reviews'] = df_products['product_reviews'].astype(float)\n",
    "\n",
    "\n",
    "product_options = []\n",
    "for product in df_products.iterrows():\n",
    "    url = product[1]['url']\n",
    "    df_options = pd.json_normalize(product[1]['options'])\n",
    "    df_options['url'] = url\n",
    "    product_options.append(df_options)\n",
    "    \n",
    "df_products = df_products.merge(pd.concat(product_options), how='left', on='url')\n",
    "\n",
    "df_products['name'] =  df_products['name'].str.lower()\n",
    "df_products['size'] =  df_products['size'].str.lower()\n",
    "\n",
    "df_products['price'] = df_products['price'].str.replace(\"$\",\"\")\n",
    "df_products['price'] = df_products['price'].astype(float)\n",
    "\n",
    "df_products['out_of_stock'] = df_products['name'].str.contains('out of stock')\n",
    "df_products['limited_edition'] = df_products['name'].str.contains('limited edition')\n",
    "df_products['new_product'] = df_products['name'].str.contains('new')\n",
    "df_products['few_left'] = df_products['name'].str.contains('only a few left')\n",
    "df_products['sale'] = df_products['name'].str.contains('sale')\n",
    "df_products['refill'] = df_products['name'].str.contains('refill')\n",
    "\n",
    "df_products.loc[df_products['size'].isna(), 'size'] = df_products['name']\n",
    "df_products.loc[df_products['size']==df_products['name'],'name'] = None\n",
    "\n",
    "misc_text = {\n",
    "    \"out of stock\":\"\",\n",
    "    \"limited edition\":\"\",\n",
    "    \"new\":\"\",\n",
    "    \"only a few left\":\"\",\n",
    "    \"sale\":\"\",\n",
    "    \"size\":\"\",\n",
    "    \"refill\":\"\",\n",
    "    \"color\":\"\",\n",
    "    \":\":\"\",\n",
    "    \"-\":\"\",\n",
    "    \"mini\":\"\",\n",
    "    \"fl oz\":\"floz\",\n",
    "    \"fl. oz\":\"floz\",\n",
    "    \"oz.\":\"oz \",\n",
    "    \"/\":\" \",\n",
    "    r'\\s+': ' '\n",
    "}\n",
    "\n",
    "def series_replace(df, ids):\n",
    "    df['size'] = df['size'].replace(ids, regex=True)\n",
    "    return df\n",
    "\n",
    "df_products =  series_replace(df_products,misc_text)\n",
    "\n",
    "df_products['sku'] = df_products['sku'].str.replace(\"Item \",\"\")\n",
    "\n",
    "df_products['size'] = df_products['size'].fillna(\"\")\n",
    "df_products['size'] = df_products['size'].str.strip()\n",
    "df_products.loc[df_products['size'].str[0]=='.', 'size'] = \"0\"+df_products['size']\n",
    "\n",
    "df_products.loc[df_products['size'].str.contains('x'),'product_multiplier'] = df_products['size'].apply(size_w_multiplier)\n",
    "df_products.loc[df_products['product_multiplier'].notnull(), 'multiplier'] = df_products['product_multiplier'].str[0]\n",
    "df_products.loc[df_products['product_multiplier'].notnull(), 'size'] = df_products['product_multiplier'].str[1]\n",
    "\n",
    "df_products['amount_a'], df_products['unit_a'], df_products['amount_b'], df_products['unit_b'], df_products['misc_info'] = df_products['size'].apply(parse_volume_string).str\n",
    "df_products[['amount_a','amount_b']] = df_products[['amount_a','amount_b']].astype(float)\n",
    "\n",
    "df_products['amount_single'], df_products['unit_single'] = df_products[df_products['amount_a'].isna()]['size'].apply(parse_single_volume).str\n",
    "\n",
    "df_products['url_path'], df_products['url_sku'], df_products['url_params'] =  df_products['url'].apply(parse_url_info).str\n",
    "df_products = df_products.drop_duplicates(subset=['brand_name','product_name','url_path', 'sku','price'], keep='last')\n",
    "df_products['amount_single']= df_products['amount_single'].astype(float)\n",
    "\n",
    "df_products.loc[df_products['amount_a'].isna(), 'amount_a'] = df_products['amount_single']\n",
    "df_products.loc[df_products['amount_a'].isna(), 'unit_a'] = df_products['unit_single']\n",
    "\n",
    "df_products = df_products.drop(['amount_single','unit_single'],axis=1)\n",
    "\n",
    "df_products['categories'] = df_products['categories'].fillna('   ')\n",
    "df_products['lvl_0_cat'], df_products['lvl_1_cat'], df_products['lvl_2_cat'] = df_products['categories'].str\n",
    "\n",
    "\n",
    "df_products['swatch_details'] = df_products['swatch_group'].str.split(\" - \").str[0]\n",
    "df_products['swatch_group'] = df_products['swatch_group'].str.split(\" - \").str[-1]"
   ]
  },
  {
   "cell_type": "code",
   "execution_count": 81,
   "id": "3696eda8-98e8-41c3-8d77-e3cffa0ab2ae",
   "metadata": {
    "tags": []
   },
   "outputs": [
    {
     "name": "stdout",
     "output_type": "stream",
     "text": [
      "(17873, 34)\n"
     ]
    }
   ],
   "source": [
    "allowed_units = ['ml','fl','floz','g','oz','kg','mg']\n",
    "\n",
    "print(df_products.shape)\n",
    "\n",
    "df_products = df_products[(df_products['unit_a'].isin(allowed_units)) & (df_products['unit_b'].isin(allowed_units))]\n",
    "df_products.loc[(df_products['unit_a']=='oz') & (df_products['unit_b']=='ml'),'unit_a']='floz'\n",
    "df_products.loc[(df_products['unit_a']=='fl'),'unit_a']='floz'\n"
   ]
  },
  {
   "cell_type": "code",
   "execution_count": 133,
   "id": "3e3af21f-28e0-4968-92f4-528e08b64970",
   "metadata": {
    "tags": []
   },
   "outputs": [
    {
     "data": {
      "text/plain": [
       "Standard size    15180\n",
       "Mini size         2258\n",
       "Value size         225\n",
       "Refill size        210\n",
       "Name: swatch_group, dtype: int64"
      ]
     },
     "execution_count": 133,
     "metadata": {},
     "output_type": "execute_result"
    }
   ],
   "source": [
    "df_products['swatch_group'].value_counts()"
   ]
  },
  {
   "cell_type": "code",
   "execution_count": 134,
   "id": "af4cf052-d06a-4dd9-9c0f-c610331a5fce",
   "metadata": {
    "tags": []
   },
   "outputs": [
    {
     "data": {
      "text/plain": [
       "unit_a  unit_b\n",
       "floz    g             1\n",
       "        ml        10832\n",
       "g       oz            9\n",
       "ml      floz          9\n",
       "        g             3\n",
       "        oz            8\n",
       "oz      g          5825\n",
       "        kg            1\n",
       "        mg            1\n",
       "        oz            1\n",
       "Name: sku, dtype: int64"
      ]
     },
     "execution_count": 134,
     "metadata": {},
     "output_type": "execute_result"
    }
   ],
   "source": [
    "df_products.groupby(['unit_a','unit_b'])['sku'].nunique()"
   ]
  },
  {
   "cell_type": "code",
   "execution_count": 121,
   "id": "ac4479f5-aec5-4318-bfa3-2b3e195dde88",
   "metadata": {
    "tags": []
   },
   "outputs": [
    {
     "name": "stderr",
     "output_type": "stream",
     "text": [
      "/Users/hannahleblanc/opt/anaconda3/envs/pc-env/lib/python3.11/site-packages/pandas/core/dtypes/cast.py:1784: UnitStrippedWarning: The unit of the quantity is stripped when downcasting to ndarray.\n",
      "  result[:] = values\n",
      "/var/folders/3_/49qq58ns2r11fnng7d9pbd0w0000gn/T/ipykernel_9422/4094345848.py:6: SettingWithCopyWarning: \n",
      "A value is trying to be set on a copy of a slice from a DataFrame.\n",
      "Try using .loc[row_indexer,col_indexer] = value instead\n",
      "\n",
      "See the caveats in the documentation: https://pandas.pydata.org/pandas-docs/stable/user_guide/indexing.html#returning-a-view-versus-a-copy\n",
      "  solid_products['a_conv'] = solid_products.apply(conv_solid, axis=1)\n",
      "/var/folders/3_/49qq58ns2r11fnng7d9pbd0w0000gn/T/ipykernel_9422/4094345848.py:7: SettingWithCopyWarning: \n",
      "A value is trying to be set on a copy of a slice from a DataFrame.\n",
      "Try using .loc[row_indexer,col_indexer] = value instead\n",
      "\n",
      "See the caveats in the documentation: https://pandas.pydata.org/pandas-docs/stable/user_guide/indexing.html#returning-a-view-versus-a-copy\n",
      "  solid_products['a_conv_magnitude'] = solid_products['a_conv'].apply(lambda x : x.magnitude)\n"
     ]
    }
   ],
   "source": [
    "def conv_solid(row):\n",
    "\n",
    "    return ureg(str(row['amount_a'])+\" \"+row['unit_a']).to(row['unit_b'])\n",
    "\n",
    "solid_products = df_products[(df_products['unit_a']=='oz') & (df_products['unit_b']=='g')]\n",
    "solid_products['a_conv'] = solid_products.apply(conv_solid, axis=1)\n",
    "solid_products['a_conv_magnitude'] = solid_products['a_conv'].apply(lambda x : x.magnitude)"
   ]
  },
  {
   "cell_type": "code",
   "execution_count": 122,
   "id": "78c58f5e-6e3b-46e9-9316-28debb437bf8",
   "metadata": {
    "tags": []
   },
   "outputs": [],
   "source": [
    "solid_products = solid_products.groupby(['brand_name','product_name','swatch_group'], as_index=False).agg({\n",
    "    'sku':['unique','count'],\n",
    "    'rating':'first',\n",
    "    'product_reviews':'first',\n",
    "    'price':['first','unique','nunique'],\n",
    "    'size':'first',\n",
    "    'name':'nunique',\n",
    "    'amount_a':'first',\n",
    "    'unit_a':'first',\n",
    "    'amount_b':'first',\n",
    "    'unit_b':'first',\n",
    "    'lvl_0_cat':'first',\n",
    "    'lvl_1_cat':'first',\n",
    "    'lvl_2_cat':'first'\n",
    "})\n",
    "solid_products.columns = ['_'.join(x) for x in solid_products.columns]\n",
    "# solid_products[solid_products['a_conv_magnitude']!=solid_products['amount_b']].head()"
   ]
  },
  {
   "cell_type": "code",
   "execution_count": null,
   "id": "6aa020f1-5025-49a6-aad2-b2a9a0b2d62d",
   "metadata": {
    "tags": []
   },
   "outputs": [],
   "source": [
    "\n",
    "df_products_tree = df_products.groupby(['lvl_0_cat', 'lvl_1_cat', 'lvl_2_cat','brand_name'], as_index=False)['url'].count()\n",
    "fig = px.treemap(df_products_tree, path=[px.Constant(\"all\"), 'lvl_0_cat', 'lvl_1_cat', 'lvl_2_cat','brand_name'], values='url')\n",
    "fig.update_traces(root_color=\"lightgrey\")\n",
    "fig.update_layout(margin = dict(t=50, l=25, r=25, b=25))\n",
    "fig.show()"
   ]
  },
  {
   "cell_type": "code",
   "execution_count": null,
   "id": "17aaa6c6-78e1-4932-a4c3-c04cfda5163a",
   "metadata": {
    "tags": []
   },
   "outputs": [],
   "source": [
    "df_products[(df_products['lvl_2_cat']=='Concealer') & (df_products['brand_name']=='Glossier')]"
   ]
  },
  {
   "cell_type": "code",
   "execution_count": null,
   "id": "4e362eab",
   "metadata": {
    "tags": []
   },
   "outputs": [],
   "source": [
    "# df_products['unit_a'].value_counts()\n",
    "mascara_df = df_products[(df_products['lvl_2_cat']=='Mascara') & (df_products['unit_a']=='oz')].groupby(['brand_name','product_name','swatch_group'], as_index=False).agg({\n",
    "    'price':'first',\n",
    "    'amount_a':'first',\n",
    "    'unit_a':'first'\n",
    "})"
   ]
  },
  {
   "cell_type": "code",
   "execution_count": 120,
   "id": "78cd4925-e845-4833-9e71-fc173af9180a",
   "metadata": {
    "tags": []
   },
   "outputs": [
    {
     "data": {
      "text/html": [
       "<div>\n",
       "<style scoped>\n",
       "    .dataframe tbody tr th:only-of-type {\n",
       "        vertical-align: middle;\n",
       "    }\n",
       "\n",
       "    .dataframe tbody tr th {\n",
       "        vertical-align: top;\n",
       "    }\n",
       "\n",
       "    .dataframe thead th {\n",
       "        text-align: right;\n",
       "    }\n",
       "</style>\n",
       "<table border=\"1\" class=\"dataframe\">\n",
       "  <thead>\n",
       "    <tr style=\"text-align: right;\">\n",
       "      <th></th>\n",
       "      <th>brand_name_</th>\n",
       "      <th>swatch_group_</th>\n",
       "      <th>sku_unique</th>\n",
       "      <th>sku_count</th>\n",
       "      <th>product_name_first</th>\n",
       "      <th>rating_first</th>\n",
       "      <th>product_reviews_first</th>\n",
       "      <th>price_first</th>\n",
       "      <th>price_unique</th>\n",
       "      <th>price_nunique</th>\n",
       "      <th>size_first</th>\n",
       "      <th>name_nunique</th>\n",
       "      <th>amount_a_first</th>\n",
       "      <th>unit_a_first</th>\n",
       "      <th>amount_b_first</th>\n",
       "      <th>unit_b_first</th>\n",
       "      <th>lvl_0_cat_first</th>\n",
       "      <th>lvl_1_cat_first</th>\n",
       "      <th>lvl_2_cat_first</th>\n",
       "    </tr>\n",
       "  </thead>\n",
       "  <tbody>\n",
       "    <tr>\n",
       "      <th>0</th>\n",
       "      <td>ALTERNA Haircare</td>\n",
       "      <td>Standard size</td>\n",
       "      <td>[2143436]</td>\n",
       "      <td>1</td>\n",
       "      <td>CAVIAR Anti-Aging Restructuring Bond Repair Le...</td>\n",
       "      <td>4.5000</td>\n",
       "      <td>4.0</td>\n",
       "      <td>63.0</td>\n",
       "      <td>[63.0]</td>\n",
       "      <td>1</td>\n",
       "      <td>8.5 oz 241 g</td>\n",
       "      <td>0</td>\n",
       "      <td>8.500</td>\n",
       "      <td>oz</td>\n",
       "      <td>241.0</td>\n",
       "      <td>g</td>\n",
       "      <td>Hair</td>\n",
       "      <td>Hair Styling &amp; Treatments</td>\n",
       "      <td>Scalp Treatments</td>\n",
       "    </tr>\n",
       "    <tr>\n",
       "      <th>1</th>\n",
       "      <td>Acqua di Parma</td>\n",
       "      <td>Standard size</td>\n",
       "      <td>[2277457]</td>\n",
       "      <td>1</td>\n",
       "      <td>Luce di Colonia Candle</td>\n",
       "      <td>5.0000</td>\n",
       "      <td>2.0</td>\n",
       "      <td>106.0</td>\n",
       "      <td>[106.0]</td>\n",
       "      <td>1</td>\n",
       "      <td>7.05 oz 200 g</td>\n",
       "      <td>0</td>\n",
       "      <td>7.050</td>\n",
       "      <td>oz</td>\n",
       "      <td>200.0</td>\n",
       "      <td>g</td>\n",
       "      <td>Fragrance</td>\n",
       "      <td>Candles &amp; Home Scents</td>\n",
       "      <td>Candles</td>\n",
       "    </tr>\n",
       "    <tr>\n",
       "      <th>2</th>\n",
       "      <td>Algenist</td>\n",
       "      <td>Standard size</td>\n",
       "      <td>[2612299]</td>\n",
       "      <td>1</td>\n",
       "      <td>GENIUS Collagen Nourishing Lip Balm</td>\n",
       "      <td>4.5000</td>\n",
       "      <td>2.0</td>\n",
       "      <td>37.0</td>\n",
       "      <td>[37.0]</td>\n",
       "      <td>1</td>\n",
       "      <td>0.35 oz 10 g</td>\n",
       "      <td>0</td>\n",
       "      <td>0.350</td>\n",
       "      <td>oz</td>\n",
       "      <td>10.0</td>\n",
       "      <td>g</td>\n",
       "      <td>Skincare</td>\n",
       "      <td>Lip Balms &amp; Treatments</td>\n",
       "      <td>None</td>\n",
       "    </tr>\n",
       "    <tr>\n",
       "      <th>3</th>\n",
       "      <td>Anastasia Beverly Hills</td>\n",
       "      <td>Standard size</td>\n",
       "      <td>[1942051, 1942069, 1942077, 1942093]</td>\n",
       "      <td>4</td>\n",
       "      <td>Blush Trio</td>\n",
       "      <td>4.6617</td>\n",
       "      <td>470.0</td>\n",
       "      <td>40.0</td>\n",
       "      <td>[40.0]</td>\n",
       "      <td>1</td>\n",
       "      <td>0.11 oz 3 g</td>\n",
       "      <td>4</td>\n",
       "      <td>0.110</td>\n",
       "      <td>oz</td>\n",
       "      <td>3.0</td>\n",
       "      <td>g</td>\n",
       "      <td>Makeup</td>\n",
       "      <td>Cheek</td>\n",
       "      <td>Cheek Palettes</td>\n",
       "    </tr>\n",
       "    <tr>\n",
       "      <th>4</th>\n",
       "      <td>Anastasia Beverly Hills</td>\n",
       "      <td>Standard size</td>\n",
       "      <td>[1790542, 1790534, 1790567, 1790575, 1790591, ...</td>\n",
       "      <td>10</td>\n",
       "      <td>Brow Definer 3-in-1 Triangle Tip</td>\n",
       "      <td>4.0750</td>\n",
       "      <td>4100.0</td>\n",
       "      <td>33.0</td>\n",
       "      <td>[33.0]</td>\n",
       "      <td>1</td>\n",
       "      <td>0.007 oz 0.2 g</td>\n",
       "      <td>10</td>\n",
       "      <td>0.007</td>\n",
       "      <td>oz</td>\n",
       "      <td>0.2</td>\n",
       "      <td>g</td>\n",
       "      <td>Makeup</td>\n",
       "      <td>Eye</td>\n",
       "      <td>Eyebrow</td>\n",
       "    </tr>\n",
       "  </tbody>\n",
       "</table>\n",
       "</div>"
      ],
      "text/plain": [
       "               brand_name_  swatch_group_                                         sku_unique  sku_count                                 product_name_first  rating_first  product_reviews_first  price_first price_unique  price_nunique      size_first  name_nunique  amount_a_first unit_a_first  amount_b_first unit_b_first lvl_0_cat_first            lvl_1_cat_first   lvl_2_cat_first\n",
       "0         ALTERNA Haircare  Standard size                                          [2143436]          1  CAVIAR Anti-Aging Restructuring Bond Repair Le...        4.5000                    4.0         63.0       [63.0]              1    8.5 oz 241 g             0           8.500           oz           241.0            g            Hair  Hair Styling & Treatments  Scalp Treatments\n",
       "1           Acqua di Parma  Standard size                                          [2277457]          1                             Luce di Colonia Candle        5.0000                    2.0        106.0      [106.0]              1   7.05 oz 200 g             0           7.050           oz           200.0            g       Fragrance      Candles & Home Scents           Candles\n",
       "2                 Algenist  Standard size                                          [2612299]          1                GENIUS Collagen Nourishing Lip Balm        4.5000                    2.0         37.0       [37.0]              1    0.35 oz 10 g             0           0.350           oz            10.0            g        Skincare     Lip Balms & Treatments              None\n",
       "3  Anastasia Beverly Hills  Standard size               [1942051, 1942069, 1942077, 1942093]          4                                         Blush Trio        4.6617                  470.0         40.0       [40.0]              1     0.11 oz 3 g             4           0.110           oz             3.0            g          Makeup                      Cheek    Cheek Palettes\n",
       "4  Anastasia Beverly Hills  Standard size  [1790542, 1790534, 1790567, 1790575, 1790591, ...         10                   Brow Definer 3-in-1 Triangle Tip        4.0750                 4100.0         33.0       [33.0]              1  0.007 oz 0.2 g            10           0.007           oz             0.2            g          Makeup                        Eye           Eyebrow"
      ]
     },
     "execution_count": 120,
     "metadata": {},
     "output_type": "execute_result"
    }
   ],
   "source": [
    "solid_products.head()"
   ]
  },
  {
   "cell_type": "code",
   "execution_count": 132,
   "id": "e91dc15a",
   "metadata": {
    "tags": []
   },
   "outputs": [
    {
     "data": {
      "application/vnd.plotly.v1+json": {
       "config": {
        "plotlyServerURL": "https://plot.ly"
       },
       "data": [
        {
         "customdata": [
          [
           "Acqua di Parma",
           "Luce di Colonia Candle"
          ],
          [
           "CLEAN RESERVE",
           "Fresh Linens Candle"
          ],
          [
           "CLEAN RESERVE",
           "Rain Candle"
          ],
          [
           "CLEAN RESERVE",
           "Warm Cotton Candle"
          ],
          [
           "FORVR Mood",
           "Burning Bridges Candle"
          ],
          [
           "FORVR Mood",
           "Caked Up Candle"
          ],
          [
           "FORVR Mood",
           "Champagne Showers Candle"
          ],
          [
           "FORVR Mood",
           "Chasing Waterfalls Candle"
          ],
          [
           "FORVR Mood",
           "Cuffing Season Candle"
          ],
          [
           "FORVR Mood",
           "Grown Folks Business Candle"
          ],
          [
           "FORVR Mood",
           "Leaf Me Be Candle"
          ],
          [
           "FORVR Mood",
           "Left On Read Candle"
          ],
          [
           "FORVR Mood",
           "Left on Read Candle"
          ],
          [
           "FORVR Mood",
           "Matcha Bes-teas Candle"
          ],
          [
           "FORVR Mood",
           "Matcha Business Candle"
          ],
          [
           "FORVR Mood",
           "Musta Been The Wind Candle"
          ],
          [
           "FORVR Mood",
           "NOT Down To Earth Candle"
          ],
          [
           "FORVR Mood",
           "No Wahala Candle"
          ],
          [
           "FORVR Mood",
           "Soft Life Candle"
          ],
          [
           "FORVR Mood",
           "Spice of Life Candle"
          ],
          [
           "FORVR Mood",
           "Sun Kiss & Tell Candle"
          ],
          [
           "FORVR Mood",
           "Sweet Wave Candle"
          ],
          [
           "FORVR Mood",
           "Thirst Trapping Candle"
          ],
          [
           "FORVR Mood",
           "We Not Linkin Candle"
          ],
          [
           "Jo Malone London",
           "Blackberry & Bay Candle"
          ],
          [
           "Jo Malone London",
           "English Pear & Freesia Candle"
          ],
          [
           "Jo Malone London",
           "Honeysuckle & Davana Candle"
          ],
          [
           "Jo Malone London",
           "Lime Basil & Mandarin Candle"
          ],
          [
           "Jo Malone London",
           "Mimosa & Cardamom Candle"
          ],
          [
           "Jo Malone London",
           "Peony & Blush Suede Candle"
          ],
          [
           "Jo Malone London",
           "Rose Blush Candle"
          ],
          [
           "Jo Malone London",
           "Wood Sage & Sea Salt Candle"
          ],
          [
           "MALIN+GOETZ",
           "Bergamot Candle"
          ],
          [
           "MALIN+GOETZ",
           "Cannabis Candle"
          ],
          [
           "MALIN+GOETZ",
           "Dark Rum Candle"
          ],
          [
           "MALIN+GOETZ",
           "Leather Candle"
          ],
          [
           "MALIN+GOETZ",
           "Otto Candle"
          ],
          [
           "MALIN+GOETZ",
           "Sage Candle"
          ],
          [
           "MALIN+GOETZ",
           "Vetiver Candle"
          ],
          [
           "Maison Louis Marie",
           "Antidris Cassis Candle"
          ],
          [
           "Maison Louis Marie",
           "Antidris Lavender Candle"
          ],
          [
           "Maison Louis Marie",
           "No. 09 Vallee de Farney Candle"
          ],
          [
           "Maison Louis Marie",
           "No.04 Bois de Balincourt Candle"
          ],
          [
           "Maison Louis Marie",
           "No.12 Bousval Candle"
          ],
          [
           "Maison Margiela",
           "'REPLICA' Beach Vibes Scented Candle"
          ],
          [
           "Maison Margiela",
           "'REPLICA' Bubble Bath Scented Candle"
          ],
          [
           "Maison Margiela",
           "'REPLICA' By The Fireplace Scented Candle"
          ],
          [
           "Maison Margiela",
           "'REPLICA' Lazy Sunday Morning Scented Candle"
          ],
          [
           "Maison Margiela",
           "'REPLICA' Springtime in a Park Scented Candle"
          ],
          [
           "Maison Margiela",
           "'REPLICA' Whispers in the Library Scented Candle"
          ],
          [
           "Maison Margiela",
           "’REPLICA’ Jazz Club Scented Candle"
          ],
          [
           "Maison Margiela",
           "’REPLICA’ On a Date Scented Candle"
          ],
          [
           "Maison Margiela",
           "’REPLICA’ When the Rain Stops Scented Candle"
          ],
          [
           "NEST New York",
           "Amalfi Lemon & Mint Candle"
          ],
          [
           "NEST New York",
           "Apple Blossom 3-Wick Candle"
          ],
          [
           "NEST New York",
           "Apricot Tea Scented Candle"
          ],
          [
           "NEST New York",
           "Bamboo Candle"
          ],
          [
           "NEST New York",
           "Charcoal Woods Candle"
          ],
          [
           "NEST New York",
           "Driftwood & Chamomile Candle"
          ],
          [
           "NEST New York",
           "Grapefruit Candle"
          ],
          [
           "NEST New York",
           "Gray Malin Ocean Mist & Sea Salt Candle"
          ],
          [
           "NEST New York",
           "Himalayan Salt & Rosewater Candle"
          ],
          [
           "NEST New York",
           "Lime Zest & Matcha Candle"
          ],
          [
           "NEST New York",
           "Linen Scented Candle"
          ],
          [
           "NEST New York",
           "Madagascar Vanilla Candle"
          ],
          [
           "NEST New York",
           "Mediterranean Fig Candle"
          ],
          [
           "NEST New York",
           "Moroccan Amber Candle"
          ],
          [
           "NEST New York",
           "Rose Noir & Oud Candle"
          ],
          [
           "NEST New York",
           "Velvet Pear Candle"
          ],
          [
           "NEST New York",
           "Wilderness Midnight Moss & Vetiver Candle"
          ],
          [
           "SEPHORA COLLECTION",
           "Bloom Scented Candle"
          ],
          [
           "SEPHORA COLLECTION",
           "Pop Fizz Scented Candle"
          ],
          [
           "SEPHORA COLLECTION",
           "Refresh Scented Candle"
          ],
          [
           "SEPHORA COLLECTION",
           "Unwind Scented Candle"
          ],
          [
           "SKYLAR",
           "Salt Air Candle"
          ],
          [
           "TOM FORD",
           "Bitter Peach Candle"
          ],
          [
           "TOM FORD",
           "Ebene Fume Candle"
          ],
          [
           "TOM FORD",
           "Lost Cherry Candle"
          ],
          [
           "TOM FORD",
           "Oud Wood Candle"
          ],
          [
           "TOM FORD",
           "Rose Prick Candle"
          ],
          [
           "VOLUSPA",
           "Apple Blue Clover Glass Jar Candle"
          ],
          [
           "VOLUSPA",
           "Baltic Amber Glass Candle"
          ],
          [
           "VOLUSPA",
           "Blackberry Rose Oud Candle"
          ],
          [
           "VOLUSPA",
           "Blackberry Rose Oud Tin Candle"
          ],
          [
           "VOLUSPA",
           "Forbidden Fig Decorative Tin Candle"
          ],
          [
           "VOLUSPA",
           "Forbidden Fig Glass Jar Candle"
          ],
          [
           "VOLUSPA",
           "French Cade & Lavender Decorative Tin Candle"
          ],
          [
           "VOLUSPA",
           "French Cade & Lavender Glass Jar Candle"
          ],
          [
           "VOLUSPA",
           "Goji & Tarocco Orange Decorative Tin Candle"
          ],
          [
           "VOLUSPA",
           "Goji & Tarocco Orange Glass Jar Candle"
          ],
          [
           "VOLUSPA",
           "Havana Mint Mojito Glass Jar Candle"
          ],
          [
           "VOLUSPA",
           "Kalahari Watermelon Glass Jar Candle"
          ],
          [
           "VOLUSPA",
           "Mini Candle Set - Goji & Tarocco Orange, Santal Vanille, Panjore Lychee"
          ],
          [
           "VOLUSPA",
           "Mini Candle Set - Panjore Lychee, Japanese Plum Bloom, Goji & Tarocco Orange"
          ],
          [
           "VOLUSPA",
           "Mini Candle Trio - French Cade, Goji & Lychee"
          ],
          [
           "VOLUSPA",
           "Panjore Lychee Decorative Tin Candle"
          ],
          [
           "VOLUSPA",
           "Panjore Lychee Glass Jar Candle"
          ],
          [
           "VOLUSPA",
           "Santal Vanille Candle"
          ],
          [
           "VOLUSPA",
           "Santal Vanille Glass Jar Candle"
          ],
          [
           "VOLUSPA",
           "Sparkling Cuvee Glass Jar Candle"
          ],
          [
           "VOLUSPA",
           "Spiced Pumpkin Latte Glass Candle"
          ],
          [
           "VOLUSPA",
           "Tahitian Coconut Vanilla Glass Jar Candle"
          ]
         ],
         "hovertemplate": "swatch_group_=Standard size<br>amount_a_first=%{x}<br>price_first=%{y}<br>brand_name_=%{customdata[0]}<br>product_name_=%{customdata[1]}<extra></extra>",
         "legendgroup": "Standard size",
         "marker": {
          "color": "#636efa",
          "symbol": "circle"
         },
         "mode": "markers",
         "name": "Standard size",
         "orientation": "v",
         "showlegend": true,
         "type": "scatter",
         "x": [
          7.05,
          8,
          8,
          8,
          10,
          10,
          10,
          10,
          10,
          10,
          10,
          10,
          10,
          10,
          10,
          10,
          10,
          10,
          10,
          10,
          10,
          10,
          10,
          10,
          7,
          7,
          7,
          7,
          7,
          7,
          7,
          7,
          9,
          9,
          9,
          9,
          9,
          9,
          9,
          8.5,
          8.5,
          8.5,
          8.5,
          8.5,
          5.8,
          5.8,
          5.8,
          5.8,
          5.8,
          5.8,
          5.8,
          5.8,
          5.8,
          8.1,
          2,
          8.1,
          2,
          8.1,
          8.1,
          8.1,
          20.2,
          21.2,
          21.2,
          8.1,
          8.1,
          21.1,
          8.1,
          21.1,
          8.1,
          21.2,
          8,
          8,
          8,
          8,
          8,
          7,
          7,
          21,
          7,
          7,
          18,
          18,
          1.8,
          6,
          12,
          18,
          12,
          18,
          12,
          18,
          18,
          18,
          4,
          4,
          4,
          12,
          18,
          12,
          18,
          18,
          18,
          18
         ],
         "xaxis": "x",
         "y": [
          106,
          52,
          52,
          52,
          36.75,
          36.75,
          50,
          49,
          36.75,
          49,
          36.75,
          36.75,
          50,
          50,
          36.75,
          36.75,
          36.75,
          49,
          49,
          36.75,
          36.75,
          36.75,
          36.75,
          49,
          92,
          99,
          99,
          99,
          99,
          99,
          99,
          99,
          75,
          75,
          75,
          75,
          75,
          75,
          72,
          52,
          52,
          52,
          52,
          52,
          84,
          84,
          84,
          84,
          54.6,
          54.6,
          84,
          84,
          84,
          64,
          25,
          62,
          28,
          64,
          64,
          64,
          100,
          106,
          106,
          64,
          64,
          103,
          64,
          106,
          64,
          106,
          17,
          17,
          17,
          17,
          59,
          175,
          175,
          175,
          175,
          175,
          45,
          48,
          18,
          21,
          36,
          48,
          36,
          48,
          36,
          48,
          24,
          48,
          42,
          21,
          21,
          36,
          48,
          36,
          48,
          50,
          50,
          24
         ],
         "yaxis": "y"
        },
        {
         "customdata": [
          [
           "Jo Malone London",
           "English Pear & Freesia Candle"
          ],
          [
           "Jo Malone London",
           "English Pear & Freesia Travel Candle"
          ],
          [
           "Jo Malone London",
           "Lime Basil & Mandarin Candle"
          ],
          [
           "Jo Malone London",
           "Lime Basil & Mandarin Travel Candle"
          ],
          [
           "Jo Malone London",
           "Peony & Blush Suede Candle"
          ],
          [
           "MALIN+GOETZ",
           "Cannabis Candle"
          ],
          [
           "MALIN+GOETZ",
           "Cannabis Votive Candle"
          ],
          [
           "MALIN+GOETZ",
           "Dark Rum Candle"
          ],
          [
           "MALIN+GOETZ",
           "Dark Rum Votive Candle"
          ],
          [
           "NEST New York",
           "Amalfi Lemon & Mint Candle"
          ],
          [
           "NEST New York",
           "Charcoal Woods Candle"
          ],
          [
           "NEST New York",
           "Driftwood & Chamomile Candle"
          ],
          [
           "NEST New York",
           "Grapefruit Candle"
          ],
          [
           "NEST New York",
           "Grapefruit Votive Candle"
          ],
          [
           "NEST New York",
           "Himalayan Salt & Rosewater Candle"
          ],
          [
           "NEST New York",
           "Lime Zest & Matcha Candle"
          ],
          [
           "NEST New York",
           "Lime Zest & Matcha Votive Candle"
          ],
          [
           "NEST New York",
           "Mediterranean Fig Candle"
          ],
          [
           "NEST New York",
           "Mini Charcoal Woods Candle"
          ],
          [
           "NEST New York",
           "Mini Driftwood & Chamomile Candle"
          ],
          [
           "NEST New York",
           "Mini Himalayan Salt & Rosewater Candle"
          ],
          [
           "NEST New York",
           "Mini Mediterranean Fig Candle"
          ],
          [
           "NEST New York",
           "Mini Pumpkin Chai Candle"
          ],
          [
           "NEST New York",
           "Mini Wild Mint & Eucalyptus Candle"
          ],
          [
           "NEST New York",
           "Rose Noir & Oud Candle"
          ],
          [
           "VOLUSPA",
           "Apple Blue Clover Glass Jar Candle"
          ],
          [
           "VOLUSPA",
           "Baltic Amber Glass Candle"
          ],
          [
           "VOLUSPA",
           "Forbidden Fig Decorative Tin Candle"
          ],
          [
           "VOLUSPA",
           "Forbidden Fig Glass Jar Candle"
          ],
          [
           "VOLUSPA",
           "French Cade & Lavender Decorative Tin Candle"
          ],
          [
           "VOLUSPA",
           "French Cade & Lavender Glass Jar Candle"
          ],
          [
           "VOLUSPA",
           "Goji & Tarocco Orange Decorative Tin Candle"
          ],
          [
           "VOLUSPA",
           "Goji & Tarocco Orange Glass Jar Candle"
          ],
          [
           "VOLUSPA",
           "Goji & Tarocco Orange Mini Decorative Tin Candle"
          ],
          [
           "VOLUSPA",
           "Havana Mint Mojito Glass Jar Candle"
          ],
          [
           "VOLUSPA",
           "Kalahari Watermelon Glass Jar Candle"
          ],
          [
           "VOLUSPA",
           "Mini Apple Blue Clover Glass Jar Cande"
          ],
          [
           "VOLUSPA",
           "Mini Baltic Amber Glass Candle"
          ],
          [
           "VOLUSPA",
           "Mini Forbidden Fig Glass Jar Candle"
          ],
          [
           "VOLUSPA",
           "Mini French Cade & Lavender Glass Candle"
          ],
          [
           "VOLUSPA",
           "Mini Goji & Tarocco Orange Glass Candle"
          ],
          [
           "VOLUSPA",
           "Mini Havana Mint Mojito Glass Jar Candle"
          ],
          [
           "VOLUSPA",
           "Mini Kalahari Watermelon Glass Jar Candle"
          ],
          [
           "VOLUSPA",
           "Mini Panjore Lychee Decorative Tin Candle"
          ],
          [
           "VOLUSPA",
           "Mini Sparkling Cuvee Glass Jar Candle"
          ],
          [
           "VOLUSPA",
           "Mini Tahitian Coconut Vanilla Glass Candle"
          ],
          [
           "VOLUSPA",
           "Panjore Lychee Decorative Tin Candle"
          ],
          [
           "VOLUSPA",
           "Panjore Lychee Glass Jar Candle"
          ],
          [
           "VOLUSPA",
           "Santal Vanille Glass Jar Candle"
          ],
          [
           "VOLUSPA",
           "Sparkling Cuvee Glass Jar Candle"
          ],
          [
           "VOLUSPA",
           "Tahitian Coconut Vanilla Glass Jar Candle"
          ]
         ],
         "hovertemplate": "swatch_group_=Mini size<br>amount_a_first=%{x}<br>price_first=%{y}<br>brand_name_=%{customdata[0]}<br>product_name_=%{customdata[1]}<extra></extra>",
         "legendgroup": "Mini size",
         "marker": {
          "color": "#EF553B",
          "symbol": "circle"
         },
         "mode": "markers",
         "name": "Mini size",
         "orientation": "v",
         "showlegend": true,
         "type": "scatter",
         "x": [
          2.1,
          2.1,
          2.1,
          2.1,
          2.1,
          2.35,
          2.35,
          2.35,
          2.35,
          2,
          2.1,
          3,
          2.1,
          2.1,
          2,
          2,
          2,
          2,
          2.1,
          3,
          2,
          2,
          2,
          2,
          2,
          5.5,
          5.5,
          4,
          5.5,
          4,
          5.5,
          4,
          5.5,
          4,
          5.5,
          5.5,
          5.5,
          5.5,
          5.5,
          5.5,
          5.5,
          5.5,
          5.5,
          4,
          5.5,
          5.5,
          4,
          5.5,
          5.5,
          5.5,
          5.5
         ],
         "xaxis": "x",
         "y": [
          49,
          49,
          49,
          49,
          49,
          27,
          27,
          27,
          27,
          28,
          28,
          28,
          28,
          28,
          28,
          28,
          28,
          25,
          28,
          28,
          28,
          25,
          28,
          28,
          28,
          28,
          28,
          17,
          28,
          17,
          28,
          17,
          28,
          17,
          14,
          28,
          28,
          28,
          28,
          28,
          28,
          14,
          28,
          17,
          28,
          14,
          17,
          28,
          28,
          28,
          14
         ],
         "yaxis": "y"
        },
        {
         "customdata": [
          [
           "NEST New York",
           "Grapefruit Candle"
          ],
          [
           "NEST New York",
           "White Tea & Rosemary Alfresco Candle"
          ],
          [
           "VOLUSPA",
           "Apple Blue Clover Candle"
          ]
         ],
         "hovertemplate": "swatch_group_=Value size<br>amount_a_first=%{x}<br>price_first=%{y}<br>brand_name_=%{customdata[0]}<br>product_name_=%{customdata[1]}<extra></extra>",
         "legendgroup": "Value size",
         "marker": {
          "color": "#00cc96",
          "symbol": "circle"
         },
         "mode": "markers",
         "name": "Value size",
         "orientation": "v",
         "showlegend": true,
         "type": "scatter",
         "x": [
          43.7,
          16.23,
          9
         ],
         "xaxis": "x",
         "y": [
          250,
          259,
          39
         ],
         "yaxis": "y"
        },
        {
         "customdata": [
          [
           "NEST New York",
           "White Tea & Rosemary Alfresco Candle"
          ],
          [
           "NEST New York",
           "White Tea & Rosemary Alfresco Tealight Refill"
          ]
         ],
         "hovertemplate": "swatch_group_=Refill size<br>amount_a_first=%{x}<br>price_first=%{y}<br>brand_name_=%{customdata[0]}<br>product_name_=%{customdata[1]}<extra></extra>",
         "legendgroup": "Refill size",
         "marker": {
          "color": "#ab63fa",
          "symbol": "circle"
         },
         "mode": "markers",
         "name": "Refill size",
         "orientation": "v",
         "showlegend": true,
         "type": "scatter",
         "x": [
          0.42,
          0.42
         ],
         "xaxis": "x",
         "y": [
          39,
          39
         ],
         "yaxis": "y"
        }
       ],
       "layout": {
        "autosize": true,
        "legend": {
         "title": {
          "text": "swatch_group_"
         },
         "tracegroupgap": 0
        },
        "margin": {
         "t": 60
        },
        "template": {
         "data": {
          "bar": [
           {
            "error_x": {
             "color": "#2a3f5f"
            },
            "error_y": {
             "color": "#2a3f5f"
            },
            "marker": {
             "line": {
              "color": "#E5ECF6",
              "width": 0.5
             },
             "pattern": {
              "fillmode": "overlay",
              "size": 10,
              "solidity": 0.2
             }
            },
            "type": "bar"
           }
          ],
          "barpolar": [
           {
            "marker": {
             "line": {
              "color": "#E5ECF6",
              "width": 0.5
             },
             "pattern": {
              "fillmode": "overlay",
              "size": 10,
              "solidity": 0.2
             }
            },
            "type": "barpolar"
           }
          ],
          "carpet": [
           {
            "aaxis": {
             "endlinecolor": "#2a3f5f",
             "gridcolor": "white",
             "linecolor": "white",
             "minorgridcolor": "white",
             "startlinecolor": "#2a3f5f"
            },
            "baxis": {
             "endlinecolor": "#2a3f5f",
             "gridcolor": "white",
             "linecolor": "white",
             "minorgridcolor": "white",
             "startlinecolor": "#2a3f5f"
            },
            "type": "carpet"
           }
          ],
          "choropleth": [
           {
            "colorbar": {
             "outlinewidth": 0,
             "ticks": ""
            },
            "type": "choropleth"
           }
          ],
          "contour": [
           {
            "colorbar": {
             "outlinewidth": 0,
             "ticks": ""
            },
            "colorscale": [
             [
              0,
              "#0d0887"
             ],
             [
              0.1111111111111111,
              "#46039f"
             ],
             [
              0.2222222222222222,
              "#7201a8"
             ],
             [
              0.3333333333333333,
              "#9c179e"
             ],
             [
              0.4444444444444444,
              "#bd3786"
             ],
             [
              0.5555555555555556,
              "#d8576b"
             ],
             [
              0.6666666666666666,
              "#ed7953"
             ],
             [
              0.7777777777777778,
              "#fb9f3a"
             ],
             [
              0.8888888888888888,
              "#fdca26"
             ],
             [
              1,
              "#f0f921"
             ]
            ],
            "type": "contour"
           }
          ],
          "contourcarpet": [
           {
            "colorbar": {
             "outlinewidth": 0,
             "ticks": ""
            },
            "type": "contourcarpet"
           }
          ],
          "heatmap": [
           {
            "colorbar": {
             "outlinewidth": 0,
             "ticks": ""
            },
            "colorscale": [
             [
              0,
              "#0d0887"
             ],
             [
              0.1111111111111111,
              "#46039f"
             ],
             [
              0.2222222222222222,
              "#7201a8"
             ],
             [
              0.3333333333333333,
              "#9c179e"
             ],
             [
              0.4444444444444444,
              "#bd3786"
             ],
             [
              0.5555555555555556,
              "#d8576b"
             ],
             [
              0.6666666666666666,
              "#ed7953"
             ],
             [
              0.7777777777777778,
              "#fb9f3a"
             ],
             [
              0.8888888888888888,
              "#fdca26"
             ],
             [
              1,
              "#f0f921"
             ]
            ],
            "type": "heatmap"
           }
          ],
          "heatmapgl": [
           {
            "colorbar": {
             "outlinewidth": 0,
             "ticks": ""
            },
            "colorscale": [
             [
              0,
              "#0d0887"
             ],
             [
              0.1111111111111111,
              "#46039f"
             ],
             [
              0.2222222222222222,
              "#7201a8"
             ],
             [
              0.3333333333333333,
              "#9c179e"
             ],
             [
              0.4444444444444444,
              "#bd3786"
             ],
             [
              0.5555555555555556,
              "#d8576b"
             ],
             [
              0.6666666666666666,
              "#ed7953"
             ],
             [
              0.7777777777777778,
              "#fb9f3a"
             ],
             [
              0.8888888888888888,
              "#fdca26"
             ],
             [
              1,
              "#f0f921"
             ]
            ],
            "type": "heatmapgl"
           }
          ],
          "histogram": [
           {
            "marker": {
             "pattern": {
              "fillmode": "overlay",
              "size": 10,
              "solidity": 0.2
             }
            },
            "type": "histogram"
           }
          ],
          "histogram2d": [
           {
            "colorbar": {
             "outlinewidth": 0,
             "ticks": ""
            },
            "colorscale": [
             [
              0,
              "#0d0887"
             ],
             [
              0.1111111111111111,
              "#46039f"
             ],
             [
              0.2222222222222222,
              "#7201a8"
             ],
             [
              0.3333333333333333,
              "#9c179e"
             ],
             [
              0.4444444444444444,
              "#bd3786"
             ],
             [
              0.5555555555555556,
              "#d8576b"
             ],
             [
              0.6666666666666666,
              "#ed7953"
             ],
             [
              0.7777777777777778,
              "#fb9f3a"
             ],
             [
              0.8888888888888888,
              "#fdca26"
             ],
             [
              1,
              "#f0f921"
             ]
            ],
            "type": "histogram2d"
           }
          ],
          "histogram2dcontour": [
           {
            "colorbar": {
             "outlinewidth": 0,
             "ticks": ""
            },
            "colorscale": [
             [
              0,
              "#0d0887"
             ],
             [
              0.1111111111111111,
              "#46039f"
             ],
             [
              0.2222222222222222,
              "#7201a8"
             ],
             [
              0.3333333333333333,
              "#9c179e"
             ],
             [
              0.4444444444444444,
              "#bd3786"
             ],
             [
              0.5555555555555556,
              "#d8576b"
             ],
             [
              0.6666666666666666,
              "#ed7953"
             ],
             [
              0.7777777777777778,
              "#fb9f3a"
             ],
             [
              0.8888888888888888,
              "#fdca26"
             ],
             [
              1,
              "#f0f921"
             ]
            ],
            "type": "histogram2dcontour"
           }
          ],
          "mesh3d": [
           {
            "colorbar": {
             "outlinewidth": 0,
             "ticks": ""
            },
            "type": "mesh3d"
           }
          ],
          "parcoords": [
           {
            "line": {
             "colorbar": {
              "outlinewidth": 0,
              "ticks": ""
             }
            },
            "type": "parcoords"
           }
          ],
          "pie": [
           {
            "automargin": true,
            "type": "pie"
           }
          ],
          "scatter": [
           {
            "fillpattern": {
             "fillmode": "overlay",
             "size": 10,
             "solidity": 0.2
            },
            "type": "scatter"
           }
          ],
          "scatter3d": [
           {
            "line": {
             "colorbar": {
              "outlinewidth": 0,
              "ticks": ""
             }
            },
            "marker": {
             "colorbar": {
              "outlinewidth": 0,
              "ticks": ""
             }
            },
            "type": "scatter3d"
           }
          ],
          "scattercarpet": [
           {
            "marker": {
             "colorbar": {
              "outlinewidth": 0,
              "ticks": ""
             }
            },
            "type": "scattercarpet"
           }
          ],
          "scattergeo": [
           {
            "marker": {
             "colorbar": {
              "outlinewidth": 0,
              "ticks": ""
             }
            },
            "type": "scattergeo"
           }
          ],
          "scattergl": [
           {
            "marker": {
             "colorbar": {
              "outlinewidth": 0,
              "ticks": ""
             }
            },
            "type": "scattergl"
           }
          ],
          "scattermapbox": [
           {
            "marker": {
             "colorbar": {
              "outlinewidth": 0,
              "ticks": ""
             }
            },
            "type": "scattermapbox"
           }
          ],
          "scatterpolar": [
           {
            "marker": {
             "colorbar": {
              "outlinewidth": 0,
              "ticks": ""
             }
            },
            "type": "scatterpolar"
           }
          ],
          "scatterpolargl": [
           {
            "marker": {
             "colorbar": {
              "outlinewidth": 0,
              "ticks": ""
             }
            },
            "type": "scatterpolargl"
           }
          ],
          "scatterternary": [
           {
            "marker": {
             "colorbar": {
              "outlinewidth": 0,
              "ticks": ""
             }
            },
            "type": "scatterternary"
           }
          ],
          "surface": [
           {
            "colorbar": {
             "outlinewidth": 0,
             "ticks": ""
            },
            "colorscale": [
             [
              0,
              "#0d0887"
             ],
             [
              0.1111111111111111,
              "#46039f"
             ],
             [
              0.2222222222222222,
              "#7201a8"
             ],
             [
              0.3333333333333333,
              "#9c179e"
             ],
             [
              0.4444444444444444,
              "#bd3786"
             ],
             [
              0.5555555555555556,
              "#d8576b"
             ],
             [
              0.6666666666666666,
              "#ed7953"
             ],
             [
              0.7777777777777778,
              "#fb9f3a"
             ],
             [
              0.8888888888888888,
              "#fdca26"
             ],
             [
              1,
              "#f0f921"
             ]
            ],
            "type": "surface"
           }
          ],
          "table": [
           {
            "cells": {
             "fill": {
              "color": "#EBF0F8"
             },
             "line": {
              "color": "white"
             }
            },
            "header": {
             "fill": {
              "color": "#C8D4E3"
             },
             "line": {
              "color": "white"
             }
            },
            "type": "table"
           }
          ]
         },
         "layout": {
          "annotationdefaults": {
           "arrowcolor": "#2a3f5f",
           "arrowhead": 0,
           "arrowwidth": 1
          },
          "autotypenumbers": "strict",
          "coloraxis": {
           "colorbar": {
            "outlinewidth": 0,
            "ticks": ""
           }
          },
          "colorscale": {
           "diverging": [
            [
             0,
             "#8e0152"
            ],
            [
             0.1,
             "#c51b7d"
            ],
            [
             0.2,
             "#de77ae"
            ],
            [
             0.3,
             "#f1b6da"
            ],
            [
             0.4,
             "#fde0ef"
            ],
            [
             0.5,
             "#f7f7f7"
            ],
            [
             0.6,
             "#e6f5d0"
            ],
            [
             0.7,
             "#b8e186"
            ],
            [
             0.8,
             "#7fbc41"
            ],
            [
             0.9,
             "#4d9221"
            ],
            [
             1,
             "#276419"
            ]
           ],
           "sequential": [
            [
             0,
             "#0d0887"
            ],
            [
             0.1111111111111111,
             "#46039f"
            ],
            [
             0.2222222222222222,
             "#7201a8"
            ],
            [
             0.3333333333333333,
             "#9c179e"
            ],
            [
             0.4444444444444444,
             "#bd3786"
            ],
            [
             0.5555555555555556,
             "#d8576b"
            ],
            [
             0.6666666666666666,
             "#ed7953"
            ],
            [
             0.7777777777777778,
             "#fb9f3a"
            ],
            [
             0.8888888888888888,
             "#fdca26"
            ],
            [
             1,
             "#f0f921"
            ]
           ],
           "sequentialminus": [
            [
             0,
             "#0d0887"
            ],
            [
             0.1111111111111111,
             "#46039f"
            ],
            [
             0.2222222222222222,
             "#7201a8"
            ],
            [
             0.3333333333333333,
             "#9c179e"
            ],
            [
             0.4444444444444444,
             "#bd3786"
            ],
            [
             0.5555555555555556,
             "#d8576b"
            ],
            [
             0.6666666666666666,
             "#ed7953"
            ],
            [
             0.7777777777777778,
             "#fb9f3a"
            ],
            [
             0.8888888888888888,
             "#fdca26"
            ],
            [
             1,
             "#f0f921"
            ]
           ]
          },
          "colorway": [
           "#636efa",
           "#EF553B",
           "#00cc96",
           "#ab63fa",
           "#FFA15A",
           "#19d3f3",
           "#FF6692",
           "#B6E880",
           "#FF97FF",
           "#FECB52"
          ],
          "font": {
           "color": "#2a3f5f"
          },
          "geo": {
           "bgcolor": "white",
           "lakecolor": "white",
           "landcolor": "#E5ECF6",
           "showlakes": true,
           "showland": true,
           "subunitcolor": "white"
          },
          "hoverlabel": {
           "align": "left"
          },
          "hovermode": "closest",
          "mapbox": {
           "style": "light"
          },
          "paper_bgcolor": "white",
          "plot_bgcolor": "#E5ECF6",
          "polar": {
           "angularaxis": {
            "gridcolor": "white",
            "linecolor": "white",
            "ticks": ""
           },
           "bgcolor": "#E5ECF6",
           "radialaxis": {
            "gridcolor": "white",
            "linecolor": "white",
            "ticks": ""
           }
          },
          "scene": {
           "xaxis": {
            "backgroundcolor": "#E5ECF6",
            "gridcolor": "white",
            "gridwidth": 2,
            "linecolor": "white",
            "showbackground": true,
            "ticks": "",
            "zerolinecolor": "white"
           },
           "yaxis": {
            "backgroundcolor": "#E5ECF6",
            "gridcolor": "white",
            "gridwidth": 2,
            "linecolor": "white",
            "showbackground": true,
            "ticks": "",
            "zerolinecolor": "white"
           },
           "zaxis": {
            "backgroundcolor": "#E5ECF6",
            "gridcolor": "white",
            "gridwidth": 2,
            "linecolor": "white",
            "showbackground": true,
            "ticks": "",
            "zerolinecolor": "white"
           }
          },
          "shapedefaults": {
           "line": {
            "color": "#2a3f5f"
           }
          },
          "ternary": {
           "aaxis": {
            "gridcolor": "white",
            "linecolor": "white",
            "ticks": ""
           },
           "baxis": {
            "gridcolor": "white",
            "linecolor": "white",
            "ticks": ""
           },
           "bgcolor": "#E5ECF6",
           "caxis": {
            "gridcolor": "white",
            "linecolor": "white",
            "ticks": ""
           }
          },
          "title": {
           "x": 0.05
          },
          "xaxis": {
           "automargin": true,
           "gridcolor": "white",
           "linecolor": "white",
           "ticks": "",
           "title": {
            "standoff": 15
           },
           "zerolinecolor": "white",
           "zerolinewidth": 2
          },
          "yaxis": {
           "automargin": true,
           "gridcolor": "white",
           "linecolor": "white",
           "ticks": "",
           "title": {
            "standoff": 15
           },
           "zerolinecolor": "white",
           "zerolinewidth": 2
          }
         }
        },
        "xaxis": {
         "anchor": "y",
         "autorange": true,
         "domain": [
          0,
          1
         ],
         "range": [
          -2.2464806742226098,
          46.366480674222615
         ],
         "title": {
          "text": "amount_a_first"
         },
         "type": "linear"
        },
        "yaxis": {
         "anchor": "x",
         "autorange": true,
         "domain": [
          0,
          1
         ],
         "range": [
          -4.969816272965879,
          277.9698162729659
         ],
         "title": {
          "text": "price_first"
         },
         "type": "linear"
        }
       }
      },
      "image/png": "[encoded data removed]",
      "text/html": [
       "<div>                            <div id=\"2d230206-15d5-4fb8-865c-c50037e16fc8\" class=\"plotly-graph-div\" style=\"height:525px; width:100%;\"></div>            <script type=\"text/javascript\">                require([\"plotly\"], function(Plotly) {                    window.PLOTLYENV=window.PLOTLYENV || {};                                    if (document.getElementById(\"2d230206-15d5-4fb8-865c-c50037e16fc8\")) {                    Plotly.newPlot(                        \"2d230206-15d5-4fb8-865c-c50037e16fc8\",                        [{\"customdata\":[[\"Acqua di Parma\",\"Luce di Colonia Candle\"],[\"CLEAN RESERVE\",\"Fresh Linens Candle\"],[\"CLEAN RESERVE\",\"Rain Candle\"],[\"CLEAN RESERVE\",\"Warm Cotton Candle\"],[\"FORVR Mood\",\"Burning Bridges Candle\"],[\"FORVR Mood\",\"Caked Up Candle\"],[\"FORVR Mood\",\"Champagne Showers Candle\"],[\"FORVR Mood\",\"Chasing Waterfalls Candle\"],[\"FORVR Mood\",\"Cuffing Season Candle\"],[\"FORVR Mood\",\"Grown Folks Business Candle\"],[\"FORVR Mood\",\"Leaf Me Be Candle\"],[\"FORVR Mood\",\"Left On Read Candle\"],[\"FORVR Mood\",\"Left on Read Candle\"],[\"FORVR Mood\",\"Matcha Bes-teas Candle\"],[\"FORVR Mood\",\"Matcha Business Candle\"],[\"FORVR Mood\",\"Musta Been The Wind Candle\"],[\"FORVR Mood\",\"NOT Down To Earth Candle\"],[\"FORVR Mood\",\"No Wahala Candle\"],[\"FORVR Mood\",\"Soft Life Candle\"],[\"FORVR Mood\",\"Spice of Life Candle\"],[\"FORVR Mood\",\"Sun Kiss & Tell Candle\"],[\"FORVR Mood\",\"Sweet Wave Candle\"],[\"FORVR Mood\",\"Thirst Trapping Candle\"],[\"FORVR Mood\",\"We Not Linkin Candle\"],[\"Jo Malone London\",\"Blackberry & Bay Candle\"],[\"Jo Malone London\",\"English Pear & Freesia Candle\"],[\"Jo Malone London\",\"Honeysuckle & Davana Candle\"],[\"Jo Malone London\",\"Lime Basil & Mandarin Candle\"],[\"Jo Malone London\",\"Mimosa & Cardamom Candle\"],[\"Jo Malone London\",\"Peony & Blush Suede Candle\"],[\"Jo Malone London\",\"Rose Blush Candle\"],[\"Jo Malone London\",\"Wood Sage & Sea Salt Candle\"],[\"MALIN+GOETZ\",\"Bergamot Candle\"],[\"MALIN+GOETZ\",\"Cannabis Candle\"],[\"MALIN+GOETZ\",\"Dark Rum Candle\"],[\"MALIN+GOETZ\",\"Leather Candle\"],[\"MALIN+GOETZ\",\"Otto Candle\"],[\"MALIN+GOETZ\",\"Sage Candle\"],[\"MALIN+GOETZ\",\"Vetiver Candle\"],[\"Maison Louis Marie\",\"Antidris Cassis Candle\"],[\"Maison Louis Marie\",\"Antidris Lavender Candle\"],[\"Maison Louis Marie\",\"No. 09 Vallee de Farney Candle\"],[\"Maison Louis Marie\",\"No.04 Bois de Balincourt Candle\"],[\"Maison Louis Marie\",\"No.12 Bousval Candle\"],[\"Maison Margiela\",\"'REPLICA' Beach Vibes Scented Candle\"],[\"Maison Margiela\",\"'REPLICA' Bubble Bath Scented Candle\"],[\"Maison Margiela\",\"'REPLICA' By The Fireplace Scented Candle\"],[\"Maison Margiela\",\"'REPLICA' Lazy Sunday Morning Scented Candle\"],[\"Maison Margiela\",\"'REPLICA' Springtime in a Park Scented Candle\"],[\"Maison Margiela\",\"'REPLICA' Whispers in the Library Scented Candle\"],[\"Maison Margiela\",\"\\u2019REPLICA\\u2019 Jazz Club Scented Candle\"],[\"Maison Margiela\",\"\\u2019REPLICA\\u2019 On a Date Scented Candle\"],[\"Maison Margiela\",\"\\u2019REPLICA\\u2019 When the Rain Stops Scented Candle\"],[\"NEST New York\",\"Amalfi Lemon & Mint Candle\"],[\"NEST New York\",\"Apple Blossom 3-Wick Candle\"],[\"NEST New York\",\"Apricot Tea Scented Candle\"],[\"NEST New York\",\"Bamboo Candle\"],[\"NEST New York\",\"Charcoal Woods Candle\"],[\"NEST New York\",\"Driftwood & Chamomile Candle\"],[\"NEST New York\",\"Grapefruit Candle\"],[\"NEST New York\",\"Gray Malin Ocean Mist & Sea Salt Candle\"],[\"NEST New York\",\"Himalayan Salt & Rosewater Candle\"],[\"NEST New York\",\"Lime Zest & Matcha Candle\"],[\"NEST New York\",\"Linen Scented Candle\"],[\"NEST New York\",\"Madagascar Vanilla Candle\"],[\"NEST New York\",\"Mediterranean Fig Candle\"],[\"NEST New York\",\"Moroccan Amber Candle\"],[\"NEST New York\",\"Rose Noir & Oud Candle\"],[\"NEST New York\",\"Velvet Pear Candle\"],[\"NEST New York\",\"Wilderness Midnight Moss & Vetiver Candle\"],[\"SEPHORA COLLECTION\",\"Bloom Scented Candle\"],[\"SEPHORA COLLECTION\",\"Pop Fizz Scented Candle\"],[\"SEPHORA COLLECTION\",\"Refresh Scented Candle\"],[\"SEPHORA COLLECTION\",\"Unwind Scented Candle\"],[\"SKYLAR\",\"Salt Air Candle\"],[\"TOM FORD\",\"Bitter Peach Candle\"],[\"TOM FORD\",\"Ebene Fume Candle\"],[\"TOM FORD\",\"Lost Cherry Candle\"],[\"TOM FORD\",\"Oud Wood Candle\"],[\"TOM FORD\",\"Rose Prick Candle\"],[\"VOLUSPA\",\"Apple Blue Clover Glass Jar Candle\"],[\"VOLUSPA\",\"Baltic Amber Glass Candle\"],[\"VOLUSPA\",\"Blackberry Rose Oud Candle\"],[\"VOLUSPA\",\"Blackberry Rose Oud Tin Candle\"],[\"VOLUSPA\",\"Forbidden Fig Decorative Tin Candle\"],[\"VOLUSPA\",\"Forbidden Fig Glass Jar Candle\"],[\"VOLUSPA\",\"French Cade & Lavender Decorative Tin Candle\"],[\"VOLUSPA\",\"French Cade & Lavender Glass Jar Candle\"],[\"VOLUSPA\",\"Goji & Tarocco Orange Decorative Tin Candle\"],[\"VOLUSPA\",\"Goji & Tarocco Orange Glass Jar Candle\"],[\"VOLUSPA\",\"Havana Mint Mojito Glass Jar Candle\"],[\"VOLUSPA\",\"Kalahari Watermelon Glass Jar Candle\"],[\"VOLUSPA\",\"Mini Candle Set - Goji & Tarocco Orange, Santal Vanille, Panjore Lychee\"],[\"VOLUSPA\",\"Mini Candle Set - Panjore Lychee, Japanese Plum Bloom, Goji & Tarocco Orange\"],[\"VOLUSPA\",\"Mini Candle Trio - French Cade, Goji & Lychee\"],[\"VOLUSPA\",\"Panjore Lychee Decorative Tin Candle\"],[\"VOLUSPA\",\"Panjore Lychee Glass Jar Candle\"],[\"VOLUSPA\",\"Santal Vanille Candle\"],[\"VOLUSPA\",\"Santal Vanille Glass Jar Candle\"],[\"VOLUSPA\",\"Sparkling Cuvee Glass Jar Candle\"],[\"VOLUSPA\",\"Spiced Pumpkin Latte Glass Candle\"],[\"VOLUSPA\",\"Tahitian Coconut Vanilla Glass Jar Candle\"]],\"hovertemplate\":\"swatch_group_=Standard size\\u003cbr\\u003eamount_a_first=%{x}\\u003cbr\\u003eprice_first=%{y}\\u003cbr\\u003ebrand_name_=%{customdata[0]}\\u003cbr\\u003eproduct_name_=%{customdata[1]}\\u003cextra\\u003e\\u003c\\u002fextra\\u003e\",\"legendgroup\":\"Standard size\",\"marker\":{\"color\":\"#636efa\",\"symbol\":\"circle\"},\"mode\":\"markers\",\"name\":\"Standard size\",\"orientation\":\"v\",\"showlegend\":true,\"x\":[7.05,8.0,8.0,8.0,10.0,10.0,10.0,10.0,10.0,10.0,10.0,10.0,10.0,10.0,10.0,10.0,10.0,10.0,10.0,10.0,10.0,10.0,10.0,10.0,7.0,7.0,7.0,7.0,7.0,7.0,7.0,7.0,9.0,9.0,9.0,9.0,9.0,9.0,9.0,8.5,8.5,8.5,8.5,8.5,5.8,5.8,5.8,5.8,5.8,5.8,5.8,5.8,5.8,8.1,2.0,8.1,2.0,8.1,8.1,8.1,20.2,21.2,21.2,8.1,8.1,21.1,8.1,21.1,8.1,21.2,8.0,8.0,8.0,8.0,8.0,7.0,7.0,21.0,7.0,7.0,18.0,18.0,1.8,6.0,12.0,18.0,12.0,18.0,12.0,18.0,18.0,18.0,4.0,4.0,4.0,12.0,18.0,12.0,18.0,18.0,18.0,18.0],\"xaxis\":\"x\",\"y\":[106.0,52.0,52.0,52.0,36.75,36.75,50.0,49.0,36.75,49.0,36.75,36.75,50.0,50.0,36.75,36.75,36.75,49.0,49.0,36.75,36.75,36.75,36.75,49.0,92.0,99.0,99.0,99.0,99.0,99.0,99.0,99.0,75.0,75.0,75.0,75.0,75.0,75.0,72.0,52.0,52.0,52.0,52.0,52.0,84.0,84.0,84.0,84.0,54.6,54.6,84.0,84.0,84.0,64.0,25.0,62.0,28.0,64.0,64.0,64.0,100.0,106.0,106.0,64.0,64.0,103.0,64.0,106.0,64.0,106.0,17.0,17.0,17.0,17.0,59.0,175.0,175.0,175.0,175.0,175.0,45.0,48.0,18.0,21.0,36.0,48.0,36.0,48.0,36.0,48.0,24.0,48.0,42.0,21.0,21.0,36.0,48.0,36.0,48.0,50.0,50.0,24.0],\"yaxis\":\"y\",\"type\":\"scatter\"},{\"customdata\":[[\"Jo Malone London\",\"English Pear & Freesia Candle\"],[\"Jo Malone London\",\"English Pear & Freesia Travel Candle\"],[\"Jo Malone London\",\"Lime Basil & Mandarin Candle\"],[\"Jo Malone London\",\"Lime Basil & Mandarin Travel Candle\"],[\"Jo Malone London\",\"Peony & Blush Suede Candle\"],[\"MALIN+GOETZ\",\"Cannabis Candle\"],[\"MALIN+GOETZ\",\"Cannabis Votive Candle\"],[\"MALIN+GOETZ\",\"Dark Rum Candle\"],[\"MALIN+GOETZ\",\"Dark Rum Votive Candle\"],[\"NEST New York\",\"Amalfi Lemon & Mint Candle\"],[\"NEST New York\",\"Charcoal Woods Candle\"],[\"NEST New York\",\"Driftwood & Chamomile Candle\"],[\"NEST New York\",\"Grapefruit Candle\"],[\"NEST New York\",\"Grapefruit Votive Candle\"],[\"NEST New York\",\"Himalayan Salt & Rosewater Candle\"],[\"NEST New York\",\"Lime Zest & Matcha Candle\"],[\"NEST New York\",\"Lime Zest & Matcha Votive Candle\"],[\"NEST New York\",\"Mediterranean Fig Candle\"],[\"NEST New York\",\"Mini Charcoal Woods Candle\"],[\"NEST New York\",\"Mini Driftwood & Chamomile Candle\"],[\"NEST New York\",\"Mini Himalayan Salt & Rosewater Candle\"],[\"NEST New York\",\"Mini Mediterranean Fig Candle\"],[\"NEST New York\",\"Mini Pumpkin Chai Candle\"],[\"NEST New York\",\"Mini Wild Mint & Eucalyptus Candle\"],[\"NEST New York\",\"Rose Noir & Oud Candle\"],[\"VOLUSPA\",\"Apple Blue Clover Glass Jar Candle\"],[\"VOLUSPA\",\"Baltic Amber Glass Candle\"],[\"VOLUSPA\",\"Forbidden Fig Decorative Tin Candle\"],[\"VOLUSPA\",\"Forbidden Fig Glass Jar Candle\"],[\"VOLUSPA\",\"French Cade & Lavender Decorative Tin Candle\"],[\"VOLUSPA\",\"French Cade & Lavender Glass Jar Candle\"],[\"VOLUSPA\",\"Goji & Tarocco Orange Decorative Tin Candle\"],[\"VOLUSPA\",\"Goji & Tarocco Orange Glass Jar Candle\"],[\"VOLUSPA\",\"Goji & Tarocco Orange Mini Decorative Tin Candle\"],[\"VOLUSPA\",\"Havana Mint Mojito Glass Jar Candle\"],[\"VOLUSPA\",\"Kalahari Watermelon Glass Jar Candle\"],[\"VOLUSPA\",\"Mini Apple Blue Clover Glass Jar Cande\"],[\"VOLUSPA\",\"Mini Baltic Amber Glass Candle\"],[\"VOLUSPA\",\"Mini Forbidden Fig Glass Jar Candle\"],[\"VOLUSPA\",\"Mini French Cade & Lavender Glass Candle\"],[\"VOLUSPA\",\"Mini Goji & Tarocco Orange Glass Candle\"],[\"VOLUSPA\",\"Mini Havana Mint Mojito Glass Jar Candle\"],[\"VOLUSPA\",\"Mini Kalahari Watermelon Glass Jar Candle\"],[\"VOLUSPA\",\"Mini Panjore Lychee Decorative Tin Candle\"],[\"VOLUSPA\",\"Mini Sparkling Cuvee Glass Jar Candle\"],[\"VOLUSPA\",\"Mini Tahitian Coconut Vanilla Glass Candle\"],[\"VOLUSPA\",\"Panjore Lychee Decorative Tin Candle\"],[\"VOLUSPA\",\"Panjore Lychee Glass Jar Candle\"],[\"VOLUSPA\",\"Santal Vanille Glass Jar Candle\"],[\"VOLUSPA\",\"Sparkling Cuvee Glass Jar Candle\"],[\"VOLUSPA\",\"Tahitian Coconut Vanilla Glass Jar Candle\"]],\"hovertemplate\":\"swatch_group_=Mini size\\u003cbr\\u003eamount_a_first=%{x}\\u003cbr\\u003eprice_first=%{y}\\u003cbr\\u003ebrand_name_=%{customdata[0]}\\u003cbr\\u003eproduct_name_=%{customdata[1]}\\u003cextra\\u003e\\u003c\\u002fextra\\u003e\",\"legendgroup\":\"Mini size\",\"marker\":{\"color\":\"#EF553B\",\"symbol\":\"circle\"},\"mode\":\"markers\",\"name\":\"Mini size\",\"orientation\":\"v\",\"showlegend\":true,\"x\":[2.1,2.1,2.1,2.1,2.1,2.35,2.35,2.35,2.35,2.0,2.1,3.0,2.1,2.1,2.0,2.0,2.0,2.0,2.1,3.0,2.0,2.0,2.0,2.0,2.0,5.5,5.5,4.0,5.5,4.0,5.5,4.0,5.5,4.0,5.5,5.5,5.5,5.5,5.5,5.5,5.5,5.5,5.5,4.0,5.5,5.5,4.0,5.5,5.5,5.5,5.5],\"xaxis\":\"x\",\"y\":[49.0,49.0,49.0,49.0,49.0,27.0,27.0,27.0,27.0,28.0,28.0,28.0,28.0,28.0,28.0,28.0,28.0,25.0,28.0,28.0,28.0,25.0,28.0,28.0,28.0,28.0,28.0,17.0,28.0,17.0,28.0,17.0,28.0,17.0,14.0,28.0,28.0,28.0,28.0,28.0,28.0,14.0,28.0,17.0,28.0,14.0,17.0,28.0,28.0,28.0,14.0],\"yaxis\":\"y\",\"type\":\"scatter\"},{\"customdata\":[[\"NEST New York\",\"Grapefruit Candle\"],[\"NEST New York\",\"White Tea & Rosemary Alfresco Candle\"],[\"VOLUSPA\",\"Apple Blue Clover Candle\"]],\"hovertemplate\":\"swatch_group_=Value size\\u003cbr\\u003eamount_a_first=%{x}\\u003cbr\\u003eprice_first=%{y}\\u003cbr\\u003ebrand_name_=%{customdata[0]}\\u003cbr\\u003eproduct_name_=%{customdata[1]}\\u003cextra\\u003e\\u003c\\u002fextra\\u003e\",\"legendgroup\":\"Value size\",\"marker\":{\"color\":\"#00cc96\",\"symbol\":\"circle\"},\"mode\":\"markers\",\"name\":\"Value size\",\"orientation\":\"v\",\"showlegend\":true,\"x\":[43.7,16.23,9.0],\"xaxis\":\"x\",\"y\":[250.0,259.0,39.0],\"yaxis\":\"y\",\"type\":\"scatter\"},{\"customdata\":[[\"NEST New York\",\"White Tea & Rosemary Alfresco Candle\"],[\"NEST New York\",\"White Tea & Rosemary Alfresco Tealight Refill\"]],\"hovertemplate\":\"swatch_group_=Refill size\\u003cbr\\u003eamount_a_first=%{x}\\u003cbr\\u003eprice_first=%{y}\\u003cbr\\u003ebrand_name_=%{customdata[0]}\\u003cbr\\u003eproduct_name_=%{customdata[1]}\\u003cextra\\u003e\\u003c\\u002fextra\\u003e\",\"legendgroup\":\"Refill size\",\"marker\":{\"color\":\"#ab63fa\",\"symbol\":\"circle\"},\"mode\":\"markers\",\"name\":\"Refill size\",\"orientation\":\"v\",\"showlegend\":true,\"x\":[0.42,0.42],\"xaxis\":\"x\",\"y\":[39.0,39.0],\"yaxis\":\"y\",\"type\":\"scatter\"}],                        {\"template\":{\"data\":{\"histogram2dcontour\":[{\"type\":\"histogram2dcontour\",\"colorbar\":{\"outlinewidth\":0,\"ticks\":\"\"},\"colorscale\":[[0.0,\"#0d0887\"],[0.1111111111111111,\"#46039f\"],[0.2222222222222222,\"#7201a8\"],[0.3333333333333333,\"#9c179e\"],[0.4444444444444444,\"#bd3786\"],[0.5555555555555556,\"#d8576b\"],[0.6666666666666666,\"#ed7953\"],[0.7777777777777778,\"#fb9f3a\"],[0.8888888888888888,\"#fdca26\"],[1.0,\"#f0f921\"]]}],\"choropleth\":[{\"type\":\"choropleth\",\"colorbar\":{\"outlinewidth\":0,\"ticks\":\"\"}}],\"histogram2d\":[{\"type\":\"histogram2d\",\"colorbar\":{\"outlinewidth\":0,\"ticks\":\"\"},\"colorscale\":[[0.0,\"#0d0887\"],[0.1111111111111111,\"#46039f\"],[0.2222222222222222,\"#7201a8\"],[0.3333333333333333,\"#9c179e\"],[0.4444444444444444,\"#bd3786\"],[0.5555555555555556,\"#d8576b\"],[0.6666666666666666,\"#ed7953\"],[0.7777777777777778,\"#fb9f3a\"],[0.8888888888888888,\"#fdca26\"],[1.0,\"#f0f921\"]]}],\"heatmap\":[{\"type\":\"heatmap\",\"colorbar\":{\"outlinewidth\":0,\"ticks\":\"\"},\"colorscale\":[[0.0,\"#0d0887\"],[0.1111111111111111,\"#46039f\"],[0.2222222222222222,\"#7201a8\"],[0.3333333333333333,\"#9c179e\"],[0.4444444444444444,\"#bd3786\"],[0.5555555555555556,\"#d8576b\"],[0.6666666666666666,\"#ed7953\"],[0.7777777777777778,\"#fb9f3a\"],[0.8888888888888888,\"#fdca26\"],[1.0,\"#f0f921\"]]}],\"heatmapgl\":[{\"type\":\"heatmapgl\",\"colorbar\":{\"outlinewidth\":0,\"ticks\":\"\"},\"colorscale\":[[0.0,\"#0d0887\"],[0.1111111111111111,\"#46039f\"],[0.2222222222222222,\"#7201a8\"],[0.3333333333333333,\"#9c179e\"],[0.4444444444444444,\"#bd3786\"],[0.5555555555555556,\"#d8576b\"],[0.6666666666666666,\"#ed7953\"],[0.7777777777777778,\"#fb9f3a\"],[0.8888888888888888,\"#fdca26\"],[1.0,\"#f0f921\"]]}],\"contourcarpet\":[{\"type\":\"contourcarpet\",\"colorbar\":{\"outlinewidth\":0,\"ticks\":\"\"}}],\"contour\":[{\"type\":\"contour\",\"colorbar\":{\"outlinewidth\":0,\"ticks\":\"\"},\"colorscale\":[[0.0,\"#0d0887\"],[0.1111111111111111,\"#46039f\"],[0.2222222222222222,\"#7201a8\"],[0.3333333333333333,\"#9c179e\"],[0.4444444444444444,\"#bd3786\"],[0.5555555555555556,\"#d8576b\"],[0.6666666666666666,\"#ed7953\"],[0.7777777777777778,\"#fb9f3a\"],[0.8888888888888888,\"#fdca26\"],[1.0,\"#f0f921\"]]}],\"surface\":[{\"type\":\"surface\",\"colorbar\":{\"outlinewidth\":0,\"ticks\":\"\"},\"colorscale\":[[0.0,\"#0d0887\"],[0.1111111111111111,\"#46039f\"],[0.2222222222222222,\"#7201a8\"],[0.3333333333333333,\"#9c179e\"],[0.4444444444444444,\"#bd3786\"],[0.5555555555555556,\"#d8576b\"],[0.6666666666666666,\"#ed7953\"],[0.7777777777777778,\"#fb9f3a\"],[0.8888888888888888,\"#fdca26\"],[1.0,\"#f0f921\"]]}],\"mesh3d\":[{\"type\":\"mesh3d\",\"colorbar\":{\"outlinewidth\":0,\"ticks\":\"\"}}],\"scatter\":[{\"fillpattern\":{\"fillmode\":\"overlay\",\"size\":10,\"solidity\":0.2},\"type\":\"scatter\"}],\"parcoords\":[{\"type\":\"parcoords\",\"line\":{\"colorbar\":{\"outlinewidth\":0,\"ticks\":\"\"}}}],\"scatterpolargl\":[{\"type\":\"scatterpolargl\",\"marker\":{\"colorbar\":{\"outlinewidth\":0,\"ticks\":\"\"}}}],\"bar\":[{\"error_x\":{\"color\":\"#2a3f5f\"},\"error_y\":{\"color\":\"#2a3f5f\"},\"marker\":{\"line\":{\"color\":\"#E5ECF6\",\"width\":0.5},\"pattern\":{\"fillmode\":\"overlay\",\"size\":10,\"solidity\":0.2}},\"type\":\"bar\"}],\"scattergeo\":[{\"type\":\"scattergeo\",\"marker\":{\"colorbar\":{\"outlinewidth\":0,\"ticks\":\"\"}}}],\"scatterpolar\":[{\"type\":\"scatterpolar\",\"marker\":{\"colorbar\":{\"outlinewidth\":0,\"ticks\":\"\"}}}],\"histogram\":[{\"marker\":{\"pattern\":{\"fillmode\":\"overlay\",\"size\":10,\"solidity\":0.2}},\"type\":\"histogram\"}],\"scattergl\":[{\"type\":\"scattergl\",\"marker\":{\"colorbar\":{\"outlinewidth\":0,\"ticks\":\"\"}}}],\"scatter3d\":[{\"type\":\"scatter3d\",\"line\":{\"colorbar\":{\"outlinewidth\":0,\"ticks\":\"\"}},\"marker\":{\"colorbar\":{\"outlinewidth\":0,\"ticks\":\"\"}}}],\"scattermapbox\":[{\"type\":\"scattermapbox\",\"marker\":{\"colorbar\":{\"outlinewidth\":0,\"ticks\":\"\"}}}],\"scatterternary\":[{\"type\":\"scatterternary\",\"marker\":{\"colorbar\":{\"outlinewidth\":0,\"ticks\":\"\"}}}],\"scattercarpet\":[{\"type\":\"scattercarpet\",\"marker\":{\"colorbar\":{\"outlinewidth\":0,\"ticks\":\"\"}}}],\"carpet\":[{\"aaxis\":{\"endlinecolor\":\"#2a3f5f\",\"gridcolor\":\"white\",\"linecolor\":\"white\",\"minorgridcolor\":\"white\",\"startlinecolor\":\"#2a3f5f\"},\"baxis\":{\"endlinecolor\":\"#2a3f5f\",\"gridcolor\":\"white\",\"linecolor\":\"white\",\"minorgridcolor\":\"white\",\"startlinecolor\":\"#2a3f5f\"},\"type\":\"carpet\"}],\"table\":[{\"cells\":{\"fill\":{\"color\":\"#EBF0F8\"},\"line\":{\"color\":\"white\"}},\"header\":{\"fill\":{\"color\":\"#C8D4E3\"},\"line\":{\"color\":\"white\"}},\"type\":\"table\"}],\"barpolar\":[{\"marker\":{\"line\":{\"color\":\"#E5ECF6\",\"width\":0.5},\"pattern\":{\"fillmode\":\"overlay\",\"size\":10,\"solidity\":0.2}},\"type\":\"barpolar\"}],\"pie\":[{\"automargin\":true,\"type\":\"pie\"}]},\"layout\":{\"autotypenumbers\":\"strict\",\"colorway\":[\"#636efa\",\"#EF553B\",\"#00cc96\",\"#ab63fa\",\"#FFA15A\",\"#19d3f3\",\"#FF6692\",\"#B6E880\",\"#FF97FF\",\"#FECB52\"],\"font\":{\"color\":\"#2a3f5f\"},\"hovermode\":\"closest\",\"hoverlabel\":{\"align\":\"left\"},\"paper_bgcolor\":\"white\",\"plot_bgcolor\":\"#E5ECF6\",\"polar\":{\"bgcolor\":\"#E5ECF6\",\"angularaxis\":{\"gridcolor\":\"white\",\"linecolor\":\"white\",\"ticks\":\"\"},\"radialaxis\":{\"gridcolor\":\"white\",\"linecolor\":\"white\",\"ticks\":\"\"}},\"ternary\":{\"bgcolor\":\"#E5ECF6\",\"aaxis\":{\"gridcolor\":\"white\",\"linecolor\":\"white\",\"ticks\":\"\"},\"baxis\":{\"gridcolor\":\"white\",\"linecolor\":\"white\",\"ticks\":\"\"},\"caxis\":{\"gridcolor\":\"white\",\"linecolor\":\"white\",\"ticks\":\"\"}},\"coloraxis\":{\"colorbar\":{\"outlinewidth\":0,\"ticks\":\"\"}},\"colorscale\":{\"sequential\":[[0.0,\"#0d0887\"],[0.1111111111111111,\"#46039f\"],[0.2222222222222222,\"#7201a8\"],[0.3333333333333333,\"#9c179e\"],[0.4444444444444444,\"#bd3786\"],[0.5555555555555556,\"#d8576b\"],[0.6666666666666666,\"#ed7953\"],[0.7777777777777778,\"#fb9f3a\"],[0.8888888888888888,\"#fdca26\"],[1.0,\"#f0f921\"]],\"sequentialminus\":[[0.0,\"#0d0887\"],[0.1111111111111111,\"#46039f\"],[0.2222222222222222,\"#7201a8\"],[0.3333333333333333,\"#9c179e\"],[0.4444444444444444,\"#bd3786\"],[0.5555555555555556,\"#d8576b\"],[0.6666666666666666,\"#ed7953\"],[0.7777777777777778,\"#fb9f3a\"],[0.8888888888888888,\"#fdca26\"],[1.0,\"#f0f921\"]],\"diverging\":[[0,\"#8e0152\"],[0.1,\"#c51b7d\"],[0.2,\"#de77ae\"],[0.3,\"#f1b6da\"],[0.4,\"#fde0ef\"],[0.5,\"#f7f7f7\"],[0.6,\"#e6f5d0\"],[0.7,\"#b8e186\"],[0.8,\"#7fbc41\"],[0.9,\"#4d9221\"],[1,\"#276419\"]]},\"xaxis\":{\"gridcolor\":\"white\",\"linecolor\":\"white\",\"ticks\":\"\",\"title\":{\"standoff\":15},\"zerolinecolor\":\"white\",\"automargin\":true,\"zerolinewidth\":2},\"yaxis\":{\"gridcolor\":\"white\",\"linecolor\":\"white\",\"ticks\":\"\",\"title\":{\"standoff\":15},\"zerolinecolor\":\"white\",\"automargin\":true,\"zerolinewidth\":2},\"scene\":{\"xaxis\":{\"backgroundcolor\":\"#E5ECF6\",\"gridcolor\":\"white\",\"linecolor\":\"white\",\"showbackground\":true,\"ticks\":\"\",\"zerolinecolor\":\"white\",\"gridwidth\":2},\"yaxis\":{\"backgroundcolor\":\"#E5ECF6\",\"gridcolor\":\"white\",\"linecolor\":\"white\",\"showbackground\":true,\"ticks\":\"\",\"zerolinecolor\":\"white\",\"gridwidth\":2},\"zaxis\":{\"backgroundcolor\":\"#E5ECF6\",\"gridcolor\":\"white\",\"linecolor\":\"white\",\"showbackground\":true,\"ticks\":\"\",\"zerolinecolor\":\"white\",\"gridwidth\":2}},\"shapedefaults\":{\"line\":{\"color\":\"#2a3f5f\"}},\"annotationdefaults\":{\"arrowcolor\":\"#2a3f5f\",\"arrowhead\":0,\"arrowwidth\":1},\"geo\":{\"bgcolor\":\"white\",\"landcolor\":\"#E5ECF6\",\"subunitcolor\":\"white\",\"showland\":true,\"showlakes\":true,\"lakecolor\":\"white\"},\"title\":{\"x\":0.05},\"mapbox\":{\"style\":\"light\"}}},\"xaxis\":{\"anchor\":\"y\",\"domain\":[0.0,1.0],\"title\":{\"text\":\"amount_a_first\"}},\"yaxis\":{\"anchor\":\"x\",\"domain\":[0.0,1.0],\"title\":{\"text\":\"price_first\"}},\"legend\":{\"title\":{\"text\":\"swatch_group_\"},\"tracegroupgap\":0},\"margin\":{\"t\":60}},                        {\"responsive\": true}                    ).then(function(){\n",
       "                            \n",
       "var gd = document.getElementById('2d230206-15d5-4fb8-865c-c50037e16fc8');\n",
       "var x = new MutationObserver(function (mutations, observer) {{\n",
       "        var display = window.getComputedStyle(gd).display;\n",
       "        if (!display || display === 'none') {{\n",
       "            console.log([gd, 'removed!']);\n",
       "            Plotly.purge(gd);\n",
       "            observer.disconnect();\n",
       "        }}\n",
       "}});\n",
       "\n",
       "// Listen for the removal of the full notebook cells\n",
       "var notebookContainer = gd.closest('#notebook-container');\n",
       "if (notebookContainer) {{\n",
       "    x.observe(notebookContainer, {childList: true});\n",
       "}}\n",
       "\n",
       "// Listen for the clearing of the current output cell\n",
       "var outputEl = gd.closest('.output');\n",
       "if (outputEl) {{\n",
       "    x.observe(outputEl, {childList: true});\n",
       "}}\n",
       "\n",
       "                        })                };                });            </script>        </div>"
      ]
     },
     "metadata": {},
     "output_type": "display_data"
    }
   ],
   "source": [
    "fig = px.scatter(solid_products[solid_products['lvl_2_cat_first']=='Candles'], x=\"amount_a_first\", y=\"price_first\", color=\"swatch_group_\", hover_data=['brand_name_', 'product_name_'])\n",
    "fig.show()"
   ]
  },
  {
   "cell_type": "code",
   "execution_count": null,
   "id": "3495ab73-2cc7-43a7-aad0-2aef3ed4b491",
   "metadata": {},
   "outputs": [],
   "source": []
  }
 ],
 "metadata": {
  "kernelspec": {
   "display_name": "Python 3 (ipykernel)",
   "language": "python",
   "name": "python3"
  },
  "language_info": {
   "codemirror_mode": {
    "name": "ipython",
    "version": 3
   },
   "file_extension": ".py",
   "mimetype": "text/x-python",
   "name": "python",
   "nbconvert_exporter": "python",
   "pygments_lexer": "ipython3",
   "version": "3.11.3"
  }
 },
 "nbformat": 4,
 "nbformat_minor": 5
}
