{
 "cells": [
  {
   "cell_type": "code",
   "execution_count": 1,
   "id": "25d944ec-7bca-478e-b3f2-bb8aecb5b1ab",
   "metadata": {},
   "outputs": [],
   "source": [
    "import glob\n",
    "import json\n",
    "import pandas as pd\n",
    "\n",
    "pd.set_option('display.max_rows', 500)\n",
    "pd.set_option('display.max_columns', 500)\n",
    "pd.set_option('display.width', 1000)\n"
   ]
  },
  {
   "cell_type": "code",
   "execution_count": 2,
   "id": "758a97b8-26a4-436e-91b0-d1bbed70aa22",
   "metadata": {},
   "outputs": [],
   "source": [
    "product_files = glob.glob(\"data/products/*\")\n",
    "products = []\n",
    "for product_file in product_files:\n",
    "    with open(product_file) as file:\n",
    "        products.append(pd.json_normalize(json.loads(file.read())))\n",
    "        \n",
    "df_products = pd.concat(products, axis=0)\n"
   ]
  },
  {
   "cell_type": "code",
   "execution_count": 3,
   "id": "67e8ae2e-27b7-4f97-984b-049bcab7c243",
   "metadata": {},
   "outputs": [],
   "source": [
    "df_products = df_products[df_products['product_name'].notnull()]\n"
   ]
  },
  {
   "cell_type": "code",
   "execution_count": 16,
   "id": "ed8feb82-1725-43bb-8298-704f5ea92f78",
   "metadata": {},
   "outputs": [
    {
     "data": {
      "text/plain": [
       "[{'swatch_group': 'Standard size',\n",
       "  'size': 'Size 0.01 oz/ 0.28 g',\n",
       "  'name': 'Color: Saddle - rich brownONLY A FEW LEFT',\n",
       "  'price': '$53.00',\n",
       "  'sku': 'Item 1685353'}]"
      ]
     },
     "execution_count": 16,
     "metadata": {},
     "output_type": "execute_result"
    }
   ],
   "source": [
    "# data cleaning to-dos\n",
    "# rating -> stars\n",
    "# expand options\n",
    "#    for many single option items, size is in name \n",
    "df_products.iloc[80]['options']"
   ]
  },
  {
   "cell_type": "code",
   "execution_count": 42,
   "id": "1b99dc9c-3b5d-428a-a4de-50f11ba04586",
   "metadata": {},
   "outputs": [],
   "source": [
    "product_options = []\n",
    "for product in df_products.iterrows():\n",
    "    url = product[1]['url']\n",
    "    df_options = pd.json_normalize(product[1]['options'])\n",
    "    df_options['url'] = url\n",
    "    product_options.append(df_options)"
   ]
  },
  {
   "cell_type": "code",
   "execution_count": 45,
   "id": "71607a94-bbec-4def-a66d-52ba9962e974",
   "metadata": {},
   "outputs": [],
   "source": [
    "df_products = df_products.merge(pd.concat(product_options), how='left', on='url')"
   ]
  },
  {
   "cell_type": "code",
   "execution_count": 56,
   "id": "76746414-f22d-44f2-a827-e1330257932e",
   "metadata": {},
   "outputs": [
    {
     "data": {
      "text/plain": [
       "0         True\n",
       "1         True\n",
       "2         True\n",
       "3         True\n",
       "4         True\n",
       "         ...  \n",
       "10449     True\n",
       "10450     True\n",
       "10451     True\n",
       "10452     True\n",
       "10453    False\n",
       "Name: name, Length: 10454, dtype: bool"
      ]
     },
     "execution_count": 56,
     "metadata": {},
     "output_type": "execute_result"
    }
   ],
   "source": [
    "df_products['name'].str.contains(\"Size: \").fillna(False)\n"
   ]
  },
  {
   "cell_type": "code",
   "execution_count": 55,
   "id": "59c6ec91-fb0f-49f9-89a1-bf8e842ce5f4",
   "metadata": {},
   "outputs": [
    {
     "data": {
      "text/plain": [
       "0         True\n",
       "1         True\n",
       "2         True\n",
       "3         True\n",
       "4         True\n",
       "         ...  \n",
       "10449     True\n",
       "10450     True\n",
       "10451     True\n",
       "10452     True\n",
       "10453    False\n",
       "Name: size, Length: 10454, dtype: bool"
      ]
     },
     "execution_count": 55,
     "metadata": {},
     "output_type": "execute_result"
    }
   ],
   "source": [
    "df_products['size']"
   ]
  },
  {
   "cell_type": "code",
   "execution_count": null,
   "id": "d7ddaf17-6067-4867-a74e-8d460bad166d",
   "metadata": {},
   "outputs": [],
   "source": []
  }
 ],
 "metadata": {
  "kernelspec": {
   "display_name": "Python 3 (ipykernel)",
   "language": "python",
   "name": "python3"
  },
  "language_info": {
   "codemirror_mode": {
    "name": "ipython",
    "version": 3
   },
   "file_extension": ".py",
   "mimetype": "text/x-python",
   "name": "python",
   "nbconvert_exporter": "python",
   "pygments_lexer": "ipython3",
   "version": "3.11.3"
  }
 },
 "nbformat": 4,
 "nbformat_minor": 5
}
