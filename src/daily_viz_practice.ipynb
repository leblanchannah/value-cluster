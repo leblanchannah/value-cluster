{
 "cells": [
  {
   "cell_type": "code",
   "execution_count": 8,
   "metadata": {},
   "outputs": [],
   "source": [
    "\n",
    "import pandas as pd\n",
    "import numpy as np\n",
    "import plotly.express as px\n",
    "\n",
    "import matplotlib.pyplot as plt\n",
    "\n",
    "from sklearn.linear_model import LinearRegression\n",
    "import plotly.graph_objects as go\n",
    "\n",
    "pd.set_option('display.max_columns', None)\n",
    "pd.set_option('display.max_rows', 50)\n",
    "pd.set_option('display.max_colwidth', 100)"
   ]
  },
  {
   "cell_type": "code",
   "execution_count": 2,
   "metadata": {},
   "outputs": [],
   "source": [
    "# updates for database and webscraping code\n",
    "# TODO brand_source_id is not working - null\n",
    "# TODO no actual product names in data - adjust displayname col\n"
   ]
  },
  {
   "cell_type": "code",
   "execution_count": 3,
   "metadata": {},
   "outputs": [],
   "source": [
    "df = pd.read_csv('../data/preprocessed_data.csv')\n"
   ]
  },
  {
   "cell_type": "markdown",
   "metadata": {},
   "source": [
    "### Day 1 - Basic scatter, mascara pricing at sephora"
   ]
  },
  {
   "cell_type": "code",
   "execution_count": null,
   "metadata": {},
   "outputs": [
    {
     "data": {
      "application/vnd.plotly.v1+json": {
       "config": {
        "plotlyServerURL": "https://plot.ly"
       },
       "data": [
        {
         "customdata": [
          [
           "Ami Colé",
           "/product/lash-amplifying-volumizing-lengthening-mascara-P503762",
           "P503762"
          ],
          [
           "Ami Colé",
           "/product/lash-amplifying-volumizing-lengthening-mascara-P503762",
           "P503762"
          ],
          [
           "Anastasia Beverly Hills",
           "/product/anastasia-beverly-hills-lash-brag-volumizing-mascara-P455981",
           "P455981"
          ],
          [
           "Anastasia Beverly Hills",
           "/product/lash-sculpt-lengthening-volumizing-mascara-P507655",
           "P507655"
          ],
          [
           "Armani Beauty",
           "/product/eyes-to-kill-mascara-P393671",
           "P393671"
          ],
          [
           "Armani Beauty",
           "/product/eccentrico-mascara-P410669",
           "P410669"
          ],
          [
           "Benefit Cosmetics",
           "/product/fan-fest-mascara-P506688",
           "P506688"
          ],
          [
           "Benefit Cosmetics",
           "/product/they-re-real-lengthening-volumizing-mascara-P289307",
           "P289307"
          ],
          [
           "Benefit Cosmetics",
           "/product/bad-gal-bang-mascara-P427517",
           "P427517"
          ],
          [
           "Benefit Cosmetics",
           "/product/bad-gal-bang-mascara-P427517",
           "P427517"
          ],
          [
           "Benefit Cosmetics",
           "/product/bad-gal-bang-mascara-P427517",
           "P427517"
          ],
          [
           "Benefit Cosmetics",
           "/product/bad-gal-bang-mascara-P427517",
           "P427517"
          ],
          [
           "Benefit Cosmetics",
           "/product/benefit-cosmetics-they-re-real-magnet-extreme-lengthening-mascara-P469203",
           "P469203"
          ],
          [
           "Benefit Cosmetics",
           "/product/benefit-cosmetics-badgal-bang-volumizing-waterproof-mascara-P484032",
           "P484032"
          ],
          [
           "Benefit Cosmetics",
           "/product/bad-gal-bang-mascara-P427517",
           "P427517"
          ],
          [
           "Benefit Cosmetics",
           "/product/bad-gal-bang-mascara-P427517",
           "P427517"
          ],
          [
           "Benefit Cosmetics",
           "/product/bad-gal-bang-mascara-P427517",
           "P427517"
          ],
          [
           "Benefit Cosmetics",
           "/product/bad-gal-bang-mascara-P427517",
           "P427517"
          ],
          [
           "Blinc",
           "/product/blinc-mascara-P46017",
           "P46017"
          ],
          [
           "Blinc",
           "/product/mascara-amplified-P377750",
           "P377750"
          ],
          [
           "Bobbi Brown",
           "/product/eye-opening-mascara-P403974",
           "P403974"
          ],
          [
           "Bobbi Brown",
           "/product/no-smudge-mascara-P383334",
           "P383334"
          ],
          [
           "Bobbi Brown",
           "/product/smokey-eye-mascara-P382581",
           "P382581"
          ],
          [
           "Buxom",
           "/product/buxom-lash-mascara-P228204",
           "P228204"
          ],
          [
           "caliray",
           "/product/caliray-come-hell-or-high-water-volumizing-tubing-mascara-P479308",
           "P479308"
          ],
          [
           "Charlotte Tilbury",
           "/product/charlotte-tilbury-pillow-talk-push-up-lashes-mascara-P462841",
           "P462841"
          ],
          [
           "Charlotte Tilbury",
           "/product/charlotte-tilbury-exaggereyes-volumizing-and-curling-mascara-P513485",
           "P513485"
          ],
          [
           "Cheekbone Beauty",
           "/product/cheekbone-uprise-mascara-P511706",
           "P511706"
          ],
          [
           "CLINIQUE",
           "/product/high-impact-high-fi-tm-full-volume-mascara-P507084",
           "P507084"
          ],
          [
           "CLINIQUE",
           "/product/high-impact-waterproof-mascara-P377219",
           "P377219"
          ],
          [
           "DIOR",
           "/product/diorshow-iconic-overcurl-mascara-P377821",
           "P377821"
          ],
          [
           "DIOR",
           "/product/diorshow-mascara-P396240",
           "P396240"
          ],
          [
           "DIOR",
           "/product/diorshow-mascara-P396240",
           "P396240"
          ],
          [
           "DIOR",
           "/product/diorshow-mascara-P396240",
           "P396240"
          ],
          [
           "DIOR",
           "/product/diorshow-maximizer-4d-P511584",
           "P511584"
          ],
          [
           "Fenty Beauty by Rihanna",
           "/product/fenty-hella-thicc-volumizing-mascara-P505055",
           "P505055"
          ],
          [
           "Freck Beauty",
           "/product/freck-beauty-lashrocket-mascara-with-lash-enhancing-peptides-P481819",
           "P481819"
          ],
          [
           "Givenchy",
           "/product/givenchy-l-interdit-mascara-P510073",
           "P510073"
          ],
          [
           "Givenchy",
           "/product/mascara-volume-disturbia-P446334",
           "P446334"
          ],
          [
           "Givenchy",
           "/product/mascara-volume-disturbia-P446334",
           "P446334"
          ],
          [
           "Glossier",
           "/product/glossier-lash-slick-lift-lengthening-mascara-P504834",
           "P504834"
          ],
          [
           "Glossier",
           "/product/glossier-lash-slick-lift-lengthening-mascara-P504834",
           "P504834"
          ],
          [
           "Grande Cosmetics",
           "/product/grandedrama-intense-thickening-mascara-P441882",
           "P441882"
          ],
          [
           "Grande Cosmetics",
           "/product/grande-mascara-P420491",
           "P420491"
          ],
          [
           "Grande Cosmetics",
           "/product/grande-primer-P420492",
           "P420492"
          ],
          [
           "Gucci",
           "/product/gucci-mascara-l-obscur-P456588",
           "P456588"
          ],
          [
           "GUERLAIN",
           "/product/guerlain-noir-g-mascara-primer-P510440",
           "P510440"
          ],
          [
           "GUERLAIN",
           "/product/guerlain-mad-eyes-waterproof-long-wearing-voluminizing-mascara-P459464",
           "P459464"
          ],
          [
           "HAUS LABS BY LADY GAGA",
           "/product/haus-labs-by-lady-gaga-b-structural-volumizing-lengthening-mascara-P514550",
           "P514550"
          ],
          [
           "Hourglass",
           "/product/caution-extreme-lash-mascara-P433809",
           "P433809"
          ],
          [
           "Hourglass",
           "/product/hourglass-unlocked-instant-extensions-mascara-P460829",
           "P460829"
          ],
          [
           "HUDA BEAUTY",
           "/product/huda-beauty-legit-lashes-double-ended-volumizing-lengthening-mascara-P98466189",
           "P98466189"
          ],
          [
           "HUDA BEAUTY",
           "/product/1-coat-wow-extra-volumizing-and-lifting-mascara-P506787",
           "P506787"
          ],
          [
           "ILIA",
           "/product/limitless-lash-mascara-P431750",
           "P431750"
          ],
          [
           "ILIA",
           "/product/ilia-fullest-volumizing-mascara-P475110",
           "P475110"
          ],
          [
           "ILIA",
           "/product/limitless-lash-mascara-P431750",
           "P431750"
          ],
          [
           "IT Cosmetics",
           "/product/tightline-3-in-1-black-primer-eyeliner-mascara-P411888",
           "P411888"
          ],
          [
           "IT Cosmetics",
           "/product/superhero-elastic-stretch-volumizing-mascara-P411396",
           "P411396"
          ],
          [
           "IT Cosmetics",
           "/product/it-cosmetics-superhero-waterproof-mascara-P505648",
           "P505648"
          ],
          [
           "Kaja",
           "/product/kaja-wink-lash-trio-mascara-P476697",
           "P476697"
          ],
          [
           "KVD Beauty",
           "/product/full-sleeve-long-defined-tubing-mascara-P507469",
           "P507469"
          ],
          [
           "KVD Beauty",
           "/product/go-big-or-go-home-mascara-P442770",
           "P442770"
          ],
          [
           "Lancôme",
           "/product/lancome-lash-idole-waterproof-mascara-P481823",
           "P481823"
          ],
          [
           "Lancôme",
           "/product/cils-booster-xl-super-enhancing-mascara-base-P128706",
           "P128706"
          ],
          [
           "Lancôme",
           "/product/lancome-lash-idole-lash-lifting-volumizing-mascara-P467208",
           "P467208"
          ],
          [
           "Lancôme",
           "/product/lancome-lash-idole-lash-lifting-volumizing-mascara-P467208",
           "P467208"
          ],
          [
           "Lancôme",
           "/product/monsieur-big-waterproof-mascara-P429440",
           "P429440"
          ],
          [
           "Laura Mercier",
           "/product/laura-mercier-caviar-extravagant-volumizing-lenghthening-waterproof-mascara-P512943",
           "P512943"
          ],
          [
           "LAWLESS",
           "/product/lawless-the-one-done-volumizing-mascara-P472317",
           "P472317"
          ],
          [
           "Lise Watier",
           "/product/dramatique-intense-3d-volume-mascara-P435750",
           "P435750"
          ],
          [
           "Lise Watier",
           "/product/24-hrs-glam-mascara-P435753",
           "P435753"
          ],
          [
           "Lise Watier",
           "/product/lise-watier-eye-opening-vegan-mascara-P460776",
           "P460776"
          ],
          [
           "Live Tinted",
           "/product/legacy-lash-volumizing-and-lengthening-mascara-P514995",
           "P514995"
          ],
          [
           "LYS Beauty",
           "/product/lash-confidence-mascara-P505874",
           "P505874"
          ],
          [
           "MAC Cosmetics",
           "/product/extended-play-gigablack-lash-P65498712",
           "P65498712"
          ],
          [
           "MAC Cosmetics",
           "/product/mac-cosmetics-macstack-mascara-P482028",
           "P482028"
          ],
          [
           "MAC Cosmetics",
           "/product/mac-cosmetics-macstack-mascara-P482028",
           "P482028"
          ],
          [
           "MAC Cosmetics",
           "/product/mac-cosmetics-macstack-waterproof-mascara-P504806",
           "P504806"
          ],
          [
           "MAKE UP FOR EVER",
           "/product/aqua-smoky-extravagant-waterproof-mascara-P386652",
           "P386652"
          ],
          [
           "MERIT",
           "/product/merit-clean-lash-lengthening-mascara-P468692",
           "P468692"
          ],
          [
           "MILK MAKEUP",
           "/product/kush-waterproof-mascara-P443307",
           "P443307"
          ],
          [
           "MILK MAKEUP",
           "/product/milk-makeup-kush-high-roll-tubing-mascara-P511576",
           "P511576"
          ],
          [
           "MILK MAKEUP",
           "/product/waterproof-rise-lifting-lengthening-mascara-P506005",
           "P506005"
          ],
          [
           "MILK MAKEUP",
           "/product/kush-mascara-P429903",
           "P429903"
          ],
          [
           "MILK MAKEUP",
           "/product/milk-makeup-rise-mascara-P479643",
           "P479643"
          ],
          [
           "Morphe",
           "/product/morphe-make-it-big-mascara-P463911",
           "P463911"
          ],
          [
           "NARS",
           "/product/climax-mascara-P434504",
           "P434504"
          ],
          [
           "NUDESTIX",
           "/product/nudestix-vegan-splashproof-mascara-P472179",
           "P472179"
          ],
          [
           "NUDESTIX",
           "/product/lash-lengthening-mascara-P388950",
           "P388950"
          ],
          [
           "ONE/SIZE by Patrick Starrr",
           "/product/fantasize-lifting-lengthening-mascara-P500481",
           "P500481"
          ],
          [
           "PAT McGRATH LABS",
           "/product/pat-mcgrath-labs-dark-star-mascara-P460745",
           "P460745"
          ],
          [
           "PAT McGRATH LABS",
           "/product/fetish-eyes-mascara-P440967",
           "P440967"
          ],
          [
           "PATRICK TA",
           "/product/patrick-ta-major-volume-mascara-P476724",
           "P476724"
          ],
          [
           "Peter Thomas Roth",
           "/product/lashes-to-die-for-platinum-P401252",
           "P401252"
          ],
          [
           "Rare Beauty by Selena Gomez",
           "/product/rare-beauty-by-selena-gomez-perfect-strokes-universal-volumizing-mascara-P475599",
           "P475599"
          ],
          [
           "REFY",
           "/product/refy-beauty-lash-sculpt-lengthen-and-lift-mascara-P510451",
           "P510451"
          ],
          [
           "Saie",
           "/product/saie-mascara-101-lengthening-lifting-P468204",
           "P468204"
          ],
          [
           "Saie",
           "/product/saie-mascara-101-lengthening-lifting-P468204",
           "P468204"
          ],
          [
           "SEPHORA COLLECTION",
           "/product/love-the-lift-curling-and-volumizing-mascara-P509469",
           "P509469"
          ],
          [
           "SEPHORA COLLECTION",
           "/product/size-up-mascara-P466443",
           "P466443"
          ],
          [
           "SEPHORA COLLECTION",
           "/product/sephora-collection-big-by-definition-defining-volumizing-mascara-P479649",
           "P479649"
          ],
          [
           "tarte",
           "/product/lights-camera-lashes-P111902",
           "P111902"
          ],
          [
           "tarte",
           "/product/lights-camera-lashes-P111902",
           "P111902"
          ],
          [
           "tarte",
           "/product/big-ego-mascara-P444433",
           "P444433"
          ],
          [
           "tarte",
           "/product/tarte-tartelette-tubing-xl-mascara-P510692",
           "P510692"
          ],
          [
           "tarte",
           "/product/lights-camera-splashes-waterproof-mascara-P179924",
           "P179924"
          ],
          [
           "tarte",
           "/product/opening-act-lash-primer-P397383",
           "P397383"
          ],
          [
           "tarte",
           "/product/tartelette-tubing-mascara-P500182",
           "P500182"
          ],
          [
           "tarte",
           "/product/tartelette-tubing-mascara-P500182",
           "P500182"
          ],
          [
           "tarte",
           "/product/tarte-tarte-maneater-tm-mascara-P504067",
           "P504067"
          ],
          [
           "Too Faced",
           "/product/too-faced-bts-foreplay-instant-lengthening-lifting-thickening-mascara-primer-P506248",
           "P506248"
          ],
          [
           "Too Faced",
           "/product/better-than-sex-mascara-P381000",
           "P381000"
          ],
          [
           "Too Faced",
           "/product/better-than-sex-mascara-P381000",
           "P381000"
          ],
          [
           "Too Faced",
           "/product/naturally-better-than-sex-lengthening-volumizing-mascara-P509303",
           "P509303"
          ],
          [
           "Too Faced",
           "/product/better-than-sex-waterproof-mascara-P407908",
           "P407908"
          ],
          [
           "Too Faced",
           "/product/damn-girl-24-hour-mascara-P444600",
           "P444600"
          ],
          [
           "Too Faced",
           "/product/better-than-sex-mascara-P381000",
           "P381000"
          ],
          [
           "Too Faced",
           "/product/better-than-sex-mascara-P381000",
           "P381000"
          ],
          [
           "Tower 28 Beauty",
           "/product/makewaves-lengthening-curling-clean-mascara-P502484",
           "P502484"
          ],
          [
           "Urban Decay",
           "/product/perversion-waterproof-mascara-P445423",
           "P445423"
          ],
          [
           "Urban Decay",
           "/product/subversion-lash-primer-P387594",
           "P387594"
          ],
          [
           "Valentino",
           "/product/valentino-magnificent-volumizing-mascara-P479487",
           "P479487"
          ],
          [
           "Westman Atelier",
           "/product/eye-want-you-lengthening-volumizing-clean-mascara-P508542",
           "P508542"
          ],
          [
           "Westman Atelier",
           "/product/eye-want-you-lengthening-volumizing-clean-mascara-P508542",
           "P508542"
          ],
          [
           "Yves Saint Laurent",
           "/product/lash-clash-extreme-volume-waterproof-mascara-P509511",
           "P509511"
          ],
          [
           "Yves Saint Laurent",
           "/product/yves-saint-laurent-lash-clash-extreme-volume-mascara-P479863",
           "P479863"
          ],
          [
           "Yves Saint Laurent",
           "/product/yves-saint-laurent-lash-clash-extreme-volume-mascara-P479863",
           "P479863"
          ],
          [
           "Yves Saint Laurent",
           "/product/yves-saint-laurent-lash-clash-extreme-volume-mascara-P479863",
           "P479863"
          ]
         ],
         "hovertemplate": "<b>Product Code:</b> %{customdata[2]}<br><b>Brand:</b> %{customdata[0]}<br><b>Product URL:</b> %{customdata[1]}<br><b>Price (CAD):</b> %{y}<br><b>Volume (mL):</b> %{x}<br><b>Unit Price (CAD/mL):</b> %{marker.color:.2}",
         "legendgroup": "Standard",
         "marker": {
          "color": [
           2.888888888888889,
           2.888888888888889,
           3.5,
           3.5,
           4.8,
           7.384615384615385,
           4.395753026306892,
           4.395753026306892,
           4.395753026306892,
           4.588235294117647,
           4.395753026306892,
           4.395753026306892,
           4.395753026306892,
           4.395753026306892,
           4.395753026306892,
           4.588235294117647,
           4.395753026306892,
           4.395753026306892,
           7.1,
           4.733333333333333,
           3.827586206896552,
           11.1,
           9.25,
           3.6,
           2.9545454545454546,
           3.95,
           3.95,
           4.857142857142857,
           4.758934900275266,
           4.4375,
           4.610929747874361,
           4.5,
           4.5,
           4.5,
           4.45,
           2.6,
           3.158891344815681,
           5.796597397327768,
           4.890879053995304,
           4.890879053995304,
           3.148152034755599,
           3.148152034755599,
           3.7777777777777777,
           5.474564208587337,
           3.4,
           7.538461538461538,
           9.129640900791236,
           5.684210526315789,
           4.9375,
           4.508464642366042,
           4.250838091373697,
           4.941176470588236,
           3.1,
           4.758934900275266,
           4,
           4.758934900275266,
           9.714285714285714,
           4.2830414102477405,
           4.222222222222222,
           5.267100519687251,
           3.090909090909091,
           3.483813587282851,
           5.0625,
           8.181818181818182,
           5.0625,
           4.890879053995304,
           4.153846153846154,
           4.705882352941177,
           2.833333333333333,
           3.3,
           4.125,
           2.661290322580645,
           3.6,
           3.3813484817745314,
           6.762696963549063,
           3.333333333333333,
           3.333333333333333,
           3.333333333333333,
           5,
           5.142857142857143,
           4.75,
           4.222222222222222,
           5.586575752497052,
           4.75,
           4.58897293955115,
           2.2,
           5.806451612903226,
           3.1666666666666665,
           4.470588235294118,
           3.7777777777777777,
           3.5384615384615383,
           5.75,
           4.47210605654051,
           23.67864693446089,
           2.2222222222222223,
           3.551416304822363,
           4.035803026634119,
           4.035803026634119,
           2.1916147567057145,
           1.2590127325756235,
           1.75,
           5.285714285714286,
           5.285714285714286,
           5.285714285714286,
           4.625,
           5.285714285714286,
           5.211267605633803,
           4.625,
           4.625,
           4.111111111111111,
           5.125,
           4.875,
           4.875,
           5.332126452029069,
           4.875,
           3.070866141732284,
           4.875,
           4.875,
           3.375,
           3.725490196078432,
           4.117647058823529,
           4.4,
           7.22908985758693,
           7.22908985758693,
           4.777777777777778,
           4.777777777777778,
           4.777777777777778,
           4.777777777777778
          ],
          "coloraxis": "coloraxis",
          "line": {
           "color": "black",
           "width": 1
          },
          "opacity": 0.75,
          "size": 12,
          "symbol": "circle"
         },
         "mode": "markers",
         "name": "Standard",
         "orientation": "v",
         "showlegend": true,
         "type": "scatter",
         "x": [
          9,
          9,
          10,
          10,
          10,
          6.5,
          8.8722,
          8.8722,
          8.8722,
          8.5,
          8.8722,
          8.8722,
          8.8722,
          8.8722,
          8.8722,
          8.5,
          8.8722,
          8.8722,
          5,
          7.5,
          14.5,
          5,
          6,
          10,
          11,
          10,
          10,
          7,
          7.984980000000001,
          8,
          9.75942,
          10,
          10,
          10,
          10,
          10,
          11.23812,
          8.28072,
          8.28072,
          8.28072,
          8.576459999999999,
          8.576459999999999,
          9,
          6.21054,
          10,
          6.5,
          5.9148000000000005,
          9.5,
          8,
          9.75942,
          10.3509,
          8.5,
          10,
          7.984980000000001,
          9.5,
          7.984980000000001,
          3.5,
          8.8722,
          9,
          7.689240000000001,
          11,
          9.75942,
          8,
          5.5,
          8,
          8.28072,
          9.75,
          8.5,
          12,
          10,
          8,
          12.4,
          10,
          7.689240000000001,
          5.61906,
          12,
          12,
          12,
          6.8,
          7,
          8,
          9,
          6.802020000000001,
          8,
          8.28072,
          7.5,
          6.2,
          12,
          8.5,
          9,
          13,
          8,
          9.16794,
          4.73,
          13.5,
          9.996012,
          9.16794,
          9.16794,
          7.984980000000001,
          13.89978,
          10,
          7,
          7,
          7,
          8,
          7,
          7.1,
          8,
          8,
          9,
          8,
          8,
          8,
          7.689240000000001,
          8,
          12.7,
          8,
          8,
          8,
          10.2,
          8.5,
          10,
          8.576459999999999,
          8.576459999999999,
          9,
          9,
          9,
          9
         ],
         "xaxis": "x",
         "y": [
          26,
          26,
          35,
          35,
          48,
          48,
          39,
          39,
          39,
          39,
          39,
          39,
          39,
          39,
          39,
          39,
          39,
          39,
          35.5,
          35.5,
          55.5,
          55.5,
          55.5,
          36,
          32.5,
          39.5,
          39.5,
          34,
          38,
          35.5,
          45,
          45,
          45,
          45,
          44.5,
          26,
          35.5,
          48,
          40.5,
          40.5,
          27,
          27,
          34,
          34,
          34,
          49,
          54,
          54,
          39.5,
          44,
          44,
          42,
          31,
          38,
          38,
          38,
          34,
          38,
          38,
          40.5,
          34,
          34,
          40.5,
          45,
          40.5,
          40.5,
          40.5,
          40,
          34,
          33,
          33,
          33,
          36,
          26,
          38,
          40,
          40,
          40,
          34,
          36,
          38,
          38,
          38,
          38,
          38,
          16.5,
          36,
          38,
          38,
          34,
          46,
          46,
          41,
          112,
          30,
          35.5,
          37,
          37,
          17.5,
          17.5,
          17.5,
          37,
          37,
          37,
          37,
          37,
          37,
          37,
          37,
          37,
          41,
          39,
          39,
          41,
          39,
          39,
          39,
          39,
          27,
          38,
          35,
          44,
          62,
          62,
          43,
          43,
          43,
          43
         ],
         "yaxis": "y"
        },
        {
         "customdata": [
          [
           "Anastasia Beverly Hills",
           "/product/anastasia-beverly-hills-lash-brag-volumizing-mascara-P455981",
           "P455981"
          ],
          [
           "Anastasia Beverly Hills",
           "/product/lash-sculpt-lengthening-volumizing-mascara-P507655",
           "P507655"
          ],
          [
           "Benefit Cosmetics",
           "/product/fan-fest-mascara-P506688",
           "P506688"
          ],
          [
           "Benefit Cosmetics",
           "/product/they-re-real-lengthening-volumizing-mascara-P289307",
           "P289307"
          ],
          [
           "Benefit Cosmetics",
           "/product/roller-lash-curling-lifting-mascara-P392516",
           "P392516"
          ],
          [
           "Benefit Cosmetics",
           "/product/bad-gal-bang-mascara-P427517",
           "P427517"
          ],
          [
           "Benefit Cosmetics",
           "/product/benefit-cosmetics-they-re-real-magnet-extreme-lengthening-mascara-P469203",
           "P469203"
          ],
          [
           "Benefit Cosmetics",
           "/product/bad-gal-bang-mascara-P427517",
           "P427517"
          ],
          [
           "caliray",
           "/product/caliray-come-hell-or-high-water-volumizing-tubing-mascara-P479308",
           "P479308"
          ],
          [
           "caliray",
           "/product/caliray-mini-come-hell-or-high-water-volumizing-tubing-mascara-P479309",
           "P479309"
          ],
          [
           "Charlotte Tilbury",
           "/product/charlotte-tilbury-pillow-talk-push-up-lashes-mascara-P462841",
           "P462841"
          ],
          [
           "Charlotte Tilbury",
           "/product/charlotte-tilbury-exaggereyes-volumizing-and-curling-mascara-P513485",
           "P513485"
          ],
          [
           "CLINIQUE",
           "/product/high-impact-mascara-P122912",
           "P122912"
          ],
          [
           "Fenty Beauty by Rihanna",
           "/product/fenty-hella-thicc-volumizing-mascara-P505055",
           "P505055"
          ],
          [
           "Givenchy",
           "/product/givenchy-l-interdit-mascara-P510073",
           "P510073"
          ],
          [
           "Givenchy",
           "/product/givenchy-mini-l-interdit-mascara-P510074",
           "P510074"
          ],
          [
           "Hourglass",
           "/product/caution-extreme-lash-mascara-P433809",
           "P433809"
          ],
          [
           "Hourglass",
           "/product/hourglass-unlocked-instant-extensions-mascara-P460829",
           "P460829"
          ],
          [
           "HUDA BEAUTY",
           "/product/huda-beauty-one-coat-wow-mini-mascara-P509426",
           "P509426"
          ],
          [
           "HUDA BEAUTY",
           "/product/huda-beauty-legit-lashes-double-ended-volumizing-lengthening-mascara-P98466189",
           "P98466189"
          ],
          [
           "HUDA BEAUTY",
           "/product/1-coat-wow-extra-volumizing-and-lifting-mascara-P506787",
           "P506787"
          ],
          [
           "ILIA",
           "/product/limitless-lash-mascara-P431750",
           "P431750"
          ],
          [
           "ILIA",
           "/product/limitless-lash-mascara-mini-P444439",
           "P444439"
          ],
          [
           "ILIA",
           "/product/ilia-fullest-volumizing-mascara-P475110",
           "P475110"
          ],
          [
           "ILIA",
           "/product/limitless-lash-mascara-P431750",
           "P431750"
          ],
          [
           "IT Cosmetics",
           "/product/superhero-elastic-stretch-volumizing-mascara-P411396",
           "P411396"
          ],
          [
           "Lancôme",
           "/product/cils-booster-xl-super-enhancing-mascara-base-P128706",
           "P128706"
          ],
          [
           "Lancôme",
           "/product/lancome-lash-idole-lash-lifting-volumizing-mascara-P467208",
           "P467208"
          ],
          [
           "LAWLESS",
           "/product/lawless-the-one-done-volumizing-mascara-P472317",
           "P472317"
          ],
          [
           "Live Tinted",
           "/product/legacy-lash-volumizing-and-lengthening-mascara-P514995",
           "P514995"
          ],
          [
           "MAC Cosmetics",
           "/product/mac-cosmetics-macstack-mascara-P482028",
           "P482028"
          ],
          [
           "MILK MAKEUP",
           "/product/kush-mascara-P429903",
           "P429903"
          ],
          [
           "MILK MAKEUP",
           "/product/milk-makeup-rise-mascara-P479643",
           "P479643"
          ],
          [
           "Morphe",
           "/product/morphe-make-it-big-mascara-P463911",
           "P463911"
          ],
          [
           "NARS",
           "/product/climax-mascara-P434385",
           "P434385"
          ],
          [
           "ONE/SIZE by Patrick Starrr",
           "/product/fantasize-lifting-lengthening-mascara-P500481",
           "P500481"
          ],
          [
           "ONE/SIZE by Patrick Starrr",
           "/product/mini-fantasize-lifting-lengthening-mascara-P500501",
           "P500501"
          ],
          [
           "Rare Beauty by Selena Gomez",
           "/product/rare-beauty-by-selena-gomez-perfect-strokes-universal-volumizing-mascara-P475599",
           "P475599"
          ],
          [
           "Saie",
           "/product/saie-mascara-101-lengthening-lifting-P468204",
           "P468204"
          ],
          [
           "SEPHORA COLLECTION",
           "/product/love-the-lift-curling-and-volumizing-mascara-P509469",
           "P509469"
          ],
          [
           "SEPHORA COLLECTION",
           "/product/size-up-mascara-P466443",
           "P466443"
          ],
          [
           "SEPHORA COLLECTION",
           "/product/mini-love-lift-curling-and-volumizing-mascara-P509804",
           "P509804"
          ],
          [
           "SEPHORA COLLECTION",
           "/product/sephora-collection-size-up-mascara-P509805",
           "P509805"
          ],
          [
           "tarte",
           "/product/lights-camera-lashes-P111902",
           "P111902"
          ],
          [
           "tarte",
           "/product/big-ego-mascara-P444433",
           "P444433"
          ],
          [
           "tarte",
           "/product/tarte-tartelette-tubing-xl-mascara-P510692",
           "P510692"
          ],
          [
           "tarte",
           "/product/mini-tartelette-tm-tubing-mascara-P501022",
           "P501022"
          ],
          [
           "tarte",
           "/product/mini-tartelette-tm-tubing-mascara-P501022",
           "P501022"
          ],
          [
           "tarte",
           "/product/tartelette-tubing-mascara-P500182",
           "P500182"
          ],
          [
           "tarte",
           "/product/tartelette-tubing-mascara-P500182",
           "P500182"
          ],
          [
           "tarte",
           "/product/tarte-tarte-maneater-tm-mascara-P504067",
           "P504067"
          ],
          [
           "Too Faced",
           "/product/too-faced-bts-foreplay-instant-lengthening-lifting-thickening-mascara-primer-P506248",
           "P506248"
          ],
          [
           "Too Faced",
           "/product/better-than-sex-mascara-P381000",
           "P381000"
          ],
          [
           "Too Faced",
           "/product/mini-better-than-sex-foreplay-mascara-primer-P506827",
           "P506827"
          ],
          [
           "Too Faced",
           "/product/naturally-better-than-sex-lengthening-volumizing-mascara-P509303",
           "P509303"
          ],
          [
           "Too Faced",
           "/product/better-than-sex-waterproof-mascara-P407908",
           "P407908"
          ],
          [
           "Too Faced",
           "/product/better-than-sex-mascara-P381000",
           "P381000"
          ],
          [
           "Tower 28 Beauty",
           "/product/makewaves-lengthening-curling-clean-mascara-P502484",
           "P502484"
          ]
         ],
         "hovertemplate": "<b>Product Code:</b> %{customdata[2]}<br><b>Brand:</b> %{customdata[0]}<br><b>Product URL:</b> %{customdata[1]}<br><b>Price (CAD):</b> %{y}<br><b>Volume (mL):</b> %{x}<br><b>Unit Price (CAD/mL):</b> %{marker.color:.2}",
         "legendgroup": "Mini",
         "marker": {
          "color": [
           3.8,
           3.8,
           5.3135476142171205,
           5.3135476142171205,
           5.3135476142171205,
           5.3135476142171205,
           4.649354162439981,
           5.3135476142171205,
           3.272727272727273,
           3.272727272727273,
           5.125,
           5.125,
           5.142857142857143,
           2.5384615384615383,
           6.279647180438416,
           6.279647180438416,
           3.737279900908693,
           4.176959889250892,
           2.571428571428572,
           6.571428571428571,
           2.571428571428572,
           6.086427267194156,
           6.086427267194156,
           4.5,
           6.086427267194156,
           4.574765592989072,
           5.75,
           4.6,
           3.1538461538461537,
           4,
           2.75,
           5.25,
           5.0720227226617975,
           2,
           8.05084745762712,
           3.4166666666666665,
           3.4166666666666665,
           2.125,
           4.574765592989072,
           1.889577092756356,
           1.6906742408872657,
           1.889577092756356,
           1.6906742408872657,
           4.2,
           4.666666666666667,
           5.25,
           5.25,
           5.25,
           5.25,
           5.25,
           4.2,
           5.789473684210527,
           4.375862741119982,
           5.789473684210527,
           4.860688442550889,
           4.4,
           4.375862741119982,
           3.3813484817745314
          ],
          "coloraxis": "coloraxis",
          "line": {
           "color": "black",
           "width": 1
          },
          "opacity": 0.75,
          "size": 12,
          "symbol": "diamond"
         },
         "mode": "markers",
         "name": "Mini",
         "orientation": "v",
         "showlegend": true,
         "type": "scatter",
         "x": [
          5,
          5,
          4.14036,
          4.14036,
          4.14036,
          4.14036,
          4.73184,
          4.14036,
          5.5,
          5.5,
          4,
          4,
          3.5,
          6.5,
          4.14036,
          4.14036,
          5.61906,
          5.02758,
          7,
          3.5,
          7,
          2.9574000000000003,
          2.9574000000000003,
          4,
          2.9574000000000003,
          5.02758,
          4,
          5,
          6.5,
          5.5,
          8,
          4,
          4.14036,
          5.5,
          2.36,
          6,
          6,
          8,
          5.02758,
          5.02758,
          5.02758,
          5.02758,
          5.02758,
          5,
          4.5,
          4,
          4,
          4,
          4,
          4,
          5,
          3.8,
          5.02758,
          3.8,
          4.73184,
          5,
          5.02758,
          5.02758
         ],
         "xaxis": "x",
         "y": [
          19,
          19,
          22,
          22,
          22,
          22,
          22,
          22,
          18,
          18,
          20.5,
          20.5,
          18,
          16.5,
          26,
          26,
          21,
          21,
          18,
          23,
          18,
          18,
          18,
          18,
          18,
          23,
          23,
          23,
          20.5,
          22,
          22,
          21,
          21,
          11,
          19,
          20.5,
          20.5,
          17,
          23,
          9.5,
          8.5,
          9.5,
          8.5,
          21,
          21,
          21,
          21,
          21,
          21,
          21,
          21,
          22,
          22,
          22,
          23,
          22,
          22,
          17
         ],
         "yaxis": "y"
        }
       ],
       "layout": {
        "coloraxis": {
         "colorbar": {
          "outlinecolor": "black",
          "outlinewidth": 1,
          "tickcolor": "black",
          "tickfont": {
           "color": "black"
          },
          "title": {
           "side": "top",
           "text": "Unit Price <br>(CAD/mL)"
          }
         },
         "colorscale": [
          [
           0,
           "rgb(75, 41, 145)"
          ],
          [
           0.16666666666666666,
           "rgb(135, 44, 162)"
          ],
          [
           0.3333333333333333,
           "rgb(192, 54, 157)"
          ],
          [
           0.5,
           "rgb(234, 79, 136)"
          ],
          [
           0.6666666666666666,
           "rgb(250, 120, 118)"
          ],
          [
           0.8333333333333334,
           "rgb(246, 169, 122)"
          ],
          [
           1,
           "rgb(237, 217, 163)"
          ]
         ]
        },
        "font": {
         "color": "black",
         "size": 14
        },
        "legend": {
         "title": {
          "text": "Product Type"
         },
         "tracegroupgap": 0,
         "x": 0.01,
         "xanchor": "left",
         "y": 0.99,
         "yanchor": "top"
        },
        "margin": {
         "b": 50,
         "l": 50,
         "r": 50,
         "t": 50
        },
        "template": {
         "data": {
          "bar": [
           {
            "error_x": {
             "color": "rgb(36,36,36)"
            },
            "error_y": {
             "color": "rgb(36,36,36)"
            },
            "marker": {
             "line": {
              "color": "white",
              "width": 0.5
             },
             "pattern": {
              "fillmode": "overlay",
              "size": 10,
              "solidity": 0.2
             }
            },
            "type": "bar"
           }
          ],
          "barpolar": [
           {
            "marker": {
             "line": {
              "color": "white",
              "width": 0.5
             },
             "pattern": {
              "fillmode": "overlay",
              "size": 10,
              "solidity": 0.2
             }
            },
            "type": "barpolar"
           }
          ],
          "carpet": [
           {
            "aaxis": {
             "endlinecolor": "rgb(36,36,36)",
             "gridcolor": "white",
             "linecolor": "white",
             "minorgridcolor": "white",
             "startlinecolor": "rgb(36,36,36)"
            },
            "baxis": {
             "endlinecolor": "rgb(36,36,36)",
             "gridcolor": "white",
             "linecolor": "white",
             "minorgridcolor": "white",
             "startlinecolor": "rgb(36,36,36)"
            },
            "type": "carpet"
           }
          ],
          "choropleth": [
           {
            "colorbar": {
             "outlinewidth": 1,
             "tickcolor": "rgb(36,36,36)",
             "ticks": "outside"
            },
            "type": "choropleth"
           }
          ],
          "contour": [
           {
            "colorbar": {
             "outlinewidth": 1,
             "tickcolor": "rgb(36,36,36)",
             "ticks": "outside"
            },
            "colorscale": [
             [
              0,
              "#440154"
             ],
             [
              0.1111111111111111,
              "#482878"
             ],
             [
              0.2222222222222222,
              "#3e4989"
             ],
             [
              0.3333333333333333,
              "#31688e"
             ],
             [
              0.4444444444444444,
              "#26828e"
             ],
             [
              0.5555555555555556,
              "#1f9e89"
             ],
             [
              0.6666666666666666,
              "#35b779"
             ],
             [
              0.7777777777777778,
              "#6ece58"
             ],
             [
              0.8888888888888888,
              "#b5de2b"
             ],
             [
              1,
              "#fde725"
             ]
            ],
            "type": "contour"
           }
          ],
          "contourcarpet": [
           {
            "colorbar": {
             "outlinewidth": 1,
             "tickcolor": "rgb(36,36,36)",
             "ticks": "outside"
            },
            "type": "contourcarpet"
           }
          ],
          "heatmap": [
           {
            "colorbar": {
             "outlinewidth": 1,
             "tickcolor": "rgb(36,36,36)",
             "ticks": "outside"
            },
            "colorscale": [
             [
              0,
              "#440154"
             ],
             [
              0.1111111111111111,
              "#482878"
             ],
             [
              0.2222222222222222,
              "#3e4989"
             ],
             [
              0.3333333333333333,
              "#31688e"
             ],
             [
              0.4444444444444444,
              "#26828e"
             ],
             [
              0.5555555555555556,
              "#1f9e89"
             ],
             [
              0.6666666666666666,
              "#35b779"
             ],
             [
              0.7777777777777778,
              "#6ece58"
             ],
             [
              0.8888888888888888,
              "#b5de2b"
             ],
             [
              1,
              "#fde725"
             ]
            ],
            "type": "heatmap"
           }
          ],
          "heatmapgl": [
           {
            "colorbar": {
             "outlinewidth": 1,
             "tickcolor": "rgb(36,36,36)",
             "ticks": "outside"
            },
            "colorscale": [
             [
              0,
              "#440154"
             ],
             [
              0.1111111111111111,
              "#482878"
             ],
             [
              0.2222222222222222,
              "#3e4989"
             ],
             [
              0.3333333333333333,
              "#31688e"
             ],
             [
              0.4444444444444444,
              "#26828e"
             ],
             [
              0.5555555555555556,
              "#1f9e89"
             ],
             [
              0.6666666666666666,
              "#35b779"
             ],
             [
              0.7777777777777778,
              "#6ece58"
             ],
             [
              0.8888888888888888,
              "#b5de2b"
             ],
             [
              1,
              "#fde725"
             ]
            ],
            "type": "heatmapgl"
           }
          ],
          "histogram": [
           {
            "marker": {
             "line": {
              "color": "white",
              "width": 0.6
             }
            },
            "type": "histogram"
           }
          ],
          "histogram2d": [
           {
            "colorbar": {
             "outlinewidth": 1,
             "tickcolor": "rgb(36,36,36)",
             "ticks": "outside"
            },
            "colorscale": [
             [
              0,
              "#440154"
             ],
             [
              0.1111111111111111,
              "#482878"
             ],
             [
              0.2222222222222222,
              "#3e4989"
             ],
             [
              0.3333333333333333,
              "#31688e"
             ],
             [
              0.4444444444444444,
              "#26828e"
             ],
             [
              0.5555555555555556,
              "#1f9e89"
             ],
             [
              0.6666666666666666,
              "#35b779"
             ],
             [
              0.7777777777777778,
              "#6ece58"
             ],
             [
              0.8888888888888888,
              "#b5de2b"
             ],
             [
              1,
              "#fde725"
             ]
            ],
            "type": "histogram2d"
           }
          ],
          "histogram2dcontour": [
           {
            "colorbar": {
             "outlinewidth": 1,
             "tickcolor": "rgb(36,36,36)",
             "ticks": "outside"
            },
            "colorscale": [
             [
              0,
              "#440154"
             ],
             [
              0.1111111111111111,
              "#482878"
             ],
             [
              0.2222222222222222,
              "#3e4989"
             ],
             [
              0.3333333333333333,
              "#31688e"
             ],
             [
              0.4444444444444444,
              "#26828e"
             ],
             [
              0.5555555555555556,
              "#1f9e89"
             ],
             [
              0.6666666666666666,
              "#35b779"
             ],
             [
              0.7777777777777778,
              "#6ece58"
             ],
             [
              0.8888888888888888,
              "#b5de2b"
             ],
             [
              1,
              "#fde725"
             ]
            ],
            "type": "histogram2dcontour"
           }
          ],
          "mesh3d": [
           {
            "colorbar": {
             "outlinewidth": 1,
             "tickcolor": "rgb(36,36,36)",
             "ticks": "outside"
            },
            "type": "mesh3d"
           }
          ],
          "parcoords": [
           {
            "line": {
             "colorbar": {
              "outlinewidth": 1,
              "tickcolor": "rgb(36,36,36)",
              "ticks": "outside"
             }
            },
            "type": "parcoords"
           }
          ],
          "pie": [
           {
            "automargin": true,
            "type": "pie"
           }
          ],
          "scatter": [
           {
            "fillpattern": {
             "fillmode": "overlay",
             "size": 10,
             "solidity": 0.2
            },
            "type": "scatter"
           }
          ],
          "scatter3d": [
           {
            "line": {
             "colorbar": {
              "outlinewidth": 1,
              "tickcolor": "rgb(36,36,36)",
              "ticks": "outside"
             }
            },
            "marker": {
             "colorbar": {
              "outlinewidth": 1,
              "tickcolor": "rgb(36,36,36)",
              "ticks": "outside"
             }
            },
            "type": "scatter3d"
           }
          ],
          "scattercarpet": [
           {
            "marker": {
             "colorbar": {
              "outlinewidth": 1,
              "tickcolor": "rgb(36,36,36)",
              "ticks": "outside"
             }
            },
            "type": "scattercarpet"
           }
          ],
          "scattergeo": [
           {
            "marker": {
             "colorbar": {
              "outlinewidth": 1,
              "tickcolor": "rgb(36,36,36)",
              "ticks": "outside"
             }
            },
            "type": "scattergeo"
           }
          ],
          "scattergl": [
           {
            "marker": {
             "colorbar": {
              "outlinewidth": 1,
              "tickcolor": "rgb(36,36,36)",
              "ticks": "outside"
             }
            },
            "type": "scattergl"
           }
          ],
          "scattermapbox": [
           {
            "marker": {
             "colorbar": {
              "outlinewidth": 1,
              "tickcolor": "rgb(36,36,36)",
              "ticks": "outside"
             }
            },
            "type": "scattermapbox"
           }
          ],
          "scatterpolar": [
           {
            "marker": {
             "colorbar": {
              "outlinewidth": 1,
              "tickcolor": "rgb(36,36,36)",
              "ticks": "outside"
             }
            },
            "type": "scatterpolar"
           }
          ],
          "scatterpolargl": [
           {
            "marker": {
             "colorbar": {
              "outlinewidth": 1,
              "tickcolor": "rgb(36,36,36)",
              "ticks": "outside"
             }
            },
            "type": "scatterpolargl"
           }
          ],
          "scatterternary": [
           {
            "marker": {
             "colorbar": {
              "outlinewidth": 1,
              "tickcolor": "rgb(36,36,36)",
              "ticks": "outside"
             }
            },
            "type": "scatterternary"
           }
          ],
          "surface": [
           {
            "colorbar": {
             "outlinewidth": 1,
             "tickcolor": "rgb(36,36,36)",
             "ticks": "outside"
            },
            "colorscale": [
             [
              0,
              "#440154"
             ],
             [
              0.1111111111111111,
              "#482878"
             ],
             [
              0.2222222222222222,
              "#3e4989"
             ],
             [
              0.3333333333333333,
              "#31688e"
             ],
             [
              0.4444444444444444,
              "#26828e"
             ],
             [
              0.5555555555555556,
              "#1f9e89"
             ],
             [
              0.6666666666666666,
              "#35b779"
             ],
             [
              0.7777777777777778,
              "#6ece58"
             ],
             [
              0.8888888888888888,
              "#b5de2b"
             ],
             [
              1,
              "#fde725"
             ]
            ],
            "type": "surface"
           }
          ],
          "table": [
           {
            "cells": {
             "fill": {
              "color": "rgb(237,237,237)"
             },
             "line": {
              "color": "white"
             }
            },
            "header": {
             "fill": {
              "color": "rgb(217,217,217)"
             },
             "line": {
              "color": "white"
             }
            },
            "type": "table"
           }
          ]
         },
         "layout": {
          "annotationdefaults": {
           "arrowhead": 0,
           "arrowwidth": 1
          },
          "autotypenumbers": "strict",
          "coloraxis": {
           "colorbar": {
            "outlinewidth": 1,
            "tickcolor": "rgb(36,36,36)",
            "ticks": "outside"
           }
          },
          "colorscale": {
           "diverging": [
            [
             0,
             "rgb(103,0,31)"
            ],
            [
             0.1,
             "rgb(178,24,43)"
            ],
            [
             0.2,
             "rgb(214,96,77)"
            ],
            [
             0.3,
             "rgb(244,165,130)"
            ],
            [
             0.4,
             "rgb(253,219,199)"
            ],
            [
             0.5,
             "rgb(247,247,247)"
            ],
            [
             0.6,
             "rgb(209,229,240)"
            ],
            [
             0.7,
             "rgb(146,197,222)"
            ],
            [
             0.8,
             "rgb(67,147,195)"
            ],
            [
             0.9,
             "rgb(33,102,172)"
            ],
            [
             1,
             "rgb(5,48,97)"
            ]
           ],
           "sequential": [
            [
             0,
             "#440154"
            ],
            [
             0.1111111111111111,
             "#482878"
            ],
            [
             0.2222222222222222,
             "#3e4989"
            ],
            [
             0.3333333333333333,
             "#31688e"
            ],
            [
             0.4444444444444444,
             "#26828e"
            ],
            [
             0.5555555555555556,
             "#1f9e89"
            ],
            [
             0.6666666666666666,
             "#35b779"
            ],
            [
             0.7777777777777778,
             "#6ece58"
            ],
            [
             0.8888888888888888,
             "#b5de2b"
            ],
            [
             1,
             "#fde725"
            ]
           ],
           "sequentialminus": [
            [
             0,
             "#440154"
            ],
            [
             0.1111111111111111,
             "#482878"
            ],
            [
             0.2222222222222222,
             "#3e4989"
            ],
            [
             0.3333333333333333,
             "#31688e"
            ],
            [
             0.4444444444444444,
             "#26828e"
            ],
            [
             0.5555555555555556,
             "#1f9e89"
            ],
            [
             0.6666666666666666,
             "#35b779"
            ],
            [
             0.7777777777777778,
             "#6ece58"
            ],
            [
             0.8888888888888888,
             "#b5de2b"
            ],
            [
             1,
             "#fde725"
            ]
           ]
          },
          "colorway": [
           "#1F77B4",
           "#FF7F0E",
           "#2CA02C",
           "#D62728",
           "#9467BD",
           "#8C564B",
           "#E377C2",
           "#7F7F7F",
           "#BCBD22",
           "#17BECF"
          ],
          "font": {
           "color": "rgb(36,36,36)"
          },
          "geo": {
           "bgcolor": "white",
           "lakecolor": "white",
           "landcolor": "white",
           "showlakes": true,
           "showland": true,
           "subunitcolor": "white"
          },
          "hoverlabel": {
           "align": "left"
          },
          "hovermode": "closest",
          "mapbox": {
           "style": "light"
          },
          "paper_bgcolor": "white",
          "plot_bgcolor": "white",
          "polar": {
           "angularaxis": {
            "gridcolor": "rgb(232,232,232)",
            "linecolor": "rgb(36,36,36)",
            "showgrid": false,
            "showline": true,
            "ticks": "outside"
           },
           "bgcolor": "white",
           "radialaxis": {
            "gridcolor": "rgb(232,232,232)",
            "linecolor": "rgb(36,36,36)",
            "showgrid": false,
            "showline": true,
            "ticks": "outside"
           }
          },
          "scene": {
           "xaxis": {
            "backgroundcolor": "white",
            "gridcolor": "rgb(232,232,232)",
            "gridwidth": 2,
            "linecolor": "rgb(36,36,36)",
            "showbackground": true,
            "showgrid": false,
            "showline": true,
            "ticks": "outside",
            "zeroline": false,
            "zerolinecolor": "rgb(36,36,36)"
           },
           "yaxis": {
            "backgroundcolor": "white",
            "gridcolor": "rgb(232,232,232)",
            "gridwidth": 2,
            "linecolor": "rgb(36,36,36)",
            "showbackground": true,
            "showgrid": false,
            "showline": true,
            "ticks": "outside",
            "zeroline": false,
            "zerolinecolor": "rgb(36,36,36)"
           },
           "zaxis": {
            "backgroundcolor": "white",
            "gridcolor": "rgb(232,232,232)",
            "gridwidth": 2,
            "linecolor": "rgb(36,36,36)",
            "showbackground": true,
            "showgrid": false,
            "showline": true,
            "ticks": "outside",
            "zeroline": false,
            "zerolinecolor": "rgb(36,36,36)"
           }
          },
          "shapedefaults": {
           "fillcolor": "black",
           "line": {
            "width": 0
           },
           "opacity": 0.3
          },
          "ternary": {
           "aaxis": {
            "gridcolor": "rgb(232,232,232)",
            "linecolor": "rgb(36,36,36)",
            "showgrid": false,
            "showline": true,
            "ticks": "outside"
           },
           "baxis": {
            "gridcolor": "rgb(232,232,232)",
            "linecolor": "rgb(36,36,36)",
            "showgrid": false,
            "showline": true,
            "ticks": "outside"
           },
           "bgcolor": "white",
           "caxis": {
            "gridcolor": "rgb(232,232,232)",
            "linecolor": "rgb(36,36,36)",
            "showgrid": false,
            "showline": true,
            "ticks": "outside"
           }
          },
          "title": {
           "x": 0.05
          },
          "xaxis": {
           "automargin": true,
           "gridcolor": "rgb(232,232,232)",
           "linecolor": "rgb(36,36,36)",
           "showgrid": false,
           "showline": true,
           "ticks": "outside",
           "title": {
            "standoff": 15
           },
           "zeroline": false,
           "zerolinecolor": "rgb(36,36,36)"
          },
          "yaxis": {
           "automargin": true,
           "gridcolor": "rgb(232,232,232)",
           "linecolor": "rgb(36,36,36)",
           "showgrid": false,
           "showline": true,
           "ticks": "outside",
           "title": {
            "standoff": 15
           },
           "zeroline": false,
           "zerolinecolor": "rgb(36,36,36)"
          }
         }
        },
        "title": {
         "font": {
          "size": 20
         },
         "text": "Mascara pricing at Sephora (Jan 2025)",
         "x": 0.5
        },
        "xaxis": {
         "anchor": "y",
         "domain": [
          0,
          1
         ],
         "title": {
          "text": "Volume (mL)"
         }
        },
        "yaxis": {
         "anchor": "x",
         "domain": [
          0,
          1
         ],
         "title": {
          "text": "Price (CAD)"
         }
        }
       }
      }
     },
     "metadata": {},
     "output_type": "display_data"
    }
   ],
   "source": [
    "df.loc[df['size_refinement'].isna(),'size_refinement'] = 'Standard'\n",
    "mascaras = df[df['category_root_name_l3']=='Mascara']\n",
    "\n",
    "mascaras = mascaras[~mascaras['target_url'].str.contains('serum')]\n",
    "mascaras = mascaras[mascaras['unit_ml']<20]\n",
    "\n",
    "\n",
    "\n",
    "fig = px.scatter(\n",
    "    mascaras, \n",
    "    x=\"unit_ml\", \n",
    "    y=\"price\", \n",
    "    symbol='size_refinement', \n",
    "    color='value_CAD_ml',\n",
    "    opacity=0.75,\n",
    "    title='Mascara pricing at Sephora (Jan 2025)',\n",
    "    color_continuous_scale=px.colors.sequential.Agsunset,\n",
    "    custom_data=[\"brand_name\", \"target_url\", \"product_code\"]  # Add additional custom data\n",
    ")\n",
    "\n",
    "fig.update_traces(\n",
    "    marker=dict(\n",
    "        size=12,\n",
    "        line=dict(\n",
    "            width=1,\n",
    "            color='black'\n",
    "        )\n",
    "    ),\n",
    "    selector=dict(mode='markers'),\n",
    "    hovertemplate=(\n",
    "            \"<b>Product Code:</b> %{customdata[2]}<br>\" +\n",
    "            \"<b>Brand:</b> %{customdata[0]}<br>\" +\n",
    "            \"<b>Product URL:</b> %{customdata[1]}<br>\" +\n",
    "            \"<b>Price (CAD):</b> %{y}<br>\" +\n",
    "            \"<b>Volume (mL):</b> %{x}<br>\" +\n",
    "            \"<b>Unit Price (CAD/mL):</b> %{marker.color:.2}\"\n",
    "    )    \n",
    ")\n",
    "\n",
    "\n",
    "fig.update_layout(\n",
    "     font=dict(\n",
    "        # family=\"Geist, serif\",  # Font family (as defined in Google Fonts)\n",
    "        size=14,                     # Font size\n",
    "        color=\"black\"                # Font color\n",
    "    ),\n",
    "    title=dict(\n",
    "        x=0.5,\n",
    "        font=dict(\n",
    "            size=20\n",
    "        )),\n",
    "    legend=dict(\n",
    "        title='Product Type',\n",
    "        yanchor=\"top\",\n",
    "        y=0.99,\n",
    "        xanchor=\"left\",\n",
    "        x=0.01,\n",
    "    ),\n",
    "    margin=dict(l=50, r=50, t=50, b=50),\n",
    "    template='simple_white',\n",
    "    xaxis_title=\"Volume (mL)\", \n",
    "    yaxis_title=\"Price (CAD)\",\n",
    "    coloraxis=dict(\n",
    "        colorbar=dict(\n",
    "            title=dict(\n",
    "                text=\"Unit Price <br>(CAD/mL)\", \n",
    "                side=\"top\"      \n",
    "            ),\n",
    "            outlinecolor=\"black\",  \n",
    "            outlinewidth=1,     \n",
    "            tickcolor=\"black\",\n",
    "            tickfont=dict(color=\"black\") \n",
    "        )\n",
    "    )\n",
    ")\n",
    "\n",
    "fig.show(height=400, width=600, scale=10)\n",
    "\n",
    "fig.write_html(\"../figures/dynamic/scatter_mascara_pricing.html\")\n",
    "fig.write_image(\"../figures//scatter_mascara_pricing.png\", height=400, width=600, scale=10)\n"
   ]
  },
  {
   "cell_type": "markdown",
   "metadata": {},
   "source": [
    "### Day 2 - Basic scatter, mascara pricing at sephora"
   ]
  },
  {
   "cell_type": "code",
   "execution_count": null,
   "metadata": {},
   "outputs": [
    {
     "name": "stderr",
     "output_type": "stream",
     "text": [
      "/var/folders/kr/73vbzj0d1_v9p45z5knxvq5h0000gn/T/ipykernel_93302/3226485101.py:1: FutureWarning:\n",
      "\n",
      "The provided callable <built-in function max> is currently using SeriesGroupBy.max. In a future version of pandas, the provided callable will be used directly. To keep current behavior pass the string \"max\" instead.\n",
      "\n"
     ]
    }
   ],
   "source": [
    "product_groups = mascaras.groupby(['product_code','size_refinement'], as_index=False).agg({\n",
    "    'value_CAD_ml':max,\n",
    "    'target_url':'first',\n",
    "    'brand_name':'first',\n",
    "    'parent_product_code':'first',\n",
    "    'sku_id':'first'\n",
    "})\n",
    "\n",
    "product_groups = product_groups.pivot(index='product_code', columns='size_refinement', values='value_CAD_ml')\n",
    "\n",
    "product_groups = product_groups[(product_groups['Mini'].notnull()) & (product_groups['Standard'].notnull())]\n",
    "\n",
    "product_groups['size_ratio'] = product_groups['Mini'] / product_groups['Standard']\n",
    "product_groups = product_groups.sort_values(by='size_ratio')"
   ]
  },
  {
   "cell_type": "code",
   "execution_count": 120,
   "metadata": {},
   "outputs": [
    {
     "data": {
      "application/vnd.plotly.v1+json": {
       "config": {
        "plotlyServerURL": "https://plot.ly"
       },
       "data": [
        {
         "marker": {
          "color": "DarkBlue",
          "line": {
           "color": "white",
           "width": 1
          },
          "size": 12
         },
         "mode": "markers",
         "name": "Products",
         "opacity": 0.8,
         "type": "scatter",
         "x": [
          5.75,
          4.2,
          2.75,
          3.737279900908693,
          2.571428571428572,
          1.889577092756356,
          4.666666666666667,
          4.375862741119982,
          4.4,
          3.4166666666666665,
          4.6,
          2,
          4.860688442550889,
          2.125,
          2.5384615384615383,
          4.176959889250892,
          3.3813484817745314,
          4.2,
          4.649354162439981,
          4.574765592989072,
          6.279647180438416,
          3.8,
          3.8,
          5.25,
          5.0720227226617975,
          3.272727272727273,
          4,
          3.1538461538461537,
          4.5,
          5.789473684210527,
          4.574765592989072,
          5.25,
          5.25,
          5.3135476142171205,
          5.3135476142171205,
          5.3135476142171205,
          6.086427267194156,
          5.125,
          5.125,
          6.571428571428571,
          1.6906742408872657
         ],
         "y": [
          8.181818181818182,
          5.285714285714286,
          3.333333333333333,
          4.508464642366042,
          3.1,
          2.1916147567057145,
          5.285714285714286,
          4.875,
          4.875,
          3.7777777777777777,
          5.0625,
          2.2,
          5.332126452029069,
          2.2222222222222223,
          2.6,
          4.250838091373697,
          3.375,
          4.111111111111111,
          4.395753026306892,
          4.2830414102477405,
          5.796597397327768,
          3.5,
          3.5,
          4.75,
          4.58897293955115,
          2.9545454545454546,
          3.6,
          2.833333333333333,
          4,
          5.125,
          4.035803026634119,
          4.625,
          4.625,
          4.588235294117647,
          4.395753026306892,
          4.395753026306892,
          4.758934900275266,
          3.95,
          3.95,
          4.941176470588236,
          1.2590127325756235
         ]
        },
        {
         "marker": {
          "color": "RoyalBlue"
         },
         "mode": "lines",
         "name": "Equal Value",
         "opacity": 0.5,
         "type": "scatter",
         "x": [
          1,
          2,
          3,
          4,
          5,
          6,
          7,
          8
         ],
         "y": [
          1,
          2,
          3,
          4,
          5,
          6,
          7,
          8
         ]
        },
        {
         "mode": "lines",
         "name": "y=0.75+0.79x",
         "type": "scatter",
         "x": [
          1,
          1.163265306122449,
          1.3265306122448979,
          1.489795918367347,
          1.6530612244897958,
          1.816326530612245,
          1.9795918367346939,
          2.142857142857143,
          2.3061224489795915,
          2.4693877551020407,
          2.63265306122449,
          2.7959183673469385,
          2.9591836734693877,
          3.1224489795918364,
          3.2857142857142856,
          3.4489795918367343,
          3.6122448979591835,
          3.7755102040816326,
          3.9387755102040813,
          4.1020408163265305,
          4.26530612244898,
          4.428571428571429,
          4.591836734693877,
          4.755102040816326,
          4.918367346938775,
          5.081632653061225,
          5.244897959183673,
          5.408163265306122,
          5.571428571428571,
          5.73469387755102,
          5.897959183673469,
          6.061224489795918,
          6.224489795918367,
          6.387755102040816,
          6.551020408163265,
          6.7142857142857135,
          6.877551020408163,
          7.040816326530612,
          7.204081632653061,
          7.367346938775509,
          7.530612244897958,
          7.693877551020408,
          7.857142857142857,
          8.020408163265305,
          8.183673469387754,
          8.346938775510203,
          8.510204081632653,
          8.673469387755102,
          8.83673469387755,
          9
         ],
         "y": [
          1.541299305586006,
          1.6703448137384376,
          1.7993903218908691,
          1.9284358300433007,
          2.057481338195732,
          2.1865268463481637,
          2.3155723545005955,
          2.444617862653027,
          2.573663370805458,
          2.70270887895789,
          2.8317543871103217,
          2.960799895262753,
          3.0898454034151848,
          3.218890911567616,
          3.3479364197200474,
          3.4769819278724787,
          3.6060274360249105,
          3.7350729441773423,
          3.8641184523297736,
          3.9931639604822053,
          4.122209468634637,
          4.251254976787068,
          4.3803004849395,
          4.509345993091932,
          4.638391501244364,
          4.7674370093967955,
          4.8964825175492255,
          5.025528025701657,
          5.154573533854089,
          5.283619042006521,
          5.4126645501589525,
          5.541710058311384,
          5.670755566463816,
          5.799801074616246,
          5.928846582768678,
          6.05789209092111,
          6.186937599073541,
          6.315983107225973,
          6.445028615378405,
          6.574074123530835,
          6.703119631683267,
          6.832165139835698,
          6.96121064798813,
          7.090256156140562,
          7.219301664292994,
          7.3483471724454255,
          7.477392680597857,
          7.606438188750289,
          7.735483696902721,
          7.8645292050551525
         ]
        }
       ],
       "layout": {
        "annotations": [
         {
          "arrowhead": 1,
          "ax": 20,
          "ay": -25,
          "showarrow": true,
          "text": "Lancôme<br>Clis Booster XL Super Enhancing Base",
          "x": 5.75,
          "y": 8.181818
         },
         {
          "arrowhead": 1,
          "ax": 20,
          "ay": -25,
          "showarrow": true,
          "text": "Tarte<br>Lights Camera Lashes",
          "x": 4.2,
          "y": 5.285714
         },
         {
          "arrowhead": 1,
          "ax": 20,
          "ay": 25,
          "showarrow": true,
          "text": "Sephora Collection<br>Size Up",
          "x": 1.690674,
          "y": 1.259013
         }
        ],
        "margin": {
         "b": 50,
         "l": 50,
         "r": 50,
         "t": 50
        },
        "template": {
         "data": {
          "bar": [
           {
            "error_x": {
             "color": "rgb(36,36,36)"
            },
            "error_y": {
             "color": "rgb(36,36,36)"
            },
            "marker": {
             "line": {
              "color": "white",
              "width": 0.5
             },
             "pattern": {
              "fillmode": "overlay",
              "size": 10,
              "solidity": 0.2
             }
            },
            "type": "bar"
           }
          ],
          "barpolar": [
           {
            "marker": {
             "line": {
              "color": "white",
              "width": 0.5
             },
             "pattern": {
              "fillmode": "overlay",
              "size": 10,
              "solidity": 0.2
             }
            },
            "type": "barpolar"
           }
          ],
          "carpet": [
           {
            "aaxis": {
             "endlinecolor": "rgb(36,36,36)",
             "gridcolor": "white",
             "linecolor": "white",
             "minorgridcolor": "white",
             "startlinecolor": "rgb(36,36,36)"
            },
            "baxis": {
             "endlinecolor": "rgb(36,36,36)",
             "gridcolor": "white",
             "linecolor": "white",
             "minorgridcolor": "white",
             "startlinecolor": "rgb(36,36,36)"
            },
            "type": "carpet"
           }
          ],
          "choropleth": [
           {
            "colorbar": {
             "outlinewidth": 1,
             "tickcolor": "rgb(36,36,36)",
             "ticks": "outside"
            },
            "type": "choropleth"
           }
          ],
          "contour": [
           {
            "colorbar": {
             "outlinewidth": 1,
             "tickcolor": "rgb(36,36,36)",
             "ticks": "outside"
            },
            "colorscale": [
             [
              0,
              "#440154"
             ],
             [
              0.1111111111111111,
              "#482878"
             ],
             [
              0.2222222222222222,
              "#3e4989"
             ],
             [
              0.3333333333333333,
              "#31688e"
             ],
             [
              0.4444444444444444,
              "#26828e"
             ],
             [
              0.5555555555555556,
              "#1f9e89"
             ],
             [
              0.6666666666666666,
              "#35b779"
             ],
             [
              0.7777777777777778,
              "#6ece58"
             ],
             [
              0.8888888888888888,
              "#b5de2b"
             ],
             [
              1,
              "#fde725"
             ]
            ],
            "type": "contour"
           }
          ],
          "contourcarpet": [
           {
            "colorbar": {
             "outlinewidth": 1,
             "tickcolor": "rgb(36,36,36)",
             "ticks": "outside"
            },
            "type": "contourcarpet"
           }
          ],
          "heatmap": [
           {
            "colorbar": {
             "outlinewidth": 1,
             "tickcolor": "rgb(36,36,36)",
             "ticks": "outside"
            },
            "colorscale": [
             [
              0,
              "#440154"
             ],
             [
              0.1111111111111111,
              "#482878"
             ],
             [
              0.2222222222222222,
              "#3e4989"
             ],
             [
              0.3333333333333333,
              "#31688e"
             ],
             [
              0.4444444444444444,
              "#26828e"
             ],
             [
              0.5555555555555556,
              "#1f9e89"
             ],
             [
              0.6666666666666666,
              "#35b779"
             ],
             [
              0.7777777777777778,
              "#6ece58"
             ],
             [
              0.8888888888888888,
              "#b5de2b"
             ],
             [
              1,
              "#fde725"
             ]
            ],
            "type": "heatmap"
           }
          ],
          "heatmapgl": [
           {
            "colorbar": {
             "outlinewidth": 1,
             "tickcolor": "rgb(36,36,36)",
             "ticks": "outside"
            },
            "colorscale": [
             [
              0,
              "#440154"
             ],
             [
              0.1111111111111111,
              "#482878"
             ],
             [
              0.2222222222222222,
              "#3e4989"
             ],
             [
              0.3333333333333333,
              "#31688e"
             ],
             [
              0.4444444444444444,
              "#26828e"
             ],
             [
              0.5555555555555556,
              "#1f9e89"
             ],
             [
              0.6666666666666666,
              "#35b779"
             ],
             [
              0.7777777777777778,
              "#6ece58"
             ],
             [
              0.8888888888888888,
              "#b5de2b"
             ],
             [
              1,
              "#fde725"
             ]
            ],
            "type": "heatmapgl"
           }
          ],
          "histogram": [
           {
            "marker": {
             "line": {
              "color": "white",
              "width": 0.6
             }
            },
            "type": "histogram"
           }
          ],
          "histogram2d": [
           {
            "colorbar": {
             "outlinewidth": 1,
             "tickcolor": "rgb(36,36,36)",
             "ticks": "outside"
            },
            "colorscale": [
             [
              0,
              "#440154"
             ],
             [
              0.1111111111111111,
              "#482878"
             ],
             [
              0.2222222222222222,
              "#3e4989"
             ],
             [
              0.3333333333333333,
              "#31688e"
             ],
             [
              0.4444444444444444,
              "#26828e"
             ],
             [
              0.5555555555555556,
              "#1f9e89"
             ],
             [
              0.6666666666666666,
              "#35b779"
             ],
             [
              0.7777777777777778,
              "#6ece58"
             ],
             [
              0.8888888888888888,
              "#b5de2b"
             ],
             [
              1,
              "#fde725"
             ]
            ],
            "type": "histogram2d"
           }
          ],
          "histogram2dcontour": [
           {
            "colorbar": {
             "outlinewidth": 1,
             "tickcolor": "rgb(36,36,36)",
             "ticks": "outside"
            },
            "colorscale": [
             [
              0,
              "#440154"
             ],
             [
              0.1111111111111111,
              "#482878"
             ],
             [
              0.2222222222222222,
              "#3e4989"
             ],
             [
              0.3333333333333333,
              "#31688e"
             ],
             [
              0.4444444444444444,
              "#26828e"
             ],
             [
              0.5555555555555556,
              "#1f9e89"
             ],
             [
              0.6666666666666666,
              "#35b779"
             ],
             [
              0.7777777777777778,
              "#6ece58"
             ],
             [
              0.8888888888888888,
              "#b5de2b"
             ],
             [
              1,
              "#fde725"
             ]
            ],
            "type": "histogram2dcontour"
           }
          ],
          "mesh3d": [
           {
            "colorbar": {
             "outlinewidth": 1,
             "tickcolor": "rgb(36,36,36)",
             "ticks": "outside"
            },
            "type": "mesh3d"
           }
          ],
          "parcoords": [
           {
            "line": {
             "colorbar": {
              "outlinewidth": 1,
              "tickcolor": "rgb(36,36,36)",
              "ticks": "outside"
             }
            },
            "type": "parcoords"
           }
          ],
          "pie": [
           {
            "automargin": true,
            "type": "pie"
           }
          ],
          "scatter": [
           {
            "fillpattern": {
             "fillmode": "overlay",
             "size": 10,
             "solidity": 0.2
            },
            "type": "scatter"
           }
          ],
          "scatter3d": [
           {
            "line": {
             "colorbar": {
              "outlinewidth": 1,
              "tickcolor": "rgb(36,36,36)",
              "ticks": "outside"
             }
            },
            "marker": {
             "colorbar": {
              "outlinewidth": 1,
              "tickcolor": "rgb(36,36,36)",
              "ticks": "outside"
             }
            },
            "type": "scatter3d"
           }
          ],
          "scattercarpet": [
           {
            "marker": {
             "colorbar": {
              "outlinewidth": 1,
              "tickcolor": "rgb(36,36,36)",
              "ticks": "outside"
             }
            },
            "type": "scattercarpet"
           }
          ],
          "scattergeo": [
           {
            "marker": {
             "colorbar": {
              "outlinewidth": 1,
              "tickcolor": "rgb(36,36,36)",
              "ticks": "outside"
             }
            },
            "type": "scattergeo"
           }
          ],
          "scattergl": [
           {
            "marker": {
             "colorbar": {
              "outlinewidth": 1,
              "tickcolor": "rgb(36,36,36)",
              "ticks": "outside"
             }
            },
            "type": "scattergl"
           }
          ],
          "scattermapbox": [
           {
            "marker": {
             "colorbar": {
              "outlinewidth": 1,
              "tickcolor": "rgb(36,36,36)",
              "ticks": "outside"
             }
            },
            "type": "scattermapbox"
           }
          ],
          "scatterpolar": [
           {
            "marker": {
             "colorbar": {
              "outlinewidth": 1,
              "tickcolor": "rgb(36,36,36)",
              "ticks": "outside"
             }
            },
            "type": "scatterpolar"
           }
          ],
          "scatterpolargl": [
           {
            "marker": {
             "colorbar": {
              "outlinewidth": 1,
              "tickcolor": "rgb(36,36,36)",
              "ticks": "outside"
             }
            },
            "type": "scatterpolargl"
           }
          ],
          "scatterternary": [
           {
            "marker": {
             "colorbar": {
              "outlinewidth": 1,
              "tickcolor": "rgb(36,36,36)",
              "ticks": "outside"
             }
            },
            "type": "scatterternary"
           }
          ],
          "surface": [
           {
            "colorbar": {
             "outlinewidth": 1,
             "tickcolor": "rgb(36,36,36)",
             "ticks": "outside"
            },
            "colorscale": [
             [
              0,
              "#440154"
             ],
             [
              0.1111111111111111,
              "#482878"
             ],
             [
              0.2222222222222222,
              "#3e4989"
             ],
             [
              0.3333333333333333,
              "#31688e"
             ],
             [
              0.4444444444444444,
              "#26828e"
             ],
             [
              0.5555555555555556,
              "#1f9e89"
             ],
             [
              0.6666666666666666,
              "#35b779"
             ],
             [
              0.7777777777777778,
              "#6ece58"
             ],
             [
              0.8888888888888888,
              "#b5de2b"
             ],
             [
              1,
              "#fde725"
             ]
            ],
            "type": "surface"
           }
          ],
          "table": [
           {
            "cells": {
             "fill": {
              "color": "rgb(237,237,237)"
             },
             "line": {
              "color": "white"
             }
            },
            "header": {
             "fill": {
              "color": "rgb(217,217,217)"
             },
             "line": {
              "color": "white"
             }
            },
            "type": "table"
           }
          ]
         },
         "layout": {
          "annotationdefaults": {
           "arrowhead": 0,
           "arrowwidth": 1
          },
          "autotypenumbers": "strict",
          "coloraxis": {
           "colorbar": {
            "outlinewidth": 1,
            "tickcolor": "rgb(36,36,36)",
            "ticks": "outside"
           }
          },
          "colorscale": {
           "diverging": [
            [
             0,
             "rgb(103,0,31)"
            ],
            [
             0.1,
             "rgb(178,24,43)"
            ],
            [
             0.2,
             "rgb(214,96,77)"
            ],
            [
             0.3,
             "rgb(244,165,130)"
            ],
            [
             0.4,
             "rgb(253,219,199)"
            ],
            [
             0.5,
             "rgb(247,247,247)"
            ],
            [
             0.6,
             "rgb(209,229,240)"
            ],
            [
             0.7,
             "rgb(146,197,222)"
            ],
            [
             0.8,
             "rgb(67,147,195)"
            ],
            [
             0.9,
             "rgb(33,102,172)"
            ],
            [
             1,
             "rgb(5,48,97)"
            ]
           ],
           "sequential": [
            [
             0,
             "#440154"
            ],
            [
             0.1111111111111111,
             "#482878"
            ],
            [
             0.2222222222222222,
             "#3e4989"
            ],
            [
             0.3333333333333333,
             "#31688e"
            ],
            [
             0.4444444444444444,
             "#26828e"
            ],
            [
             0.5555555555555556,
             "#1f9e89"
            ],
            [
             0.6666666666666666,
             "#35b779"
            ],
            [
             0.7777777777777778,
             "#6ece58"
            ],
            [
             0.8888888888888888,
             "#b5de2b"
            ],
            [
             1,
             "#fde725"
            ]
           ],
           "sequentialminus": [
            [
             0,
             "#440154"
            ],
            [
             0.1111111111111111,
             "#482878"
            ],
            [
             0.2222222222222222,
             "#3e4989"
            ],
            [
             0.3333333333333333,
             "#31688e"
            ],
            [
             0.4444444444444444,
             "#26828e"
            ],
            [
             0.5555555555555556,
             "#1f9e89"
            ],
            [
             0.6666666666666666,
             "#35b779"
            ],
            [
             0.7777777777777778,
             "#6ece58"
            ],
            [
             0.8888888888888888,
             "#b5de2b"
            ],
            [
             1,
             "#fde725"
            ]
           ]
          },
          "colorway": [
           "#1F77B4",
           "#FF7F0E",
           "#2CA02C",
           "#D62728",
           "#9467BD",
           "#8C564B",
           "#E377C2",
           "#7F7F7F",
           "#BCBD22",
           "#17BECF"
          ],
          "font": {
           "color": "rgb(36,36,36)"
          },
          "geo": {
           "bgcolor": "white",
           "lakecolor": "white",
           "landcolor": "white",
           "showlakes": true,
           "showland": true,
           "subunitcolor": "white"
          },
          "hoverlabel": {
           "align": "left"
          },
          "hovermode": "closest",
          "mapbox": {
           "style": "light"
          },
          "paper_bgcolor": "white",
          "plot_bgcolor": "white",
          "polar": {
           "angularaxis": {
            "gridcolor": "rgb(232,232,232)",
            "linecolor": "rgb(36,36,36)",
            "showgrid": false,
            "showline": true,
            "ticks": "outside"
           },
           "bgcolor": "white",
           "radialaxis": {
            "gridcolor": "rgb(232,232,232)",
            "linecolor": "rgb(36,36,36)",
            "showgrid": false,
            "showline": true,
            "ticks": "outside"
           }
          },
          "scene": {
           "xaxis": {
            "backgroundcolor": "white",
            "gridcolor": "rgb(232,232,232)",
            "gridwidth": 2,
            "linecolor": "rgb(36,36,36)",
            "showbackground": true,
            "showgrid": false,
            "showline": true,
            "ticks": "outside",
            "zeroline": false,
            "zerolinecolor": "rgb(36,36,36)"
           },
           "yaxis": {
            "backgroundcolor": "white",
            "gridcolor": "rgb(232,232,232)",
            "gridwidth": 2,
            "linecolor": "rgb(36,36,36)",
            "showbackground": true,
            "showgrid": false,
            "showline": true,
            "ticks": "outside",
            "zeroline": false,
            "zerolinecolor": "rgb(36,36,36)"
           },
           "zaxis": {
            "backgroundcolor": "white",
            "gridcolor": "rgb(232,232,232)",
            "gridwidth": 2,
            "linecolor": "rgb(36,36,36)",
            "showbackground": true,
            "showgrid": false,
            "showline": true,
            "ticks": "outside",
            "zeroline": false,
            "zerolinecolor": "rgb(36,36,36)"
           }
          },
          "shapedefaults": {
           "fillcolor": "black",
           "line": {
            "width": 0
           },
           "opacity": 0.3
          },
          "ternary": {
           "aaxis": {
            "gridcolor": "rgb(232,232,232)",
            "linecolor": "rgb(36,36,36)",
            "showgrid": false,
            "showline": true,
            "ticks": "outside"
           },
           "baxis": {
            "gridcolor": "rgb(232,232,232)",
            "linecolor": "rgb(36,36,36)",
            "showgrid": false,
            "showline": true,
            "ticks": "outside"
           },
           "bgcolor": "white",
           "caxis": {
            "gridcolor": "rgb(232,232,232)",
            "linecolor": "rgb(36,36,36)",
            "showgrid": false,
            "showline": true,
            "ticks": "outside"
           }
          },
          "title": {
           "x": 0.05
          },
          "xaxis": {
           "automargin": true,
           "gridcolor": "rgb(232,232,232)",
           "linecolor": "rgb(36,36,36)",
           "showgrid": false,
           "showline": true,
           "ticks": "outside",
           "title": {
            "standoff": 15
           },
           "zeroline": false,
           "zerolinecolor": "rgb(36,36,36)"
          },
          "yaxis": {
           "automargin": true,
           "gridcolor": "rgb(232,232,232)",
           "linecolor": "rgb(36,36,36)",
           "showgrid": false,
           "showline": true,
           "ticks": "outside",
           "title": {
            "standoff": 15
           },
           "zeroline": false,
           "zerolinecolor": "rgb(36,36,36)"
          }
         }
        },
        "title": {
         "font": {
          "size": 20
         },
         "text": "Unit Prices of Mascaras with Standard and Mini variations<br><sup>Mini size products under the Equal Value curve are cheaper than Standard size versions</sup>",
         "x": 0.5
        },
        "xaxis": {
         "range": [
          0,
          10
         ],
         "title": {
          "text": "Standard Size Unit Price (CAD/mL)"
         }
        },
        "yaxis": {
         "range": [
          0,
          10
         ],
         "title": {
          "text": "Mini Size Unit Price (CAD/mL)"
         }
        }
       }
      }
     },
     "metadata": {},
     "output_type": "display_data"
    }
   ],
   "source": [
    "min_value = round(np.floor(product_groups[['Mini','Standard']].min().min()))\n",
    "max_value = round(product_groups[['Mini','Standard']].max().max())\n",
    "\n",
    "equal_value_line = [x for x in range(min_value,max_value+1)]\n",
    "\n",
    "\n",
    "\n",
    "fig = go.Figure()\n",
    "\n",
    "fig.add_trace(go.Scatter(x=product_groups['Mini'], y=product_groups['Standard'],\n",
    "                    mode='markers',\n",
    "                    name='Products',\n",
    "                    opacity=0.8,\n",
    "                    marker=dict(\n",
    "                        color='DarkBlue',\n",
    "                        size=12,\n",
    "                        line=dict(width=1,\n",
    "                                        color='white')\n",
    "                    ),\n",
    "                    ))\n",
    "fig.add_trace(go.Scatter(x=equal_value_line, y=equal_value_line,\n",
    "                    mode='lines',\n",
    "                    name='Equal Value',\n",
    "                    marker=dict(\n",
    "                        color='RoyalBlue',\n",
    "                    ),\n",
    "\n",
    "                    opacity=0.5))\n",
    "\n",
    "\n",
    "product_annotations = {\n",
    "    'P111902':'Tarte, Lights Camera Lashes',\n",
    "    'P466443':'Sephora Collection, Size Up Mascara',\n",
    "    'P128706':'Lancôme, Clis Booster XL Super Enhancing Mascara Base'\n",
    "}\n",
    "\n",
    "\n",
    "fig.add_annotation(x=5.750000, y=8.181818,\n",
    "            text=\"Lancôme<br>Clis Booster XL Super Enhancing Base\",\n",
    "            showarrow=True,\n",
    "            arrowhead=1,\n",
    "            ax=20,\n",
    "            ay=-25)\n",
    "\n",
    "fig.add_annotation(x=4.200000, y=5.285714,\n",
    "            text=\"Tarte<br>Lights Camera Lashes\",\n",
    "            showarrow=True,\n",
    "            arrowhead=1,\n",
    "            ax=20,\n",
    "            ay=-25)\n",
    "\n",
    "fig.add_annotation(x=1.690674, y=1.259013,\n",
    "            text=\"Sephora Collection<br>Size Up\",\n",
    "            showarrow=True,\n",
    "            arrowhead=1,\n",
    "            ax=20,\n",
    "            ay=25,\n",
    "            )\n",
    "\n",
    "\n",
    "# Line of best fit \n",
    "\n",
    "model = LinearRegression()\n",
    "model.fit(product_groups['Mini'].values.reshape(-1, 1), product_groups['Standard'].values.reshape(-1, 1) )\n",
    "\n",
    "x_range = np.linspace(min_value, max_value+1, 50)\n",
    "y_range = model.predict(x_range.reshape(-1, 1))\n",
    "\n",
    "b_0 = model.intercept_[0]\n",
    "b_1 = model.coef_[0][0]\n",
    "equation = f\"y={b_0:.2f}{b_1:+.2f}x\"\n",
    "fig.add_trace(go.Scatter(x=np.hstack(x_range), y=np.hstack(y_range),\n",
    "                    mode='lines',\n",
    "                    name=equation))\n",
    "\n",
    "fig.update_layout(\n",
    "    margin=dict(l=50, r=50, t=50, b=50),\n",
    "    template='simple_white',\n",
    "    yaxis_range=[0,10],\n",
    "    xaxis_range=[0,10],\n",
    "    yaxis_title=\"Mini Size Unit Price (CAD/mL)\",\n",
    "    xaxis_title=\"Standard Size Unit Price (CAD/mL)\",\n",
    "    title=dict(\n",
    "    text='Unit Prices of Mascaras with Standard and Mini variations<br><sup>Mini size products under the Equal Value curve are cheaper than Standard size versions</sup>',\n",
    "    x=0.5,\n",
    "    font=dict(\n",
    "        size=20\n",
    "    )),\n",
    ")\n",
    "\n",
    "fig.show()\n",
    "fig.write_image(\"../figures/scatter_mascara_mini_standard.png\", scale=10)\n"
   ]
  },
  {
   "cell_type": "code",
   "execution_count": null,
   "metadata": {},
   "outputs": [],
   "source": []
  }
 ],
 "metadata": {
  "kernelspec": {
   "display_name": "sephora",
   "language": "python",
   "name": "python3"
  },
  "language_info": {
   "codemirror_mode": {
    "name": "ipython",
    "version": 3
   },
   "file_extension": ".py",
   "mimetype": "text/x-python",
   "name": "python",
   "nbconvert_exporter": "python",
   "pygments_lexer": "ipython3",
   "version": "3.12.3"
  }
 },
 "nbformat": 4,
 "nbformat_minor": 2
}
