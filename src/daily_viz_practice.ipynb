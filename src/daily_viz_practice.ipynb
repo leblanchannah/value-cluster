{
 "cells": [
  {
   "cell_type": "code",
   "execution_count": 221,
   "metadata": {},
   "outputs": [],
   "source": [
    "import sqlite3\n",
    "import pandas as pd\n",
    "from urllib.parse import urlparse, parse_qs\n",
    "import re\n",
    "import numpy as np\n",
    "\n",
    "pd.set_option('display.max_columns', None)\n",
    "pd.set_option('display.max_rows', 50)\n",
    "pd.set_option('display.max_colwidth', 100)"
   ]
  },
  {
   "cell_type": "code",
   "execution_count": 222,
   "metadata": {},
   "outputs": [],
   "source": [
    "DB_FILE = \"../data/db/products.db\"\n",
    "conn = sqlite3.connect(DB_FILE)\n",
    "\n",
    "df = pd.read_sql_query(\"SELECT * FROM product_details\", conn)\n",
    "\n",
    "conn.close()\n"
   ]
  },
  {
   "cell_type": "code",
   "execution_count": 223,
   "metadata": {},
   "outputs": [],
   "source": [
    "# updates for database and webscraping code\n",
    "# TODO brand_source_id is not working - null\n",
    "# TODO remove \"root\" from category cols, reverse order of string inserted into db \n",
    "\n"
   ]
  },
  {
   "cell_type": "code",
   "execution_count": null,
   "metadata": {},
   "outputs": [],
   "source": [
    "df.columns"
   ]
  },
  {
   "cell_type": "code",
   "execution_count": 225,
   "metadata": {},
   "outputs": [],
   "source": [
    "def clean_compressed_product_hierarchy(df, col, delimiter=' --- ', code_prefix_to_strip='cat'):\n",
    "    clean_col = df[col].str.replace(code_prefix_to_strip,\"\")\n",
    "    clean_col = clean_col.str.split(delimiter)\n",
    "    clean_col = clean_col.apply(lambda x : x[::-1])\n",
    "\n",
    "    return pd.DataFrame(clean_col.to_list(), columns=[f'{col}_l1', f'{col}_l2', f'{col}_l3'])\n",
    "\n",
    "\n",
    "def parse_parent_code_from_url(url):\n",
    "    parsed_url = urlparse(url)\n",
    "    params = parse_qs(parsed_url.query)\n",
    "    return params.get('parentProduct', [None])\n",
    "\n",
    "\n",
    "def parse_size_data(entry):\n",
    "    size_pattern = r'(\\d+(?:\\.\\d+)?)\\s*(oz|ml|g|lb|kg|l)'\n",
    "    description_pattern = r'^(.*?)-'\n",
    "\n",
    "    sizes = re.findall(size_pattern, entry)\n",
    "    description = re.search(description_pattern, entry)\n",
    "    \n",
    "    return {\n",
    "        \"sizes\": sizes,  # List of all (value, unit) pairs\n",
    "        \"description\": description.group(1).strip() if description else None\n",
    "    }\n",
    "\n",
    "def split_sizes(size_list):\n",
    "    \"flatten tuple lists of sizes and units into separate cols\"\n",
    "    flat_list = [item for sublist in size_list for item in sublist]  # Flatten the list of tuples\n",
    "    return flat_list\n",
    "\n",
    "\n",
    "def common_unit_cols(df, unit_col, size_col):\n",
    "    df.loc[df[unit_col]=='g','unit_g'] = df[size_col]\n",
    "    df.loc[df[unit_col]=='ml','unit_ml'] = df[size_col]\n",
    "    df.loc[df[unit_col]=='oz','unit_oz'] = df[size_col]\n"
   ]
  },
  {
   "cell_type": "code",
   "execution_count": 226,
   "metadata": {},
   "outputs": [],
   "source": [
    "df = pd.concat([\n",
    "    df, \n",
    "    clean_compressed_product_hierarchy(df, 'category_root_id', delimiter=' --- ', code_prefix_to_strip='cat'),\n",
    "    clean_compressed_product_hierarchy(df, 'category_root_name', delimiter=' --- ', code_prefix_to_strip=''),\n",
    "    clean_compressed_product_hierarchy(df, 'category_root_url', delimiter=' --- ', code_prefix_to_strip='/shop/')\n",
    "], axis=1)\n",
    "\n",
    "df = df.drop(['category_root_id', 'category_root_name', 'category_root_url'], axis=1)\n",
    "\n",
    "df['parent_product_code'] = df['url'].apply(lambda x : parse_parent_code_from_url(x)[0])\n",
    "\n",
    "df['price'] = df['price'].str.strip('$').astype(float)\n",
    "\n",
    "df['size'] = df['size'].str.lower()\n",
    "df_size = pd.DataFrame.from_records(df['size'].apply(parse_size_data))\n",
    "max_pairs = df_size[\"sizes\"].apply(len).max()  # Determine the maximum number of size-unit pairs\n",
    "\n",
    "for i in range(max_pairs):\n",
    "    df_size[f\"size_{i+1}\"] = df_size[\"sizes\"].apply(lambda x: x[i][0] if i < len(x) else None)\n",
    "    df_size[f\"unit_{i+1}\"] = df_size[\"sizes\"].apply(lambda x: x[i][1] if i < len(x) else None)\n",
    "\n",
    "# Drop the original \"sizes\" column if needed\n",
    "df_size.drop(columns=[\"sizes\"], inplace=True)\n",
    "\n",
    "df = pd.concat([df, df_size], axis=1)\n",
    "\n",
    "unit_cols = ['unit_1','unit_2','unit_3','unit_4']\n",
    "size_cols = ['size_1','size_2','size_3','size_4']\n",
    "\n",
    "# dropping products with no size data\n",
    "df = df[~df[size_cols].isna().all(axis=1)]\n",
    "\n",
    "df[size_cols] = df[size_cols].astype(float)\n",
    "\n",
    "df.loc[df['unit_2'] == 'l', 'size_2'] = df['size_2'].astype(float)*1000.0\n",
    "df.loc[df['unit_2'] == 'l', 'unit_2'] = 'ml'\n",
    "\n",
    "df['unit_g'] = np.nan\n",
    "df['unit_ml'] = np.nan\n",
    "df['unit_oz'] = np.nan\n",
    "\n",
    "common_unit_cols(df, 'unit_1', 'size_1')\n",
    "common_unit_cols(df, 'unit_2', 'size_2')\n",
    "\n",
    "print(f\"found (g) {df[df['unit_g'].notnull()].shape[0]}\")\n",
    "print(f\"found (ml) {df[df['unit_ml'].notnull()].shape[0]}\")\n",
    "print(f\"found (oz) {df[df['unit_oz'].notnull()].shape[0]}\")"
   ]
  },
  {
   "cell_type": "code",
   "execution_count": 227,
   "metadata": {},
   "outputs": [],
   "source": []
  },
  {
   "cell_type": "code",
   "execution_count": null,
   "metadata": {},
   "outputs": [],
   "source": [
    "# unit 1 has more oz info\n",
    "display(df['unit_1'].value_counts())\n",
    "\n",
    "# unit 2 has more ml info \n",
    "display(df['unit_2'].value_counts())\n",
    "\n",
    "# could be helpful to have 3 columns - oz, g, ml"
   ]
  },
  {
   "cell_type": "code",
   "execution_count": null,
   "metadata": {},
   "outputs": [],
   "source": [
    "df.groupby(['unit_1','unit_2'])['id'].count()"
   ]
  },
  {
   "cell_type": "code",
   "execution_count": null,
   "metadata": {},
   "outputs": [],
   "source": [
    "\n"
   ]
  },
  {
   "cell_type": "code",
   "execution_count": null,
   "metadata": {},
   "outputs": [],
   "source": []
  }
 ],
 "metadata": {
  "kernelspec": {
   "display_name": "base",
   "language": "python",
   "name": "python3"
  },
  "language_info": {
   "codemirror_mode": {
    "name": "ipython",
    "version": 3
   },
   "file_extension": ".py",
   "mimetype": "text/x-python",
   "name": "python",
   "nbconvert_exporter": "python",
   "pygments_lexer": "ipython3",
   "version": "3.12.2"
  }
 },
 "nbformat": 4,
 "nbformat_minor": 2
}
