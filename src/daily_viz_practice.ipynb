{
 "cells": [
  {
   "cell_type": "code",
   "execution_count": 1,
   "metadata": {},
   "outputs": [],
   "source": [
    "\n",
    "import pandas as pd\n",
    "import numpy as np\n",
    "import plotly.express as px\n",
    "\n",
    "pd.set_option('display.max_columns', None)\n",
    "pd.set_option('display.max_rows', 50)\n",
    "pd.set_option('display.max_colwidth', 100)"
   ]
  },
  {
   "cell_type": "code",
   "execution_count": 2,
   "metadata": {},
   "outputs": [],
   "source": [
    "# updates for database and webscraping code\n",
    "# TODO brand_source_id is not working - null\n",
    "# TODO remove \"root\" from category cols, reverse order of string inserted into db \n",
    "# no actual product names in data - adjust displayname col\n"
   ]
  },
  {
   "cell_type": "code",
   "execution_count": 3,
   "metadata": {},
   "outputs": [],
   "source": [
    "df = pd.read_csv('../data/preprocessed_data.csv')"
   ]
  },
  {
   "cell_type": "markdown",
   "metadata": {},
   "source": [
    "## Day 1 - Basic scatter, mascara pricing at sephora"
   ]
  },
  {
   "cell_type": "code",
   "execution_count": null,
   "metadata": {},
   "outputs": [],
   "source": [
    "df.loc[df['size_refinement'].isna(),'size_refinement'] = 'Standard'\n",
    "mascaras = df[df['category_root_name_l3']=='Mascara']\n",
    "\n",
    "\n",
    "fig = px.scatter(\n",
    "    mascaras, \n",
    "    x=\"unit_ml\", \n",
    "    y=\"price\", \n",
    "    symbol='size_refinement', \n",
    "    color='value_CAD_ml',\n",
    "    opacity=0.8,\n",
    "    title='Mascara pricing at Sephora (Jan 2025)',\n",
    "    color_continuous_scale=px.colors.sequential.Agsunset,\n",
    "    custom_data=[\"brand_name\", \"target_url\", \"product_code\"]  # Add additional custom data\n",
    ")\n",
    "\n",
    "fig.update_traces(\n",
    "    marker=dict(\n",
    "        size=14,\n",
    "        line=dict(\n",
    "            width=1,\n",
    "            color='black'\n",
    "        )\n",
    "    ),\n",
    "    selector=dict(mode='markers'),\n",
    "    hovertemplate=(\n",
    "            \"<b>Product Code:</b> %{customdata[2]}<br>\" +\n",
    "            \"<b>Brand:</b> %{customdata[0]}<br>\" +\n",
    "            \"<b>Product URL:</b> %{customdata[1]}<br>\" +\n",
    "            \"<b>Price (CAD):</b> %{y}<br>\" +\n",
    "            \"<b>Volume (mL):</b> %{x}<br>\" +\n",
    "            \"<b>Unit Price (CAD/mL):</b> %{marker.color:.2}\"\n",
    "    )    \n",
    ")\n",
    "\n",
    "fig.update_layout(\n",
    "    # width=750,\n",
    "    # height=500, \n",
    "    title=dict(x=0.5),\n",
    "    legend=dict(\n",
    "        yanchor=\"top\",\n",
    "        y=0.99,\n",
    "        xanchor=\"left\",\n",
    "        x=0.01\n",
    "    ),\n",
    "    margin=dict(l=50, r=50, t=50, b=50),\n",
    "    template='simple_white',\n",
    "    xaxis_title=\"Volume (mL)\", \n",
    "    yaxis_title=\"Price (CAD)\",\n",
    "    coloraxis=dict(\n",
    "        colorbar=dict(\n",
    "            title=dict(\n",
    "                text=\"Unit Price <br>(CAD/mL)\", \n",
    "                side=\"top\"      \n",
    "            ),\n",
    "            outlinecolor=\"black\",  \n",
    "            outlinewidth=1,     \n",
    "            tickcolor=\"black\",\n",
    "            tickfont=dict(color=\"black\") \n",
    "        )\n",
    "    )\n",
    ")\n",
    "\n",
    "fig.show(renderer=\"png\", height=400, width=600, scale=10)\n",
    "\n",
    "fig.write_html(\"../figures/dynamic/scatter_mascara_pricing.html\")\n",
    "fig.write_image(\"../figures//scatter_mascara_pricing.png\", height=400, width=600, scale=10)\n"
   ]
  }
 ],
 "metadata": {
  "kernelspec": {
   "display_name": "base",
   "language": "python",
   "name": "python3"
  },
  "language_info": {
   "codemirror_mode": {
    "name": "ipython",
    "version": 3
   },
   "file_extension": ".py",
   "mimetype": "text/x-python",
   "name": "python",
   "nbconvert_exporter": "python",
   "pygments_lexer": "ipython3",
   "version": "3.12.2"
  }
 },
 "nbformat": 4,
 "nbformat_minor": 2
}
