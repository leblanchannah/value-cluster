{
 "cells": [
  {
   "cell_type": "code",
   "execution_count": 1,
   "metadata": {},
   "outputs": [],
   "source": [
    "import sqlite3\n",
    "import pandas as pd\n",
    "from urllib.parse import urlparse, parse_qs\n",
    "\n",
    "pd.set_option('display.max_columns', None)\n",
    "pd.set_option('display.max_rows', 50)\n",
    "pd.set_option('display.max_colwidth', 100)"
   ]
  },
  {
   "cell_type": "code",
   "execution_count": 66,
   "metadata": {},
   "outputs": [],
   "source": [
    "DB_FILE = \"../data/db/products.db\"\n",
    "conn = sqlite3.connect(DB_FILE)\n",
    "\n",
    "df = pd.read_sql_query(\"SELECT * FROM product_details\", conn)\n",
    "\n",
    "conn.close()\n"
   ]
  },
  {
   "cell_type": "code",
   "execution_count": 8,
   "metadata": {},
   "outputs": [],
   "source": [
    "# updates for database and webscraping code\n",
    "# TODO brand_source_id is not working - null\n",
    "# TODO remove \"root\" from category cols, reverse order of string inserted into db \n",
    "\n",
    "# data cleaning\n",
    "# TODO clean size column \n",
    "\n"
   ]
  },
  {
   "cell_type": "code",
   "execution_count": 67,
   "metadata": {},
   "outputs": [
    {
     "data": {
      "text/plain": [
       "Index(['id', 'target_url', 'product_code', 'loves_count', 'rating', 'reviews',\n",
       "       'brand_source_id', 'category_root_id', 'category_root_name',\n",
       "       'category_root_url', 'sku_id', 'brand_name', 'display_name',\n",
       "       'ingredients', 'limited_edition', 'first_access', 'limited_time_offer',\n",
       "       'new_product', 'online_only', 'few_left', 'out_of_stock', 'price',\n",
       "       'max_purchase_quantity', 'size', 'type', 'url', 'variation_type',\n",
       "       'variation_value', 'returnable', 'finish_refinement', 'size_refinement',\n",
       "       'created_at'],\n",
       "      dtype='object')"
      ]
     },
     "execution_count": 67,
     "metadata": {},
     "output_type": "execute_result"
    }
   ],
   "source": [
    "df.columns"
   ]
  },
  {
   "cell_type": "code",
   "execution_count": 77,
   "metadata": {},
   "outputs": [],
   "source": [
    "def clean_compressed_product_hierarchy(df, col, delimiter=' --- ', code_prefix_to_strip='cat'):\n",
    "    clean_col = df[col].str.replace(code_prefix_to_strip,\"\")\n",
    "    clean_col = clean_col.str.split(delimiter)\n",
    "    clean_col = clean_col.apply(lambda x : x[::-1])\n",
    "\n",
    "    return pd.DataFrame(clean_col.to_list(), columns=[f'{col}_l1', f'{col}_l2', f'{col}_l3'])\n",
    "\n",
    "\n",
    "def parse_parent_code_from_url(url):\n",
    "    parsed_url = urlparse(url)\n",
    "    params = parse_qs(parsed_url.query)\n",
    "    return params.get('parentProduct', [None])\n"
   ]
  },
  {
   "cell_type": "code",
   "execution_count": 69,
   "metadata": {},
   "outputs": [],
   "source": [
    "df = pd.concat([\n",
    "    df, \n",
    "    clean_compressed_product_hierarchy(df, 'category_root_id', delimiter=' --- ', code_prefix_to_strip='cat'),\n",
    "    clean_compressed_product_hierarchy(df, 'category_root_name', delimiter=' --- ', code_prefix_to_strip=''),\n",
    "    clean_compressed_product_hierarchy(df, 'category_root_url', delimiter=' --- ', code_prefix_to_strip='/shop/')\n",
    "], axis=1)\n",
    "\n",
    "df = df.drop(['category_root_id', 'category_root_name', 'category_root_url'], axis=1)\n",
    "\n",
    "df['parent_product_code'] = df['url'].apply(lambda x : parse_parent_code_from_url(x)[0])\n",
    "\n",
    "df['price'] = df['price'].str.strip('$').astype(float)\n"
   ]
  },
  {
   "cell_type": "code",
   "execution_count": 71,
   "metadata": {},
   "outputs": [
    {
     "data": {
      "text/plain": [
       "category_root_name_l1\n",
       "Makeup             15243\n",
       "Skincare            2620\n",
       "Fragrance           2208\n",
       "Hair                1655\n",
       "Bath & Body          516\n",
       "Mini Size            360\n",
       "Tools & Brushes       35\n",
       "Gifts                 34\n",
       "Men                   11\n",
       "Name: count, dtype: int64"
      ]
     },
     "execution_count": 71,
     "metadata": {},
     "output_type": "execute_result"
    }
   ],
   "source": [
    "df['category_root_name_l1'].value_counts()"
   ]
  },
  {
   "cell_type": "code",
   "execution_count": 78,
   "metadata": {},
   "outputs": [],
   "source": [
    "\n",
    "\n",
    "# parentProduct=P512478"
   ]
  },
  {
   "cell_type": "code",
   "execution_count": 80,
   "metadata": {},
   "outputs": [
    {
     "data": {
      "text/plain": [
       "parent_product_code\n",
       "P393401      138\n",
       "P377873      118\n",
       "P87985432    118\n",
       "P378284      112\n",
       "P468353       94\n",
       "            ... \n",
       "P504886        1\n",
       "P428956        1\n",
       "P474872        1\n",
       "P243320        1\n",
       "P506156        1\n",
       "Name: count, Length: 2425, dtype: int64"
      ]
     },
     "execution_count": 80,
     "metadata": {},
     "output_type": "execute_result"
    }
   ],
   "source": [
    "df['parent_product_code'].value_counts()"
   ]
  },
  {
   "cell_type": "code",
   "execution_count": null,
   "metadata": {},
   "outputs": [
    {
     "data": {
      "text/plain": [
       "0         47.0\n",
       "1         46.0\n",
       "2         65.0\n",
       "3         48.0\n",
       "4         53.0\n",
       "         ...  \n",
       "22677     43.5\n",
       "22678    127.0\n",
       "22679     43.5\n",
       "22680     34.0\n",
       "22681     43.5\n",
       "Name: price, Length: 22682, dtype: float64"
      ]
     },
     "execution_count": 84,
     "metadata": {},
     "output_type": "execute_result"
    }
   ],
   "source": []
  },
  {
   "cell_type": "code",
   "execution_count": null,
   "metadata": {},
   "outputs": [],
   "source": []
  }
 ],
 "metadata": {
  "kernelspec": {
   "display_name": "base",
   "language": "python",
   "name": "python3"
  },
  "language_info": {
   "codemirror_mode": {
    "name": "ipython",
    "version": 3
   },
   "file_extension": ".py",
   "mimetype": "text/x-python",
   "name": "python",
   "nbconvert_exporter": "python",
   "pygments_lexer": "ipython3",
   "version": "3.12.2"
  }
 },
 "nbformat": 4,
 "nbformat_minor": 2
}
